{
  "nbformat": 4,
  "nbformat_minor": 0,
  "metadata": {
    "kernelspec": {
      "display_name": "Python 3",
      "language": "python",
      "name": "python3"
    },
    "language_info": {
      "codemirror_mode": {
        "name": "ipython",
        "version": 3
      },
      "file_extension": ".py",
      "mimetype": "text/x-python",
      "name": "python",
      "nbconvert_exporter": "python",
      "pygments_lexer": "ipython3",
      "version": "3.8.2"
    },
    "toc": {
      "base_numbering": 1,
      "nav_menu": {},
      "number_sections": true,
      "sideBar": true,
      "skip_h1_title": false,
      "title_cell": "Table of Contents",
      "title_sidebar": "Contents",
      "toc_cell": false,
      "toc_position": {},
      "toc_section_display": true,
      "toc_window_display": false
    },
    "colab": {
      "name": "Homework_3_shortest_path_Bar.ipynb",
      "provenance": [],
      "include_colab_link": true
    },
    "accelerator": "GPU",
    "widgets": {
      "application/vnd.jupyter.widget-state+json": {
        "cdafbe4fc82a4fa7b9b2b0458f187155": {
          "model_module": "@jupyter-widgets/controls",
          "model_name": "HBoxModel",
          "state": {
            "_view_name": "HBoxView",
            "_dom_classes": [],
            "_model_name": "HBoxModel",
            "_view_module": "@jupyter-widgets/controls",
            "_model_module_version": "1.5.0",
            "_view_count": null,
            "_view_module_version": "1.5.0",
            "box_style": "",
            "layout": "IPY_MODEL_0872dc397568463fa69a9f3ac12a5d1a",
            "_model_module": "@jupyter-widgets/controls",
            "children": [
              "IPY_MODEL_da14c2b2b7dc46fe97acf9a55a5574f8",
              "IPY_MODEL_22766a860e5a4c518d53b57678c23dd0"
            ]
          }
        },
        "0872dc397568463fa69a9f3ac12a5d1a": {
          "model_module": "@jupyter-widgets/base",
          "model_name": "LayoutModel",
          "state": {
            "_view_name": "LayoutView",
            "grid_template_rows": null,
            "right": null,
            "justify_content": null,
            "_view_module": "@jupyter-widgets/base",
            "overflow": null,
            "_model_module_version": "1.2.0",
            "_view_count": null,
            "flex_flow": null,
            "width": null,
            "min_width": null,
            "border": null,
            "align_items": null,
            "bottom": null,
            "_model_module": "@jupyter-widgets/base",
            "top": null,
            "grid_column": null,
            "overflow_y": null,
            "overflow_x": null,
            "grid_auto_flow": null,
            "grid_area": null,
            "grid_template_columns": null,
            "flex": null,
            "_model_name": "LayoutModel",
            "justify_items": null,
            "grid_row": null,
            "max_height": null,
            "align_content": null,
            "visibility": null,
            "align_self": null,
            "height": null,
            "min_height": null,
            "padding": null,
            "grid_auto_rows": null,
            "grid_gap": null,
            "max_width": null,
            "order": null,
            "_view_module_version": "1.2.0",
            "grid_template_areas": null,
            "object_position": null,
            "object_fit": null,
            "grid_auto_columns": null,
            "margin": null,
            "display": null,
            "left": null
          }
        },
        "da14c2b2b7dc46fe97acf9a55a5574f8": {
          "model_module": "@jupyter-widgets/controls",
          "model_name": "FloatProgressModel",
          "state": {
            "_view_name": "ProgressView",
            "style": "IPY_MODEL_1426f036281b4a74929b2d11cf652b2a",
            "_dom_classes": [],
            "description": "100%",
            "_model_name": "FloatProgressModel",
            "bar_style": "success",
            "max": 10000,
            "_view_module": "@jupyter-widgets/controls",
            "_model_module_version": "1.5.0",
            "value": 10000,
            "_view_count": null,
            "_view_module_version": "1.5.0",
            "orientation": "horizontal",
            "min": 0,
            "description_tooltip": null,
            "_model_module": "@jupyter-widgets/controls",
            "layout": "IPY_MODEL_edb6ac536042420abe1c7d55c26a3863"
          }
        },
        "22766a860e5a4c518d53b57678c23dd0": {
          "model_module": "@jupyter-widgets/controls",
          "model_name": "HTMLModel",
          "state": {
            "_view_name": "HTMLView",
            "style": "IPY_MODEL_f4ed7355f70b4ee59640750541134490",
            "_dom_classes": [],
            "description": "",
            "_model_name": "HTMLModel",
            "placeholder": "​",
            "_view_module": "@jupyter-widgets/controls",
            "_model_module_version": "1.5.0",
            "value": " 10000/10000 [00:38&lt;00:00, 262.59it/s]",
            "_view_count": null,
            "_view_module_version": "1.5.0",
            "description_tooltip": null,
            "_model_module": "@jupyter-widgets/controls",
            "layout": "IPY_MODEL_2df8829ab1244386a545d4529b2d9d52"
          }
        },
        "1426f036281b4a74929b2d11cf652b2a": {
          "model_module": "@jupyter-widgets/controls",
          "model_name": "ProgressStyleModel",
          "state": {
            "_view_name": "StyleView",
            "_model_name": "ProgressStyleModel",
            "description_width": "initial",
            "_view_module": "@jupyter-widgets/base",
            "_model_module_version": "1.5.0",
            "_view_count": null,
            "_view_module_version": "1.2.0",
            "bar_color": null,
            "_model_module": "@jupyter-widgets/controls"
          }
        },
        "edb6ac536042420abe1c7d55c26a3863": {
          "model_module": "@jupyter-widgets/base",
          "model_name": "LayoutModel",
          "state": {
            "_view_name": "LayoutView",
            "grid_template_rows": null,
            "right": null,
            "justify_content": null,
            "_view_module": "@jupyter-widgets/base",
            "overflow": null,
            "_model_module_version": "1.2.0",
            "_view_count": null,
            "flex_flow": null,
            "width": null,
            "min_width": null,
            "border": null,
            "align_items": null,
            "bottom": null,
            "_model_module": "@jupyter-widgets/base",
            "top": null,
            "grid_column": null,
            "overflow_y": null,
            "overflow_x": null,
            "grid_auto_flow": null,
            "grid_area": null,
            "grid_template_columns": null,
            "flex": null,
            "_model_name": "LayoutModel",
            "justify_items": null,
            "grid_row": null,
            "max_height": null,
            "align_content": null,
            "visibility": null,
            "align_self": null,
            "height": null,
            "min_height": null,
            "padding": null,
            "grid_auto_rows": null,
            "grid_gap": null,
            "max_width": null,
            "order": null,
            "_view_module_version": "1.2.0",
            "grid_template_areas": null,
            "object_position": null,
            "object_fit": null,
            "grid_auto_columns": null,
            "margin": null,
            "display": null,
            "left": null
          }
        },
        "f4ed7355f70b4ee59640750541134490": {
          "model_module": "@jupyter-widgets/controls",
          "model_name": "DescriptionStyleModel",
          "state": {
            "_view_name": "StyleView",
            "_model_name": "DescriptionStyleModel",
            "description_width": "",
            "_view_module": "@jupyter-widgets/base",
            "_model_module_version": "1.5.0",
            "_view_count": null,
            "_view_module_version": "1.2.0",
            "_model_module": "@jupyter-widgets/controls"
          }
        },
        "2df8829ab1244386a545d4529b2d9d52": {
          "model_module": "@jupyter-widgets/base",
          "model_name": "LayoutModel",
          "state": {
            "_view_name": "LayoutView",
            "grid_template_rows": null,
            "right": null,
            "justify_content": null,
            "_view_module": "@jupyter-widgets/base",
            "overflow": null,
            "_model_module_version": "1.2.0",
            "_view_count": null,
            "flex_flow": null,
            "width": null,
            "min_width": null,
            "border": null,
            "align_items": null,
            "bottom": null,
            "_model_module": "@jupyter-widgets/base",
            "top": null,
            "grid_column": null,
            "overflow_y": null,
            "overflow_x": null,
            "grid_auto_flow": null,
            "grid_area": null,
            "grid_template_columns": null,
            "flex": null,
            "_model_name": "LayoutModel",
            "justify_items": null,
            "grid_row": null,
            "max_height": null,
            "align_content": null,
            "visibility": null,
            "align_self": null,
            "height": null,
            "min_height": null,
            "padding": null,
            "grid_auto_rows": null,
            "grid_gap": null,
            "max_width": null,
            "order": null,
            "_view_module_version": "1.2.0",
            "grid_template_areas": null,
            "object_position": null,
            "object_fit": null,
            "grid_auto_columns": null,
            "margin": null,
            "display": null,
            "left": null
          }
        },
        "8a02f63aef7a41dbabfe0e9a5fe5e78e": {
          "model_module": "@jupyter-widgets/controls",
          "model_name": "HBoxModel",
          "state": {
            "_view_name": "HBoxView",
            "_dom_classes": [],
            "_model_name": "HBoxModel",
            "_view_module": "@jupyter-widgets/controls",
            "_model_module_version": "1.5.0",
            "_view_count": null,
            "_view_module_version": "1.5.0",
            "box_style": "",
            "layout": "IPY_MODEL_6c7e441f436444f98c836aac5d4a2de5",
            "_model_module": "@jupyter-widgets/controls",
            "children": [
              "IPY_MODEL_c205eda37011499395432825101330b7",
              "IPY_MODEL_44401e6bd79e411897ca8e8b61f42936"
            ]
          }
        },
        "6c7e441f436444f98c836aac5d4a2de5": {
          "model_module": "@jupyter-widgets/base",
          "model_name": "LayoutModel",
          "state": {
            "_view_name": "LayoutView",
            "grid_template_rows": null,
            "right": null,
            "justify_content": null,
            "_view_module": "@jupyter-widgets/base",
            "overflow": null,
            "_model_module_version": "1.2.0",
            "_view_count": null,
            "flex_flow": null,
            "width": null,
            "min_width": null,
            "border": null,
            "align_items": null,
            "bottom": null,
            "_model_module": "@jupyter-widgets/base",
            "top": null,
            "grid_column": null,
            "overflow_y": null,
            "overflow_x": null,
            "grid_auto_flow": null,
            "grid_area": null,
            "grid_template_columns": null,
            "flex": null,
            "_model_name": "LayoutModel",
            "justify_items": null,
            "grid_row": null,
            "max_height": null,
            "align_content": null,
            "visibility": null,
            "align_self": null,
            "height": null,
            "min_height": null,
            "padding": null,
            "grid_auto_rows": null,
            "grid_gap": null,
            "max_width": null,
            "order": null,
            "_view_module_version": "1.2.0",
            "grid_template_areas": null,
            "object_position": null,
            "object_fit": null,
            "grid_auto_columns": null,
            "margin": null,
            "display": null,
            "left": null
          }
        },
        "c205eda37011499395432825101330b7": {
          "model_module": "@jupyter-widgets/controls",
          "model_name": "FloatProgressModel",
          "state": {
            "_view_name": "ProgressView",
            "style": "IPY_MODEL_7d25b2ff3cd24ec38275a58ea923e837",
            "_dom_classes": [],
            "description": "100%",
            "_model_name": "FloatProgressModel",
            "bar_style": "success",
            "max": 10000,
            "_view_module": "@jupyter-widgets/controls",
            "_model_module_version": "1.5.0",
            "value": 10000,
            "_view_count": null,
            "_view_module_version": "1.5.0",
            "orientation": "horizontal",
            "min": 0,
            "description_tooltip": null,
            "_model_module": "@jupyter-widgets/controls",
            "layout": "IPY_MODEL_5757ee4bbf574e96a34ead3d37efa110"
          }
        },
        "44401e6bd79e411897ca8e8b61f42936": {
          "model_module": "@jupyter-widgets/controls",
          "model_name": "HTMLModel",
          "state": {
            "_view_name": "HTMLView",
            "style": "IPY_MODEL_7c46235a0873447383c16c63a169e059",
            "_dom_classes": [],
            "description": "",
            "_model_name": "HTMLModel",
            "placeholder": "​",
            "_view_module": "@jupyter-widgets/controls",
            "_model_module_version": "1.5.0",
            "value": " 10000/10000 [00:48&lt;00:00, 204.67it/s]",
            "_view_count": null,
            "_view_module_version": "1.5.0",
            "description_tooltip": null,
            "_model_module": "@jupyter-widgets/controls",
            "layout": "IPY_MODEL_53fedfe2a4074507bb306c1fa93a29b8"
          }
        },
        "7d25b2ff3cd24ec38275a58ea923e837": {
          "model_module": "@jupyter-widgets/controls",
          "model_name": "ProgressStyleModel",
          "state": {
            "_view_name": "StyleView",
            "_model_name": "ProgressStyleModel",
            "description_width": "initial",
            "_view_module": "@jupyter-widgets/base",
            "_model_module_version": "1.5.0",
            "_view_count": null,
            "_view_module_version": "1.2.0",
            "bar_color": null,
            "_model_module": "@jupyter-widgets/controls"
          }
        },
        "5757ee4bbf574e96a34ead3d37efa110": {
          "model_module": "@jupyter-widgets/base",
          "model_name": "LayoutModel",
          "state": {
            "_view_name": "LayoutView",
            "grid_template_rows": null,
            "right": null,
            "justify_content": null,
            "_view_module": "@jupyter-widgets/base",
            "overflow": null,
            "_model_module_version": "1.2.0",
            "_view_count": null,
            "flex_flow": null,
            "width": null,
            "min_width": null,
            "border": null,
            "align_items": null,
            "bottom": null,
            "_model_module": "@jupyter-widgets/base",
            "top": null,
            "grid_column": null,
            "overflow_y": null,
            "overflow_x": null,
            "grid_auto_flow": null,
            "grid_area": null,
            "grid_template_columns": null,
            "flex": null,
            "_model_name": "LayoutModel",
            "justify_items": null,
            "grid_row": null,
            "max_height": null,
            "align_content": null,
            "visibility": null,
            "align_self": null,
            "height": null,
            "min_height": null,
            "padding": null,
            "grid_auto_rows": null,
            "grid_gap": null,
            "max_width": null,
            "order": null,
            "_view_module_version": "1.2.0",
            "grid_template_areas": null,
            "object_position": null,
            "object_fit": null,
            "grid_auto_columns": null,
            "margin": null,
            "display": null,
            "left": null
          }
        },
        "7c46235a0873447383c16c63a169e059": {
          "model_module": "@jupyter-widgets/controls",
          "model_name": "DescriptionStyleModel",
          "state": {
            "_view_name": "StyleView",
            "_model_name": "DescriptionStyleModel",
            "description_width": "",
            "_view_module": "@jupyter-widgets/base",
            "_model_module_version": "1.5.0",
            "_view_count": null,
            "_view_module_version": "1.2.0",
            "_model_module": "@jupyter-widgets/controls"
          }
        },
        "53fedfe2a4074507bb306c1fa93a29b8": {
          "model_module": "@jupyter-widgets/base",
          "model_name": "LayoutModel",
          "state": {
            "_view_name": "LayoutView",
            "grid_template_rows": null,
            "right": null,
            "justify_content": null,
            "_view_module": "@jupyter-widgets/base",
            "overflow": null,
            "_model_module_version": "1.2.0",
            "_view_count": null,
            "flex_flow": null,
            "width": null,
            "min_width": null,
            "border": null,
            "align_items": null,
            "bottom": null,
            "_model_module": "@jupyter-widgets/base",
            "top": null,
            "grid_column": null,
            "overflow_y": null,
            "overflow_x": null,
            "grid_auto_flow": null,
            "grid_area": null,
            "grid_template_columns": null,
            "flex": null,
            "_model_name": "LayoutModel",
            "justify_items": null,
            "grid_row": null,
            "max_height": null,
            "align_content": null,
            "visibility": null,
            "align_self": null,
            "height": null,
            "min_height": null,
            "padding": null,
            "grid_auto_rows": null,
            "grid_gap": null,
            "max_width": null,
            "order": null,
            "_view_module_version": "1.2.0",
            "grid_template_areas": null,
            "object_position": null,
            "object_fit": null,
            "grid_auto_columns": null,
            "margin": null,
            "display": null,
            "left": null
          }
        }
      }
    }
  },
  "cells": [
    {
      "cell_type": "markdown",
      "metadata": {
        "id": "view-in-github",
        "colab_type": "text"
      },
      "source": [
        "<a href=\"https://colab.research.google.com/github/BarAvni/deep_learning_2020/blob/master/Homework_3_shortest_path_Bar.ipynb\" target=\"_parent\"><img src=\"https://colab.research.google.com/assets/colab-badge.svg\" alt=\"Open In Colab\"/></a>"
      ]
    },
    {
      "cell_type": "code",
      "metadata": {
        "id": "Kwo_tvtbvW6N",
        "colab_type": "code",
        "colab": {
          "base_uri": "https://localhost:8080/",
          "height": 322
        },
        "outputId": "d770a56d-cf74-4322-f094-c896a8d2da12"
      },
      "source": [
        "!pip install dgl\n",
        "import dgl\n",
        "import dgl.function as fn\n",
        "import torch\n",
        "import torch.nn as nn\n",
        "import torch.nn.functional as F\n",
        "from dgl import DGLGraph\n",
        "from torch.utils.data import Dataset, DataLoader\n",
        "import glob\n",
        "import json\n",
        "from tqdm.notebook import tqdm\n",
        "import torch.optim as optim\n",
        "import numpy as np\n",
        "import networkx as nx\n",
        "import time\n",
        "\n",
        "import matplotlib.pyplot as plt"
      ],
      "execution_count": 1,
      "outputs": [
        {
          "output_type": "stream",
          "text": [
            "Collecting dgl\n",
            "\u001b[?25l  Downloading https://files.pythonhosted.org/packages/c5/b4/84e4ebd70ef3985181ef5d2d2a366a45af0e3cd18d249fb212ac03f683cf/dgl-0.4.3.post2-cp36-cp36m-manylinux1_x86_64.whl (3.0MB)\n",
            "\r\u001b[K     |                                | 10kB 16.1MB/s eta 0:00:01\r\u001b[K     |▏                               | 20kB 1.3MB/s eta 0:00:03\r\u001b[K     |▎                               | 30kB 1.6MB/s eta 0:00:02\r\u001b[K     |▍                               | 40kB 1.5MB/s eta 0:00:02\r\u001b[K     |▌                               | 51kB 1.8MB/s eta 0:00:02\r\u001b[K     |▋                               | 61kB 2.0MB/s eta 0:00:02\r\u001b[K     |▊                               | 71kB 2.2MB/s eta 0:00:02\r\u001b[K     |▉                               | 81kB 2.3MB/s eta 0:00:02\r\u001b[K     |█                               | 92kB 2.3MB/s eta 0:00:02\r\u001b[K     |█                               | 102kB 2.3MB/s eta 0:00:02\r\u001b[K     |█▏                              | 112kB 2.3MB/s eta 0:00:02\r\u001b[K     |█▎                              | 122kB 2.3MB/s eta 0:00:02\r\u001b[K     |█▍                              | 133kB 2.3MB/s eta 0:00:02\r\u001b[K     |█▌                              | 143kB 2.3MB/s eta 0:00:02\r\u001b[K     |█▋                              | 153kB 2.3MB/s eta 0:00:02\r\u001b[K     |█▊                              | 163kB 2.3MB/s eta 0:00:02\r\u001b[K     |█▉                              | 174kB 2.3MB/s eta 0:00:02\r\u001b[K     |██                              | 184kB 2.3MB/s eta 0:00:02\r\u001b[K     |██                              | 194kB 2.3MB/s eta 0:00:02\r\u001b[K     |██▏                             | 204kB 2.3MB/s eta 0:00:02\r\u001b[K     |██▎                             | 215kB 2.3MB/s eta 0:00:02\r\u001b[K     |██▍                             | 225kB 2.3MB/s eta 0:00:02\r\u001b[K     |██▌                             | 235kB 2.3MB/s eta 0:00:02\r\u001b[K     |██▋                             | 245kB 2.3MB/s eta 0:00:02\r\u001b[K     |██▊                             | 256kB 2.3MB/s eta 0:00:02\r\u001b[K     |██▉                             | 266kB 2.3MB/s eta 0:00:02\r\u001b[K     |███                             | 276kB 2.3MB/s eta 0:00:02\r\u001b[K     |███                             | 286kB 2.3MB/s eta 0:00:02\r\u001b[K     |███▏                            | 296kB 2.3MB/s eta 0:00:02\r\u001b[K     |███▎                            | 307kB 2.3MB/s eta 0:00:02\r\u001b[K     |███▍                            | 317kB 2.3MB/s eta 0:00:02\r\u001b[K     |███▌                            | 327kB 2.3MB/s eta 0:00:02\r\u001b[K     |███▋                            | 337kB 2.3MB/s eta 0:00:02\r\u001b[K     |███▊                            | 348kB 2.3MB/s eta 0:00:02\r\u001b[K     |███▉                            | 358kB 2.3MB/s eta 0:00:02\r\u001b[K     |████                            | 368kB 2.3MB/s eta 0:00:02\r\u001b[K     |████                            | 378kB 2.3MB/s eta 0:00:02\r\u001b[K     |████▏                           | 389kB 2.3MB/s eta 0:00:02\r\u001b[K     |████▎                           | 399kB 2.3MB/s eta 0:00:02\r\u001b[K     |████▍                           | 409kB 2.3MB/s eta 0:00:02\r\u001b[K     |████▌                           | 419kB 2.3MB/s eta 0:00:02\r\u001b[K     |████▋                           | 430kB 2.3MB/s eta 0:00:02\r\u001b[K     |████▊                           | 440kB 2.3MB/s eta 0:00:02\r\u001b[K     |████▉                           | 450kB 2.3MB/s eta 0:00:02\r\u001b[K     |█████                           | 460kB 2.3MB/s eta 0:00:02\r\u001b[K     |█████                           | 471kB 2.3MB/s eta 0:00:02\r\u001b[K     |█████▏                          | 481kB 2.3MB/s eta 0:00:02\r\u001b[K     |█████▎                          | 491kB 2.3MB/s eta 0:00:02\r\u001b[K     |█████▍                          | 501kB 2.3MB/s eta 0:00:02\r\u001b[K     |█████▌                          | 512kB 2.3MB/s eta 0:00:02\r\u001b[K     |█████▋                          | 522kB 2.3MB/s eta 0:00:02\r\u001b[K     |█████▊                          | 532kB 2.3MB/s eta 0:00:02\r\u001b[K     |█████▉                          | 542kB 2.3MB/s eta 0:00:02\r\u001b[K     |██████                          | 552kB 2.3MB/s eta 0:00:02\r\u001b[K     |██████                          | 563kB 2.3MB/s eta 0:00:02\r\u001b[K     |██████▏                         | 573kB 2.3MB/s eta 0:00:02\r\u001b[K     |██████▎                         | 583kB 2.3MB/s eta 0:00:02\r\u001b[K     |██████▍                         | 593kB 2.3MB/s eta 0:00:02\r\u001b[K     |██████▌                         | 604kB 2.3MB/s eta 0:00:02\r\u001b[K     |██████▋                         | 614kB 2.3MB/s eta 0:00:02\r\u001b[K     |██████▊                         | 624kB 2.3MB/s eta 0:00:01\r\u001b[K     |██████▉                         | 634kB 2.3MB/s eta 0:00:01\r\u001b[K     |███████                         | 645kB 2.3MB/s eta 0:00:01\r\u001b[K     |███████                         | 655kB 2.3MB/s eta 0:00:01\r\u001b[K     |███████▏                        | 665kB 2.3MB/s eta 0:00:01\r\u001b[K     |███████▎                        | 675kB 2.3MB/s eta 0:00:01\r\u001b[K     |███████▍                        | 686kB 2.3MB/s eta 0:00:01\r\u001b[K     |███████▌                        | 696kB 2.3MB/s eta 0:00:01\r\u001b[K     |███████▋                        | 706kB 2.3MB/s eta 0:00:01\r\u001b[K     |███████▊                        | 716kB 2.3MB/s eta 0:00:01\r\u001b[K     |███████▉                        | 727kB 2.3MB/s eta 0:00:01\r\u001b[K     |████████                        | 737kB 2.3MB/s eta 0:00:01\r\u001b[K     |████████                        | 747kB 2.3MB/s eta 0:00:01\r\u001b[K     |████████▏                       | 757kB 2.3MB/s eta 0:00:01\r\u001b[K     |████████▎                       | 768kB 2.3MB/s eta 0:00:01\r\u001b[K     |████████▍                       | 778kB 2.3MB/s eta 0:00:01\r\u001b[K     |████████▌                       | 788kB 2.3MB/s eta 0:00:01\r\u001b[K     |████████▋                       | 798kB 2.3MB/s eta 0:00:01\r\u001b[K     |████████▊                       | 808kB 2.3MB/s eta 0:00:01\r\u001b[K     |████████▉                       | 819kB 2.3MB/s eta 0:00:01\r\u001b[K     |█████████                       | 829kB 2.3MB/s eta 0:00:01\r\u001b[K     |█████████                       | 839kB 2.3MB/s eta 0:00:01\r\u001b[K     |█████████▏                      | 849kB 2.3MB/s eta 0:00:01\r\u001b[K     |█████████▎                      | 860kB 2.3MB/s eta 0:00:01\r\u001b[K     |█████████▍                      | 870kB 2.3MB/s eta 0:00:01\r\u001b[K     |█████████▌                      | 880kB 2.3MB/s eta 0:00:01\r\u001b[K     |█████████▋                      | 890kB 2.3MB/s eta 0:00:01\r\u001b[K     |█████████▊                      | 901kB 2.3MB/s eta 0:00:01\r\u001b[K     |█████████▉                      | 911kB 2.3MB/s eta 0:00:01\r\u001b[K     |██████████                      | 921kB 2.3MB/s eta 0:00:01\r\u001b[K     |██████████                      | 931kB 2.3MB/s eta 0:00:01\r\u001b[K     |██████████▏                     | 942kB 2.3MB/s eta 0:00:01\r\u001b[K     |██████████▎                     | 952kB 2.3MB/s eta 0:00:01\r\u001b[K     |██████████▍                     | 962kB 2.3MB/s eta 0:00:01\r\u001b[K     |██████████▌                     | 972kB 2.3MB/s eta 0:00:01\r\u001b[K     |██████████▋                     | 983kB 2.3MB/s eta 0:00:01\r\u001b[K     |██████████▊                     | 993kB 2.3MB/s eta 0:00:01\r\u001b[K     |██████████▉                     | 1.0MB 2.3MB/s eta 0:00:01\r\u001b[K     |███████████                     | 1.0MB 2.3MB/s eta 0:00:01\r\u001b[K     |███████████                     | 1.0MB 2.3MB/s eta 0:00:01\r\u001b[K     |███████████▏                    | 1.0MB 2.3MB/s eta 0:00:01\r\u001b[K     |███████████▎                    | 1.0MB 2.3MB/s eta 0:00:01\r\u001b[K     |███████████▍                    | 1.1MB 2.3MB/s eta 0:00:01\r\u001b[K     |███████████▌                    | 1.1MB 2.3MB/s eta 0:00:01\r\u001b[K     |███████████▋                    | 1.1MB 2.3MB/s eta 0:00:01\r\u001b[K     |███████████▊                    | 1.1MB 2.3MB/s eta 0:00:01\r\u001b[K     |███████████▉                    | 1.1MB 2.3MB/s eta 0:00:01\r\u001b[K     |████████████                    | 1.1MB 2.3MB/s eta 0:00:01\r\u001b[K     |████████████                    | 1.1MB 2.3MB/s eta 0:00:01\r\u001b[K     |████████████▏                   | 1.1MB 2.3MB/s eta 0:00:01\r\u001b[K     |████████████▎                   | 1.1MB 2.3MB/s eta 0:00:01\r\u001b[K     |████████████▍                   | 1.1MB 2.3MB/s eta 0:00:01\r\u001b[K     |████████████▌                   | 1.2MB 2.3MB/s eta 0:00:01\r\u001b[K     |████████████▋                   | 1.2MB 2.3MB/s eta 0:00:01\r\u001b[K     |████████████▊                   | 1.2MB 2.3MB/s eta 0:00:01\r\u001b[K     |████████████▉                   | 1.2MB 2.3MB/s eta 0:00:01\r\u001b[K     |█████████████                   | 1.2MB 2.3MB/s eta 0:00:01\r\u001b[K     |█████████████                   | 1.2MB 2.3MB/s eta 0:00:01\r\u001b[K     |█████████████▏                  | 1.2MB 2.3MB/s eta 0:00:01\r\u001b[K     |█████████████▎                  | 1.2MB 2.3MB/s eta 0:00:01\r\u001b[K     |█████████████▍                  | 1.2MB 2.3MB/s eta 0:00:01\r\u001b[K     |█████████████▌                  | 1.2MB 2.3MB/s eta 0:00:01\r\u001b[K     |█████████████▋                  | 1.3MB 2.3MB/s eta 0:00:01\r\u001b[K     |█████████████▊                  | 1.3MB 2.3MB/s eta 0:00:01\r\u001b[K     |█████████████▉                  | 1.3MB 2.3MB/s eta 0:00:01\r\u001b[K     |██████████████                  | 1.3MB 2.3MB/s eta 0:00:01\r\u001b[K     |██████████████                  | 1.3MB 2.3MB/s eta 0:00:01\r\u001b[K     |██████████████▏                 | 1.3MB 2.3MB/s eta 0:00:01\r\u001b[K     |██████████████▎                 | 1.3MB 2.3MB/s eta 0:00:01\r\u001b[K     |██████████████▍                 | 1.3MB 2.3MB/s eta 0:00:01\r\u001b[K     |██████████████▌                 | 1.3MB 2.3MB/s eta 0:00:01\r\u001b[K     |██████████████▋                 | 1.4MB 2.3MB/s eta 0:00:01\r\u001b[K     |██████████████▊                 | 1.4MB 2.3MB/s eta 0:00:01\r\u001b[K     |██████████████▉                 | 1.4MB 2.3MB/s eta 0:00:01\r\u001b[K     |███████████████                 | 1.4MB 2.3MB/s eta 0:00:01\r\u001b[K     |███████████████                 | 1.4MB 2.3MB/s eta 0:00:01\r\u001b[K     |███████████████▏                | 1.4MB 2.3MB/s eta 0:00:01\r\u001b[K     |███████████████▎                | 1.4MB 2.3MB/s eta 0:00:01\r\u001b[K     |███████████████▍                | 1.4MB 2.3MB/s eta 0:00:01\r\u001b[K     |███████████████▌                | 1.4MB 2.3MB/s eta 0:00:01\r\u001b[K     |███████████████▋                | 1.4MB 2.3MB/s eta 0:00:01\r\u001b[K     |███████████████▊                | 1.5MB 2.3MB/s eta 0:00:01\r\u001b[K     |███████████████▉                | 1.5MB 2.3MB/s eta 0:00:01\r\u001b[K     |████████████████                | 1.5MB 2.3MB/s eta 0:00:01\r\u001b[K     |████████████████                | 1.5MB 2.3MB/s eta 0:00:01\r\u001b[K     |████████████████▏               | 1.5MB 2.3MB/s eta 0:00:01\r\u001b[K     |████████████████▎               | 1.5MB 2.3MB/s eta 0:00:01\r\u001b[K     |████████████████▍               | 1.5MB 2.3MB/s eta 0:00:01\r\u001b[K     |████████████████▌               | 1.5MB 2.3MB/s eta 0:00:01\r\u001b[K     |████████████████▋               | 1.5MB 2.3MB/s eta 0:00:01\r\u001b[K     |████████████████▊               | 1.5MB 2.3MB/s eta 0:00:01\r\u001b[K     |████████████████▉               | 1.6MB 2.3MB/s eta 0:00:01\r\u001b[K     |█████████████████               | 1.6MB 2.3MB/s eta 0:00:01\r\u001b[K     |█████████████████               | 1.6MB 2.3MB/s eta 0:00:01\r\u001b[K     |█████████████████▏              | 1.6MB 2.3MB/s eta 0:00:01\r\u001b[K     |█████████████████▎              | 1.6MB 2.3MB/s eta 0:00:01\r\u001b[K     |█████████████████▍              | 1.6MB 2.3MB/s eta 0:00:01\r\u001b[K     |█████████████████▌              | 1.6MB 2.3MB/s eta 0:00:01\r\u001b[K     |█████████████████▋              | 1.6MB 2.3MB/s eta 0:00:01\r\u001b[K     |█████████████████▋              | 1.6MB 2.3MB/s eta 0:00:01\r\u001b[K     |█████████████████▊              | 1.6MB 2.3MB/s eta 0:00:01\r\u001b[K     |█████████████████▉              | 1.7MB 2.3MB/s eta 0:00:01\r\u001b[K     |██████████████████              | 1.7MB 2.3MB/s eta 0:00:01\r\u001b[K     |██████████████████              | 1.7MB 2.3MB/s eta 0:00:01\r\u001b[K     |██████████████████▏             | 1.7MB 2.3MB/s eta 0:00:01\r\u001b[K     |██████████████████▎             | 1.7MB 2.3MB/s eta 0:00:01\r\u001b[K     |██████████████████▍             | 1.7MB 2.3MB/s eta 0:00:01\r\u001b[K     |██████████████████▌             | 1.7MB 2.3MB/s eta 0:00:01\r\u001b[K     |██████████████████▋             | 1.7MB 2.3MB/s eta 0:00:01\r\u001b[K     |██████████████████▊             | 1.7MB 2.3MB/s eta 0:00:01\r\u001b[K     |██████████████████▉             | 1.8MB 2.3MB/s eta 0:00:01\r\u001b[K     |███████████████████             | 1.8MB 2.3MB/s eta 0:00:01\r\u001b[K     |███████████████████             | 1.8MB 2.3MB/s eta 0:00:01\r\u001b[K     |███████████████████▏            | 1.8MB 2.3MB/s eta 0:00:01\r\u001b[K     |███████████████████▎            | 1.8MB 2.3MB/s eta 0:00:01\r\u001b[K     |███████████████████▍            | 1.8MB 2.3MB/s eta 0:00:01\r\u001b[K     |███████████████████▌            | 1.8MB 2.3MB/s eta 0:00:01\r\u001b[K     |███████████████████▋            | 1.8MB 2.3MB/s eta 0:00:01\r\u001b[K     |███████████████████▊            | 1.8MB 2.3MB/s eta 0:00:01\r\u001b[K     |███████████████████▉            | 1.8MB 2.3MB/s eta 0:00:01\r\u001b[K     |████████████████████            | 1.9MB 2.3MB/s eta 0:00:01\r\u001b[K     |████████████████████            | 1.9MB 2.3MB/s eta 0:00:01\r\u001b[K     |████████████████████▏           | 1.9MB 2.3MB/s eta 0:00:01\r\u001b[K     |████████████████████▎           | 1.9MB 2.3MB/s eta 0:00:01\r\u001b[K     |████████████████████▍           | 1.9MB 2.3MB/s eta 0:00:01\r\u001b[K     |████████████████████▌           | 1.9MB 2.3MB/s eta 0:00:01\r\u001b[K     |████████████████████▋           | 1.9MB 2.3MB/s eta 0:00:01\r\u001b[K     |████████████████████▊           | 1.9MB 2.3MB/s eta 0:00:01\r\u001b[K     |████████████████████▉           | 1.9MB 2.3MB/s eta 0:00:01\r\u001b[K     |█████████████████████           | 1.9MB 2.3MB/s eta 0:00:01\r\u001b[K     |█████████████████████           | 2.0MB 2.3MB/s eta 0:00:01\r\u001b[K     |█████████████████████▏          | 2.0MB 2.3MB/s eta 0:00:01\r\u001b[K     |█████████████████████▎          | 2.0MB 2.3MB/s eta 0:00:01\r\u001b[K     |█████████████████████▍          | 2.0MB 2.3MB/s eta 0:00:01\r\u001b[K     |█████████████████████▌          | 2.0MB 2.3MB/s eta 0:00:01\r\u001b[K     |█████████████████████▋          | 2.0MB 2.3MB/s eta 0:00:01\r\u001b[K     |█████████████████████▊          | 2.0MB 2.3MB/s eta 0:00:01\r\u001b[K     |█████████████████████▉          | 2.0MB 2.3MB/s eta 0:00:01\r\u001b[K     |██████████████████████          | 2.0MB 30kB/s eta 0:00:31\r\u001b[K     |██████████████████████          | 2.0MB 30kB/s eta 0:00:31\r\u001b[K     |██████████████████████▏         | 2.1MB 30kB/s eta 0:00:31\r\u001b[K     |██████████████████████▎         | 2.1MB 30kB/s eta 0:00:30\r\u001b[K     |██████████████████████▍         | 2.1MB 30kB/s eta 0:00:30\r\u001b[K     |██████████████████████▌         | 2.1MB 30kB/s eta 0:00:30\r\u001b[K     |██████████████████████▋         | 2.1MB 30kB/s eta 0:00:29\r\u001b[K     |██████████████████████▊         | 2.1MB 30kB/s eta 0:00:29\r\u001b[K     |██████████████████████▉         | 2.1MB 30kB/s eta 0:00:29\r\u001b[K     |███████████████████████         | 2.1MB 30kB/s eta 0:00:28\r\u001b[K     |███████████████████████         | 2.1MB 30kB/s eta 0:00:28\r\u001b[K     |███████████████████████▏        | 2.2MB 30kB/s eta 0:00:28\r\u001b[K     |███████████████████████▎        | 2.2MB 30kB/s eta 0:00:27\r\u001b[K     |███████████████████████▍        | 2.2MB 30kB/s eta 0:00:27\r\u001b[K     |███████████████████████▌        | 2.2MB 30kB/s eta 0:00:27\r\u001b[K     |███████████████████████▋        | 2.2MB 30kB/s eta 0:00:26\r\u001b[K     |███████████████████████▊        | 2.2MB 30kB/s eta 0:00:26\r\u001b[K     |███████████████████████▉        | 2.2MB 30kB/s eta 0:00:26\r\u001b[K     |████████████████████████        | 2.2MB 30kB/s eta 0:00:25\r\u001b[K     |████████████████████████        | 2.2MB 30kB/s eta 0:00:25\r\u001b[K     |████████████████████████▏       | 2.2MB 30kB/s eta 0:00:25\r\u001b[K     |████████████████████████▎       | 2.3MB 30kB/s eta 0:00:24\r\u001b[K     |████████████████████████▍       | 2.3MB 30kB/s eta 0:00:24\r\u001b[K     |████████████████████████▌       | 2.3MB 30kB/s eta 0:00:24\r\u001b[K     |████████████████████████▋       | 2.3MB 30kB/s eta 0:00:23\r\u001b[K     |████████████████████████▊       | 2.3MB 30kB/s eta 0:00:23\r\u001b[K     |████████████████████████▉       | 2.3MB 30kB/s eta 0:00:23\r\u001b[K     |█████████████████████████       | 2.3MB 30kB/s eta 0:00:22\r\u001b[K     |█████████████████████████       | 2.3MB 30kB/s eta 0:00:22\r\u001b[K     |█████████████████████████▏      | 2.3MB 30kB/s eta 0:00:22\r\u001b[K     |█████████████████████████▎      | 2.3MB 30kB/s eta 0:00:21\r\u001b[K     |█████████████████████████▍      | 2.4MB 30kB/s eta 0:00:21\r\u001b[K     |█████████████████████████▌      | 2.4MB 30kB/s eta 0:00:21\r\u001b[K     |█████████████████████████▋      | 2.4MB 30kB/s eta 0:00:20\r\u001b[K     |█████████████████████████▊      | 2.4MB 30kB/s eta 0:00:20\r\u001b[K     |█████████████████████████▉      | 2.4MB 30kB/s eta 0:00:20\r\u001b[K     |██████████████████████████      | 2.4MB 30kB/s eta 0:00:19\r\u001b[K     |██████████████████████████      | 2.4MB 30kB/s eta 0:00:19\r\u001b[K     |██████████████████████████▏     | 2.4MB 30kB/s eta 0:00:18\r\u001b[K     |██████████████████████████▎     | 2.4MB 30kB/s eta 0:00:18\r\u001b[K     |██████████████████████████▍     | 2.4MB 30kB/s eta 0:00:18\r\u001b[K     |██████████████████████████▌     | 2.5MB 30kB/s eta 0:00:17\r\u001b[K     |██████████████████████████▋     | 2.5MB 30kB/s eta 0:00:17\r\u001b[K     |██████████████████████████▊     | 2.5MB 30kB/s eta 0:00:17\r\u001b[K     |██████████████████████████▉     | 2.5MB 30kB/s eta 0:00:16\r\u001b[K     |███████████████████████████     | 2.5MB 30kB/s eta 0:00:16\r\u001b[K     |███████████████████████████     | 2.5MB 30kB/s eta 0:00:16\r\u001b[K     |███████████████████████████▏    | 2.5MB 30kB/s eta 0:00:15\r\u001b[K     |███████████████████████████▎    | 2.5MB 30kB/s eta 0:00:15\r\u001b[K     |███████████████████████████▍    | 2.5MB 30kB/s eta 0:00:15\r\u001b[K     |███████████████████████████▌    | 2.5MB 30kB/s eta 0:00:14\r\u001b[K     |███████████████████████████▋    | 2.6MB 30kB/s eta 0:00:14\r\u001b[K     |███████████████████████████▊    | 2.6MB 30kB/s eta 0:00:14\r\u001b[K     |███████████████████████████▉    | 2.6MB 30kB/s eta 0:00:13\r\u001b[K     |████████████████████████████    | 2.6MB 30kB/s eta 0:00:13\r\u001b[K     |████████████████████████████    | 2.6MB 30kB/s eta 0:00:13\r\u001b[K     |████████████████████████████▏   | 2.6MB 30kB/s eta 0:00:12\r\u001b[K     |████████████████████████████▎   | 2.6MB 30kB/s eta 0:00:12\r\u001b[K     |████████████████████████████▍   | 2.6MB 30kB/s eta 0:00:12\r\u001b[K     |████████████████████████████▌   | 2.6MB 30kB/s eta 0:00:11\r\u001b[K     |████████████████████████████▋   | 2.7MB 30kB/s eta 0:00:11\r\u001b[K     |████████████████████████████▊   | 2.7MB 30kB/s eta 0:00:11\r\u001b[K     |████████████████████████████▉   | 2.7MB 30kB/s eta 0:00:10\r\u001b[K     |█████████████████████████████   | 2.7MB 30kB/s eta 0:00:10\r\u001b[K     |█████████████████████████████   | 2.7MB 30kB/s eta 0:00:10\r\u001b[K     |█████████████████████████████▏  | 2.7MB 30kB/s eta 0:00:09\r\u001b[K     |█████████████████████████████▎  | 2.7MB 30kB/s eta 0:00:09\r\u001b[K     |█████████████████████████████▍  | 2.7MB 30kB/s eta 0:00:09\r\u001b[K     |█████████████████████████████▌  | 2.7MB 30kB/s eta 0:00:08\r\u001b[K     |█████████████████████████████▋  | 2.7MB 30kB/s eta 0:00:08\r\u001b[K     |█████████████████████████████▊  | 2.8MB 30kB/s eta 0:00:08\r\u001b[K     |█████████████████████████████▉  | 2.8MB 30kB/s eta 0:00:07\r\u001b[K     |██████████████████████████████  | 2.8MB 30kB/s eta 0:00:07\r\u001b[K     |██████████████████████████████  | 2.8MB 30kB/s eta 0:00:07\r\u001b[K     |██████████████████████████████▏ | 2.8MB 30kB/s eta 0:00:06\r\u001b[K     |██████████████████████████████▎ | 2.8MB 30kB/s eta 0:00:06\r\u001b[K     |██████████████████████████████▍ | 2.8MB 30kB/s eta 0:00:06\r\u001b[K     |██████████████████████████████▌ | 2.8MB 30kB/s eta 0:00:05\r\u001b[K     |██████████████████████████████▋ | 2.8MB 30kB/s eta 0:00:05\r\u001b[K     |██████████████████████████████▊ | 2.8MB 30kB/s eta 0:00:05\r\u001b[K     |██████████████████████████████▉ | 2.9MB 30kB/s eta 0:00:04\r\u001b[K     |███████████████████████████████ | 2.9MB 30kB/s eta 0:00:04\r\u001b[K     |███████████████████████████████ | 2.9MB 30kB/s eta 0:00:04\r\u001b[K     |███████████████████████████████▏| 2.9MB 30kB/s eta 0:00:03\r\u001b[K     |███████████████████████████████▎| 2.9MB 30kB/s eta 0:00:03\r\u001b[K     |███████████████████████████████▍| 2.9MB 30kB/s eta 0:00:02\r\u001b[K     |███████████████████████████████▌| 2.9MB 30kB/s eta 0:00:02\r\u001b[K     |███████████████████████████████▋| 2.9MB 30kB/s eta 0:00:02\r\u001b[K     |███████████████████████████████▊| 2.9MB 30kB/s eta 0:00:01\r\u001b[K     |███████████████████████████████▉| 2.9MB 30kB/s eta 0:00:01\r\u001b[K     |████████████████████████████████| 3.0MB 30kB/s eta 0:00:01\r\u001b[K     |████████████████████████████████| 3.0MB 30kB/s \n",
            "\u001b[?25hRequirement already satisfied: numpy>=1.14.0 in /usr/local/lib/python3.6/dist-packages (from dgl) (1.18.5)\n",
            "Requirement already satisfied: scipy>=1.1.0 in /usr/local/lib/python3.6/dist-packages (from dgl) (1.4.1)\n",
            "Requirement already satisfied: requests>=2.19.0 in /usr/local/lib/python3.6/dist-packages (from dgl) (2.23.0)\n",
            "Requirement already satisfied: networkx>=2.1 in /usr/local/lib/python3.6/dist-packages (from dgl) (2.4)\n",
            "Requirement already satisfied: certifi>=2017.4.17 in /usr/local/lib/python3.6/dist-packages (from requests>=2.19.0->dgl) (2020.4.5.2)\n",
            "Requirement already satisfied: idna<3,>=2.5 in /usr/local/lib/python3.6/dist-packages (from requests>=2.19.0->dgl) (2.9)\n",
            "Requirement already satisfied: chardet<4,>=3.0.2 in /usr/local/lib/python3.6/dist-packages (from requests>=2.19.0->dgl) (3.0.4)\n",
            "Requirement already satisfied: urllib3!=1.25.0,!=1.25.1,<1.26,>=1.21.1 in /usr/local/lib/python3.6/dist-packages (from requests>=2.19.0->dgl) (1.24.3)\n",
            "Requirement already satisfied: decorator>=4.3.0 in /usr/local/lib/python3.6/dist-packages (from networkx>=2.1->dgl) (4.4.2)\n",
            "Installing collected packages: dgl\n",
            "Successfully installed dgl-0.4.3.post2\n"
          ],
          "name": "stdout"
        },
        {
          "output_type": "stream",
          "text": [
            "DGL backend not selected or invalid.  Assuming PyTorch for now.\n",
            "Using backend: pytorch\n"
          ],
          "name": "stderr"
        },
        {
          "output_type": "stream",
          "text": [
            "Setting the default backend to \"pytorch\". You can change it in the ~/.dgl/config.json file or export the DGLBACKEND environment variable.  Valid options are: pytorch, mxnet, tensorflow (all lowercase)\n"
          ],
          "name": "stdout"
        }
      ]
    },
    {
      "cell_type": "code",
      "metadata": {
        "id": "mf-mgHJBvW62",
        "colab_type": "code",
        "colab": {
          "base_uri": "https://localhost:8080/",
          "height": 440
        },
        "outputId": "6bd10e48-107a-4cfc-b889-9e9dbdb06d9e"
      },
      "source": [
        "!wget https://www.dropbox.com/sh/rl0uf65qyyrwx86/AAAQKpWUsOqX-EkXT-9R533va?dl=0\n",
        "!unzip -qq AAAQKpWUsOqX-EkXT-9R533va?dl=0\n",
        "!unzip -qq training_data.zip\n",
        "!unzip -qq test_data.zip\n",
        "path_to_ds = 'training_data/'\n",
        "path_to_test_ds = 'test_data/'"
      ],
      "execution_count": 2,
      "outputs": [
        {
          "output_type": "stream",
          "text": [
            "--2020-06-22 04:35:18--  https://www.dropbox.com/sh/rl0uf65qyyrwx86/AAAQKpWUsOqX-EkXT-9R533va?dl=0\n",
            "Resolving www.dropbox.com (www.dropbox.com)... 162.125.82.1, 2620:100:6032:1::a27d:5201\n",
            "Connecting to www.dropbox.com (www.dropbox.com)|162.125.82.1|:443... connected.\n",
            "HTTP request sent, awaiting response... 301 Moved Permanently\n",
            "Location: /sh/raw/rl0uf65qyyrwx86/AAAQKpWUsOqX-EkXT-9R533va [following]\n",
            "--2020-06-22 04:35:19--  https://www.dropbox.com/sh/raw/rl0uf65qyyrwx86/AAAQKpWUsOqX-EkXT-9R533va\n",
            "Reusing existing connection to www.dropbox.com:443.\n",
            "HTTP request sent, awaiting response... 302 Found\n",
            "Location: https://uc2b260b41bb79be0569addbabc2.dl.dropboxusercontent.com/zip_download_get/AdiV_WUtFS88i6e150xZhMAfByuHJw3Z4L1T9ehtNP6Eam-kc3tsaBPrP9BUjlxQ991tsoR4yczhcnUnUdrxkBP3frdfgJrluE_dr_CNiD-7yg [following]\n",
            "--2020-06-22 04:35:19--  https://uc2b260b41bb79be0569addbabc2.dl.dropboxusercontent.com/zip_download_get/AdiV_WUtFS88i6e150xZhMAfByuHJw3Z4L1T9ehtNP6Eam-kc3tsaBPrP9BUjlxQ991tsoR4yczhcnUnUdrxkBP3frdfgJrluE_dr_CNiD-7yg\n",
            "Resolving uc2b260b41bb79be0569addbabc2.dl.dropboxusercontent.com (uc2b260b41bb79be0569addbabc2.dl.dropboxusercontent.com)... 162.125.82.15, 2620:100:6032:15::a27d:520f\n",
            "Connecting to uc2b260b41bb79be0569addbabc2.dl.dropboxusercontent.com (uc2b260b41bb79be0569addbabc2.dl.dropboxusercontent.com)|162.125.82.15|:443... connected.\n",
            "HTTP request sent, awaiting response... 200 OK\n",
            "Length: 29027139 (28M) [application/zip]\n",
            "Saving to: ‘AAAQKpWUsOqX-EkXT-9R533va?dl=0’\n",
            "\n",
            "AAAQKpWUsOqX-EkXT-9 100%[===================>]  27.68M  3.12MB/s    in 8.9s    \n",
            "\n",
            "2020-06-22 04:35:30 (3.12 MB/s) - ‘AAAQKpWUsOqX-EkXT-9R533va?dl=0’ saved [29027139/29027139]\n",
            "\n",
            "warning:  stripped absolute path spec from /\n",
            "mapname:  conversion of  failed\n",
            "\n",
            "1 archive had fatal errors.\n"
          ],
          "name": "stdout"
        }
      ]
    },
    {
      "cell_type": "code",
      "metadata": {
        "id": "SK6GtQI2vW7j",
        "colab_type": "code",
        "colab": {}
      },
      "source": [
        "class CustomDataset(Dataset):\n",
        "    \n",
        "    def __init__(self, path):\n",
        "        filelist = glob.glob(path+'/*.json')\n",
        "        self.graphs = []\n",
        "        for fname in tqdm(filelist):\n",
        "            with open(fname) as jfile:\n",
        "                graph = nx.node_link_graph(json.load(jfile))\n",
        "                g = dgl.DGLGraph()\n",
        "                g.from_networkx(graph,node_attrs=['node_features'],edge_attrs=['distance','on_path'])        \n",
        "                self.graphs.append(g)\n",
        "        \n",
        "    def __len__(self):      \n",
        "        return len(self.graphs)\n",
        "\n",
        "    def __getitem__(self, idx):    \n",
        "        return self.graphs[idx], self.graphs[idx].edata['on_path']"
      ],
      "execution_count": 3,
      "outputs": []
    },
    {
      "cell_type": "code",
      "metadata": {
        "id": "hIVccqpxvW8O",
        "colab_type": "code",
        "colab": {
          "base_uri": "https://localhost:8080/",
          "height": 114,
          "referenced_widgets": [
            "cdafbe4fc82a4fa7b9b2b0458f187155",
            "0872dc397568463fa69a9f3ac12a5d1a",
            "da14c2b2b7dc46fe97acf9a55a5574f8",
            "22766a860e5a4c518d53b57678c23dd0",
            "1426f036281b4a74929b2d11cf652b2a",
            "edb6ac536042420abe1c7d55c26a3863",
            "f4ed7355f70b4ee59640750541134490",
            "2df8829ab1244386a545d4529b2d9d52",
            "8a02f63aef7a41dbabfe0e9a5fe5e78e",
            "6c7e441f436444f98c836aac5d4a2de5",
            "c205eda37011499395432825101330b7",
            "44401e6bd79e411897ca8e8b61f42936",
            "7d25b2ff3cd24ec38275a58ea923e837",
            "5757ee4bbf574e96a34ead3d37efa110",
            "7c46235a0873447383c16c63a169e059",
            "53fedfe2a4074507bb306c1fa93a29b8"
          ]
        },
        "outputId": "b80a5597-cb1c-4bd5-ee12-5ffa0c1d1e33"
      },
      "source": [
        "train_ds = CustomDataset(path_to_ds)\n",
        "test_ds = CustomDataset(path_to_test_ds)"
      ],
      "execution_count": 4,
      "outputs": [
        {
          "output_type": "display_data",
          "data": {
            "application/vnd.jupyter.widget-view+json": {
              "model_id": "cdafbe4fc82a4fa7b9b2b0458f187155",
              "version_minor": 0,
              "version_major": 2
            },
            "text/plain": [
              "HBox(children=(FloatProgress(value=0.0, max=10000.0), HTML(value='')))"
            ]
          },
          "metadata": {
            "tags": []
          }
        },
        {
          "output_type": "stream",
          "text": [
            "\n"
          ],
          "name": "stdout"
        },
        {
          "output_type": "display_data",
          "data": {
            "application/vnd.jupyter.widget-view+json": {
              "model_id": "8a02f63aef7a41dbabfe0e9a5fe5e78e",
              "version_minor": 0,
              "version_major": 2
            },
            "text/plain": [
              "HBox(children=(FloatProgress(value=0.0, max=10000.0), HTML(value='')))"
            ]
          },
          "metadata": {
            "tags": []
          }
        },
        {
          "output_type": "stream",
          "text": [
            "\n"
          ],
          "name": "stdout"
        }
      ]
    },
    {
      "cell_type": "code",
      "metadata": {
        "id": "kDUsZlzOvW8k",
        "colab_type": "code",
        "colab": {
          "base_uri": "https://localhost:8080/",
          "height": 222
        },
        "outputId": "d345579d-e596-4d5a-ceb2-310dae63e18d"
      },
      "source": [
        "train_ds[495]"
      ],
      "execution_count": 5,
      "outputs": [
        {
          "output_type": "execute_result",
          "data": {
            "text/plain": [
              "(DGLGraph(num_nodes=47, num_edges=188,\n",
              "          ndata_schemes={'node_features': Scheme(shape=(2,), dtype=torch.float32)}\n",
              "          edata_schemes={'distance': Scheme(shape=(), dtype=torch.float32), 'on_path': Scheme(shape=(), dtype=torch.int64)}),\n",
              " tensor([0, 0, 0, 0, 0, 0, 0, 0, 0, 0, 0, 0, 1, 0, 0, 0, 0, 0, 0, 0, 0, 0, 0, 0,\n",
              "         0, 0, 0, 0, 0, 0, 1, 0, 0, 0, 0, 0, 0, 1, 0, 0, 0, 0, 0, 0, 0, 0, 0, 0,\n",
              "         0, 0, 1, 0, 0, 1, 0, 0, 0, 0, 0, 0, 0, 0, 0, 0, 0, 0, 0, 0, 0, 0, 0, 0,\n",
              "         0, 0, 0, 0, 0, 0, 0, 0, 0, 0, 0, 0, 0, 0, 0, 0, 0, 0, 0, 0, 0, 0, 0, 0,\n",
              "         0, 0, 0, 0, 0, 0, 0, 0, 0, 0, 0, 0, 0, 0, 0, 0, 0, 0, 0, 0, 0, 0, 0, 0,\n",
              "         0, 0, 0, 0, 0, 0, 0, 0, 0, 0, 1, 1, 0, 0, 0, 0, 0, 0, 0, 0, 0, 0, 0, 0,\n",
              "         0, 0, 1, 0, 0, 0, 0, 0, 0, 0, 0, 0, 0, 0, 0, 0, 0, 0, 0, 0, 0, 0, 0, 0,\n",
              "         0, 0, 0, 0, 0, 0, 0, 0, 0, 0, 0, 0, 0, 0, 0, 0, 0, 0, 0, 0]))"
            ]
          },
          "metadata": {
            "tags": []
          },
          "execution_count": 5
        }
      ]
    },
    {
      "cell_type": "code",
      "metadata": {
        "id": "6YoigjqQvW87",
        "colab_type": "code",
        "colab": {
          "base_uri": "https://localhost:8080/",
          "height": 319
        },
        "outputId": "de1fd556-ccc8-4ca5-faf8-6e2b6c91603e"
      },
      "source": [
        "nx.draw( dgl.to_networkx(train_ds[495][0]) )"
      ],
      "execution_count": 6,
      "outputs": [
        {
          "output_type": "display_data",
          "data": {
            "image/png": "[encoded data removed]",
            "text/plain": [
              "<Figure size 432x288 with 1 Axes>"
            ]
          },
          "metadata": {
            "tags": []
          }
        }
      ]
    },
    {
      "cell_type": "code",
      "metadata": {
        "id": "JQhjdNHmvW9l",
        "colab_type": "code",
        "colab": {}
      },
      "source": [
        "def collate(samples):\n",
        "    # The input `samples` is a list, a batch of whatever comes out of your dataset object   \n",
        "    graphs = [x[0] for x in samples]\n",
        "    labels = [x[1] for x in samples]\n",
        "    batched_graph = dgl.batch(graphs,node_attrs=['node_features'],edge_attrs=['distance'])\n",
        "    targets = torch.cat(labels)    \n",
        "    return batched_graph, targets.unsqueeze(1).float()"
      ],
      "execution_count": 7,
      "outputs": []
    },
    {
      "cell_type": "code",
      "metadata": {
        "id": "Mg_853TyvW-e",
        "colab_type": "code",
        "colab": {}
      },
      "source": [
        "node_hidden1 = 50\n",
        "edge_hidden1 = 50\n",
        "# node_out = 10"
      ],
      "execution_count": 8,
      "outputs": []
    },
    {
      "cell_type": "code",
      "metadata": {
        "id": "w2Kz5dkFvW-8",
        "colab_type": "code",
        "colab": {}
      },
      "source": [
        "import torch.nn as nn\n",
        "import torch.nn.functional as F\n",
        "\n",
        "\n",
        "#this function is the edge update function - \n",
        "\n",
        "class EdgeNetwork(nn.Module):\n",
        "    def __init__(self):\n",
        "        super(EdgeNetwork, self).__init__()\n",
        "        in_features = 2*(2+node_hidden1)+1\n",
        "        print('EdgeNetwork: ', in_features)\n",
        "        self.Sequent = nn.Sequential(\n",
        "            nn.Linear(in_features,edge_hidden1),\n",
        "            nn.ReLU(),\n",
        "            nn.Linear(edge_hidden1,edge_hidden1),\n",
        "            nn.ReLU()\n",
        "        )\n",
        "        \n",
        "    def forward(self, x):\n",
        "        \n",
        "        #your input x is an object with the following properties:\n",
        "        #x.dst['node_features'], x.dst['node_hidden_state']\n",
        "        #x.src['node_features'], x.src['node_hidden_state']\n",
        "        #x.data['distance']\n",
        "        \n",
        "        #put them together with torch.cat\n",
        "        \n",
        "        #use a neural network to create an edge hidden represetation - \n",
        "        \n",
        "        #you return a dictionary with what you want to \"send\" to the reciving node\n",
        "        \n",
        "#         print(\"dst: \", x.dst['node_features'].shape)\n",
        "#         print(\"dst_h: \", x.dst['node_hidden_state'].shape)\n",
        "#         print(\"src: \", x.src['node_features'].shape)\n",
        "#         print(\"src_h: \", x.src['node_hidden_state'].shape)\n",
        "#         print(\"distance: \", torch.unsqueeze(x.data['distance'],1).shape)        \n",
        "        x_cat = torch.cat((x.dst['node_features'], \n",
        "                  x.dst['node_hidden_state'], \n",
        "                  x.src['node_features'], \n",
        "                  x.src['node_hidden_state'],\n",
        "                  torch.unsqueeze(x.data['distance'],1)), 1)\n",
        "#         print(\"here3: \", x_cat.shape)\n",
        "        output = self.Sequent(x_cat)\n",
        "#         print(\"here4 - output: \", output.shape)\n",
        "        return {'edge hidden represetation': output }\n",
        "\n",
        "    \n",
        "class NodeNetwork(nn.Module):\n",
        "    def __init__(self):\n",
        "        super(NodeNetwork, self).__init__()\n",
        "        in_features = 2+edge_hidden1+node_hidden1\n",
        "        print('NodeNetwork: ', in_features)\n",
        "        self.Sequent = nn.Sequential(\n",
        "            nn.Linear(in_features,node_hidden1),\n",
        "            nn.LeakyReLU(),\n",
        "            nn.Linear(node_hidden1,node_hidden1),\n",
        "            nn.LeakyReLU()\n",
        "        )\n",
        "        \n",
        "    def forward(self, x):\n",
        "        #this time your input x has:\n",
        "        # x.mailbox['edge hidden represetation'] -> this is what you send with the edge update function above - \n",
        "        # it will have the size of the node neighborhood - \n",
        "        # (Batch size, number of nodes in neighborhood, edge hidden rep size), so you need to sum/mean over dim=1 \n",
        "        # x.data['node_hidden_state'] and x.data['node_features'] (this is the existing state of your node)\n",
        "        # you need to torch.cat the message sum, node hidden state, and node features \n",
        "        #- and then apply some fully connected neural network\n",
        "\n",
        "#         print(\"malibox: \", x.mailbox['edge hidden represetation'].sum(1).shape)\n",
        "#         print(\"data: \", x.data['node_features'].shape)\n",
        "#         print(\"data_h: \", x.data['node_hidden_state'].shape)\n",
        " \n",
        "        x_cat = torch.cat((\n",
        "            x.mailbox['edge hidden represetation'].sum(1),\n",
        "            x.data['node_features'],\n",
        "            x.data['node_hidden_state']\n",
        "        ), 1)\n",
        "        \n",
        "#         print(\"here1: \", x_cat.shape)\n",
        "        # return a new hidden state for the node\n",
        "        out = self.Sequent(x_cat)\n",
        "#         print(\"here2 - out: \", out.shape)\n",
        "        return {'node_hidden_state': out }\n",
        "\n",
        "\n",
        "class EdgeClassifier(nn.Module):\n",
        "    def __init__(self):\n",
        "        super(EdgeClassifier, self).__init__()\n",
        "        in_features = 2*(2+node_hidden1)+1\n",
        "        print('EdgeClassifier: ', in_features)\n",
        "        self.layer1 = nn.Sequential(\n",
        "            nn.Linear(in_features,1),\n",
        "            nn.Sigmoid()\n",
        "        )\n",
        "       \n",
        "    def forward(self, x):\n",
        "\n",
        "#         print(\"dst: \", x.dst['node_features'].shape)\n",
        "#         print(\"dst_h: \", x.dst['node_hidden_state'].shape)\n",
        "#         print(\"src: \", x.src['node_features'].shape)\n",
        "#         print(\"src_h: \", x.src['node_hidden_state'].shape)\n",
        "#         print(\"distance: \", torch.unsqueeze(x.data['distance'],1).shape)        \n",
        "        \n",
        "        x_cat = torch.cat((x.dst['node_features'], \n",
        "                  x.dst['node_hidden_state'], \n",
        "                  x.src['node_features'], \n",
        "                  x.src['node_hidden_state'],\n",
        "                  torch.unsqueeze(x.data['distance'],1)), 1)\n",
        "#         print(x_cat.shape)\n",
        "        out = self.layer1(x_cat)#torch.round(self.layer1(x_cat))\n",
        "        return {'edge_class_prediction': out }\n",
        "\n",
        "\n",
        "class Classifier(nn.Module):\n",
        "    def __init__(self):\n",
        "        super(Classifier, self).__init__()\n",
        "        \n",
        "        # you need to create a network that \n",
        "        # will initialize your node hidden state based only on the node features -\n",
        "        self.node_init = nn.Sequential(\n",
        "            nn.Linear(2,node_hidden1),\n",
        "            nn.ReLU(),\n",
        "        )\n",
        "        \n",
        "        self.edge_network = EdgeNetwork()\n",
        "        self.node_network = NodeNetwork()\n",
        "        \n",
        "        #this edge classifier is also an edge update function - \n",
        "        #but it needs to return something of size 1 (the edge class prediction)\n",
        "        #so either create a different model for this, or make the EdgeNetwork configurable\n",
        "        self.edge_classifier = EdgeClassifier()\n",
        "        \n",
        "    def forward(self, g):\n",
        "        \n",
        "        g.ndata['node_hidden_state'] = self.node_init(g.ndata['node_features'])\n",
        "        \n",
        "        for i in range(12):\n",
        "#             print(i, \": \", g.ndata['node_hidden_state'].shape)\n",
        "            g.update_all(self.edge_network,self.node_network)\n",
        "            \n",
        "        #we want to classify the edges - so finally apply your edge classifier -\n",
        "#         print(\"here\")\n",
        "        g.apply_edges(self.edge_classifier)\n",
        "        \n",
        "        #and extract its output \n",
        "        out = g.edata['edge_class_prediction']\n",
        "\n",
        "        \n",
        "        return out"
      ],
      "execution_count": 9,
      "outputs": []
    },
    {
      "cell_type": "code",
      "metadata": {
        "id": "ag2X7rKzvW_c",
        "colab_type": "code",
        "colab": {
          "base_uri": "https://localhost:8080/",
          "height": 67
        },
        "outputId": "651e450f-a182-46b7-c039-5da7ade06427"
      },
      "source": [
        "net = Classifier()\n",
        "net = net.to(torch.device('cuda'))\n",
        "data_loader = DataLoader(train_ds, batch_size=30, shuffle=True, collate_fn=collate)\n",
        "test_data_loader = DataLoader(test_ds, batch_size=30, shuffle=True, collate_fn=collate)\n",
        "# optimizer = optim.Adam(net.parameters(), lr=1e-2)\n",
        "# optimizer = optim.Adam(net.parameters(),lr=0.001,betas=(0.9, 0.999),eps=1e-08,weight_decay=0,amsgrad=False)\n",
        "optimizer = optim.SGD(net.parameters(), lr=1e-2, momentum=0.9)\n",
        "loss_func = nn.BCEWithLogitsLoss(pos_weight=20*torch.ones(1).to(torch.device('cuda')))"
      ],
      "execution_count": 10,
      "outputs": [
        {
          "output_type": "stream",
          "text": [
            "EdgeNetwork:  105\n",
            "NodeNetwork:  102\n",
            "EdgeClassifier:  105\n"
          ],
          "name": "stdout"
        }
      ]
    },
    {
      "cell_type": "code",
      "metadata": {
        "id": "0Vkge-FYvXAk",
        "colab_type": "code",
        "colab": {
          "base_uri": "https://localhost:8080/",
          "height": 1000
        },
        "outputId": "7a263a2b-4313-4b3d-d029-3bac50b62c72"
      },
      "source": [
        "# epoch_losses, epoch_val_losses = [], []\n",
        "\n",
        "for epoch in range(12):\n",
        "    t0 = time.time()\n",
        "\n",
        "    net.train()\n",
        "    true_positive = 0\n",
        "    false_positive = 0\n",
        "    true_negative = 0\n",
        "    false_negative = 0\n",
        "    total_positives = 0\n",
        "    total_negatives = 0\n",
        "    epoch_loss = 0\n",
        "    for x,y in data_loader:\n",
        "        x = x.to(torch.device('cuda'))\n",
        "        y = y.cuda()\n",
        "        predicted = net(x)\n",
        "#         batch_false_positive = (predicted!=y) & (y==0) )[0])\n",
        "#         batch_false_negative = len(np.where( (predicted_values!=y_values) & (y_values==1) )[0])\n",
        "        batch_loss = loss_func(predicted, y) #+ weighted_false_positive +  weighted_false_negative\n",
        "        epoch_loss += batch_loss.detach().item()\n",
        "\n",
        "        optimizer.zero_grad()\n",
        "        with torch.autograd.set_detect_anomaly(True):\n",
        "            batch_loss.backward(retain_graph=True)\n",
        "        optimizer.step()\n",
        "        \n",
        "        y_values = y.cpu().data.numpy()\n",
        "        predicted_values = torch.round(predicted.cpu()).data.numpy()\n",
        "        total_positives+=len(np.where( y_values==1 )[0])\n",
        "        total_negatives+=len(np.where( y_values==0 )[0])\n",
        "        true_positive+= len(np.where( (predicted_values==y_values) & (y_values==1) )[0])\n",
        "        true_negative+= len(np.where( (predicted_values==y_values) & (y_values==0) )[0])\n",
        "        false_positive+= len(np.where( (predicted_values!=y_values) & (y_values==0) )[0])\n",
        "        false_negative+= len(np.where( (predicted_values!=y_values) & (y_values==1) )[0])\n",
        "\n",
        "#     sample_data = predicted.cpu().data.numpy()\n",
        "#     sample_y = y.cpu().data.numpy()\n",
        "\n",
        "    TP = true_positive/total_positives\n",
        "    FN = false_negative/total_positives\n",
        "    TN = true_negative/total_negatives\n",
        "    FP = false_positive/total_negatives\n",
        "    print(\"Epoch \", epoch)\n",
        "    sample_data = torch.cat((predicted,y),1)\n",
        "    print(sample_data)\n",
        "    print(\"   Training:   loss: {:.6f}  |  TP: {:.6f} | TN: {:.6f} | FP: {:.6f} | FN: {:.6f}\".format(\n",
        "                epoch_loss, TP, TN, FP, FN))\n",
        "#     print(\"               TP: \", true_positive, false_negative)\n",
        "    \n",
        "    net.eval()\n",
        "    true_positive = 0\n",
        "    false_positive = 0\n",
        "    true_negative = 0\n",
        "    false_negative = 0\n",
        "    total_positives = 0\n",
        "    total_negatives = 0\n",
        "    epoch_val_loss = 0\n",
        "    for x,y in test_data_loader:\n",
        "        x = x.to(torch.device('cuda'))\n",
        "        y = y.cuda()\n",
        "        predicted = net(x)\n",
        "        batch_val_loss = loss_func(predicted, y)\n",
        "        epoch_val_loss += batch_loss.detach().item()\n",
        "        y_values = y.cpu().data.numpy()\n",
        "        predicted_values = torch.round(predicted.cpu()).data.numpy()\n",
        "        total_positives+=len(np.where( y_values==1 )[0])\n",
        "        total_negatives+=len(np.where( y_values==0 )[0])\n",
        "        true_positive+= len(np.where( (predicted_values==y_values) & (y_values==1) )[0])\n",
        "        true_negative+= len(np.where( (predicted_values==y_values) & (y_values==0) )[0])\n",
        "        false_positive+= len(np.where( (predicted_values!=y_values) & (y_values==0) )[0])\n",
        "        false_negative+= len(np.where( (predicted_values!=y_values) & (y_values==1) )[0])\n",
        "    TP = true_positive/total_positives\n",
        "    FN = false_negative/total_positives\n",
        "    TN = true_negative/total_negatives\n",
        "    FP = false_positive/total_negatives\n",
        "    print(\"   Validation: loss: {:.6f}  |  TP: {:.6f} | TN: {:.6f} | FP: {:.6f} | FN: {:.6f}\".format(\n",
        "                epoch_val_loss, TP, TN, FP, FN))\n"
      ],
      "execution_count": 11,
      "outputs": [
        {
          "output_type": "stream",
          "text": [
            "Epoch  0\n",
            "tensor([[0.3199, 0.0000],\n",
            "        [0.2002, 0.0000],\n",
            "        [0.3235, 0.0000],\n",
            "        ...,\n",
            "        [0.3860, 0.0000],\n",
            "        [0.4370, 0.0000],\n",
            "        [0.4332, 0.0000]], device='cuda:0', grad_fn=<CatBackward>)\n",
            "   Training:   loss: 497.642032  |  TP: 0.123773 | TN: 0.940880 | FP: 0.059120 | FN: 0.876227\n",
            "   Validation: loss: 503.746939  |  TP: 0.313993 | TN: 0.940046 | FP: 0.059954 | FN: 0.686007\n",
            "Epoch  1\n",
            "tensor([[0.0690, 0.0000],\n",
            "        [0.1854, 0.0000],\n",
            "        [0.0832, 0.0000],\n",
            "        ...,\n",
            "        [0.3542, 0.0000],\n",
            "        [0.1289, 0.0000],\n",
            "        [0.2858, 0.0000]], device='cuda:0', grad_fn=<CatBackward>)\n",
            "   Training:   loss: 475.008433  |  TP: 0.526702 | TN: 0.852679 | FP: 0.147321 | FN: 0.473298\n",
            "   Validation: loss: 461.432389  |  TP: 0.548590 | TN: 0.881308 | FP: 0.118692 | FN: 0.451410\n",
            "Epoch  2\n",
            "tensor([[1.0000, 0.0000],\n",
            "        [1.0000, 0.0000],\n",
            "        [1.0000, 0.0000],\n",
            "        ...,\n",
            "        [0.0805, 0.0000],\n",
            "        [0.0247, 0.0000],\n",
            "        [0.5256, 0.0000]], device='cuda:0', grad_fn=<CatBackward>)\n",
            "   Training:   loss: 453.170434  |  TP: 0.542124 | TN: 0.874533 | FP: 0.125467 | FN: 0.457876\n",
            "   Validation: loss: 417.469182  |  TP: 0.721204 | TN: 0.792783 | FP: 0.207217 | FN: 0.278796\n",
            "Epoch  3\n",
            "tensor([[1.0963e-02, 0.0000e+00],\n",
            "        [7.4336e-03, 0.0000e+00],\n",
            "        [5.0492e-04, 0.0000e+00],\n",
            "        ...,\n",
            "        [8.8743e-01, 0.0000e+00],\n",
            "        [6.6112e-01, 0.0000e+00],\n",
            "        [3.1432e-01, 0.0000e+00]], device='cuda:0', grad_fn=<CatBackward>)\n",
            "   Training:   loss: 434.309981  |  TP: 0.821988 | TN: 0.768743 | FP: 0.231257 | FN: 0.178012\n",
            "   Validation: loss: 440.486756  |  TP: 0.693349 | TN: 0.849407 | FP: 0.150593 | FN: 0.306651\n",
            "Epoch  4\n",
            "tensor([[4.6280e-03, 0.0000e+00],\n",
            "        [2.6027e-06, 0.0000e+00],\n",
            "        [5.0879e-05, 0.0000e+00],\n",
            "        ...,\n",
            "        [7.5650e-01, 0.0000e+00],\n",
            "        [2.0426e-04, 0.0000e+00],\n",
            "        [9.8742e-01, 0.0000e+00]], device='cuda:0', grad_fn=<CatBackward>)\n",
            "   Training:   loss: 413.891290  |  TP: 0.862638 | TN: 0.817304 | FP: 0.182696 | FN: 0.137362\n",
            "   Validation: loss: 426.110707  |  TP: 0.971680 | TN: 0.760770 | FP: 0.239230 | FN: 0.028320\n",
            "Epoch  5\n",
            "tensor([[0.9998, 0.0000],\n",
            "        [0.0023, 0.0000],\n",
            "        [0.9972, 0.0000],\n",
            "        ...,\n",
            "        [0.7318, 0.0000],\n",
            "        [0.0737, 0.0000],\n",
            "        [0.9714, 1.0000]], device='cuda:0', grad_fn=<CatBackward>)\n",
            "   Training:   loss: 405.824368  |  TP: 0.883747 | TN: 0.836066 | FP: 0.163934 | FN: 0.116253\n",
            "   Validation: loss: 422.920537  |  TP: 0.955917 | TN: 0.780899 | FP: 0.219101 | FN: 0.044083\n",
            "Epoch  6\n",
            "tensor([[1.9396e-14, 0.0000e+00],\n",
            "        [7.1918e-15, 0.0000e+00],\n",
            "        [5.0887e-16, 0.0000e+00],\n",
            "        ...,\n",
            "        [6.7342e-08, 0.0000e+00],\n",
            "        [8.8433e-18, 0.0000e+00],\n",
            "        [1.0545e-14, 0.0000e+00]], device='cuda:0', grad_fn=<CatBackward>)\n",
            "   Training:   loss: 390.692149  |  TP: 0.915415 | TN: 0.880463 | FP: 0.119537 | FN: 0.084585\n",
            "   Validation: loss: 383.584535  |  TP: 0.903390 | TN: 0.911243 | FP: 0.088757 | FN: 0.096610\n",
            "Epoch  7\n",
            "tensor([[1.0339e-21, 0.0000e+00],\n",
            "        [7.4036e-23, 0.0000e+00],\n",
            "        [8.9258e-18, 0.0000e+00],\n",
            "        ...,\n",
            "        [3.1700e-08, 0.0000e+00],\n",
            "        [1.5894e-19, 0.0000e+00],\n",
            "        [1.2583e-17, 0.0000e+00]], device='cuda:0', grad_fn=<CatBackward>)\n",
            "   Training:   loss: 385.943346  |  TP: 0.919361 | TN: 0.901928 | FP: 0.098072 | FN: 0.080639\n",
            "   Validation: loss: 375.560994  |  TP: 0.950585 | TN: 0.876134 | FP: 0.123866 | FN: 0.049415\n",
            "Epoch  8\n",
            "tensor([[9.2191e-20, 0.0000e+00],\n",
            "        [7.2980e-14, 0.0000e+00],\n",
            "        [1.4940e-16, 0.0000e+00],\n",
            "        ...,\n",
            "        [5.7890e-05, 0.0000e+00],\n",
            "        [1.7551e-11, 0.0000e+00],\n",
            "        [4.7744e-05, 0.0000e+00]], device='cuda:0', grad_fn=<CatBackward>)\n",
            "   Training:   loss: 381.629207  |  TP: 0.922390 | TN: 0.921654 | FP: 0.078346 | FN: 0.077610\n",
            "   Validation: loss: 388.730422  |  TP: 0.930118 | TN: 0.936388 | FP: 0.063612 | FN: 0.069882\n",
            "Epoch  9\n",
            "tensor([[5.9887e-17, 0.0000e+00],\n",
            "        [4.5399e-14, 0.0000e+00],\n",
            "        [5.4228e-16, 0.0000e+00],\n",
            "        ...,\n",
            "        [1.4903e-06, 0.0000e+00],\n",
            "        [6.7949e-17, 0.0000e+00],\n",
            "        [9.7327e-07, 0.0000e+00]], device='cuda:0', grad_fn=<CatBackward>)\n",
            "   Training:   loss: 376.760067  |  TP: 0.935967 | TN: 0.935266 | FP: 0.064734 | FN: 0.064033\n",
            "   Validation: loss: 385.449831  |  TP: 0.917608 | TN: 0.959744 | FP: 0.040256 | FN: 0.082392\n",
            "Epoch  10\n",
            "tensor([[8.4739e-28, 0.0000e+00],\n",
            "        [4.4523e-24, 0.0000e+00],\n",
            "        [1.1062e-28, 0.0000e+00],\n",
            "        ...,\n",
            "        [2.1837e-22, 0.0000e+00],\n",
            "        [7.6611e-20, 0.0000e+00],\n",
            "        [1.5364e-19, 0.0000e+00]], device='cuda:0', grad_fn=<CatBackward>)\n",
            "   Training:   loss: 375.961699  |  TP: 0.935897 | TN: 0.939174 | FP: 0.060826 | FN: 0.064103\n",
            "   Validation: loss: 372.621266  |  TP: 0.954895 | TN: 0.933868 | FP: 0.066132 | FN: 0.045105\n",
            "Epoch  11\n",
            "tensor([[2.9635e-13, 0.0000e+00],\n",
            "        [1.2438e-28, 0.0000e+00],\n",
            "        [7.1325e-08, 0.0000e+00],\n",
            "        ...,\n",
            "        [1.0000e+00, 0.0000e+00],\n",
            "        [0.0000e+00, 0.0000e+00],\n",
            "        [0.0000e+00, 0.0000e+00]], device='cuda:0', grad_fn=<CatBackward>)\n",
            "   Training:   loss: 374.063868  |  TP: 0.943881 | TN: 0.941863 | FP: 0.058137 | FN: 0.056119\n",
            "   Validation: loss: 357.924102  |  TP: 0.945788 | TN: 0.950116 | FP: 0.049884 | FN: 0.054212\n"
          ],
          "name": "stdout"
        }
      ]
    },
    {
      "cell_type": "code",
      "metadata": {
        "id": "1m3SfooNvXBA",
        "colab_type": "code",
        "colab": {}
      },
      "source": [
        "# from scipy.special import expit, logit\n",
        "\n",
        "# fig,ax = plt.subplots(1,2,figsize=(6,3),dpi=150)\n",
        "\n",
        "# ax[0].set_title('Target')\n",
        "# ax[1].set_title('Model Prediction')\n",
        "\n",
        "# net.eval()\n",
        "# net.cpu()\n",
        "\n",
        "# dgl_g = test_ds[5578][0]\n",
        "\n",
        "# output_pred = net(dgl_g).data.numpy()\n",
        "\n",
        "# nx_graph = dgl.to_networkx(dgl_g)\n",
        "# pos = {i: dgl_g.ndata['node_features'][i][:2].data.numpy() for i in range(len(dgl_g.ndata['node_features']))} #nx.spring_layout(nx_graph)\n",
        "# edge_list = [e for i,e in enumerate(nx_graph.edges) if dgl_g.edata['on_path'][i]==1]\n",
        "\n",
        "# edge_widths = np.array([expit(output_pred[i][0]) for i in range(len(output_pred))])\n",
        "# predicted_edge_list = [e for i,e in enumerate(nx_graph.edges) if expit(output_pred[i])[0]>=0.5]\n",
        "\n",
        "# pos = nx.spring_layout(nx_graph)\n",
        "\n",
        "\n",
        "# nx.draw( nx_graph ,pos=pos ,ax=ax[0] ,node_size=5,arrows=False)\n",
        "# nx.draw_networkx_edges(nx_graph,pos=pos,edgelist=edge_list,width=2,edge_color='r',ax=ax[0],arrows=False)\n",
        "\n",
        "# nx.draw( nx_graph ,pos=pos ,ax=ax[1] ,node_size=5,arrows=False)\n",
        "# nx.draw_networkx_edges(nx_graph,pos=pos,edgelist=predicted_edge_list,width=2,edge_color='r',ax=ax[1],arrows=False)\n",
        "\n",
        "# plt.show()"
      ],
      "execution_count": 12,
      "outputs": []
    },
    {
      "cell_type": "code",
      "metadata": {
        "id": "vxfXNlXDvXBi",
        "colab_type": "code",
        "colab": {}
      },
      "source": [
        "# net.eval()\n",
        "\n",
        "# true_positive = 0\n",
        "# false_positive = 0\n",
        "# true_negative = 0\n",
        "# false_negative = 0\n",
        "# total_positives = 0\n",
        "# total_negatives = 0\n",
        "\n",
        "# for i, (x,y) in enumerate(test_data_loader):\n",
        "        \n",
        "#         y = y.data.numpy()\n",
        "\n",
        "#         prediction = net(x).cpu().data.numpy()\n",
        "        \n",
        "#         prediction[prediction >= 0.5] = 1\n",
        "#         prediction[prediction <0.5] = 0\n",
        "        \n",
        "#         total_positives+=len(np.where( y==1 )[0])\n",
        "#         total_negatives+=len(np.where( y==0 )[0])\n",
        "        \n",
        "#         true_positive+= len(np.where( (prediction==y) & (y==1) )[0])\n",
        "#         true_negative+= len(np.where( (prediction==y) & (y==0) )[0])\n",
        "#         false_positive+= len(np.where( (prediction!=y) & (y==0) )[0])\n",
        "#         false_negative+= len(np.where( (prediction!=y) & (y==1) )[0])\n",
        "        \n",
        "        \n",
        "# print(true_positive/total_positives)\n",
        "# print(false_negative/total_positives)\n",
        "# print(true_negative/total_negatives)\n",
        "# print(false_positive/total_negatives)"
      ],
      "execution_count": 13,
      "outputs": []
    },
    {
      "cell_type": "code",
      "metadata": {
        "id": "pIhRZ2BavXDH",
        "colab_type": "code",
        "colab": {}
      },
      "source": [
        "# import torch as th\n",
        "# g = dgl.DGLGraph()\n",
        "# g.add_nodes(3)\n",
        "# g.add_edges([0, 1], [1, 2])   # 0 -> 1, 1 -> 2\n",
        "# g.edata['y'] = th.ones(2, 1)\n",
        "# # Doubles the edge feature.\n",
        "# def double_feature(edges): return {'y': edges.data['y'] * 2}\n",
        "# g.apply_edges(func=double_feature, edges=0) # Apply func to the first edge.\n",
        "# print(g.edata)\n",
        "# nx.draw( dgl.to_networkx(g) )"
      ],
      "execution_count": 14,
      "outputs": []
    },
    {
      "cell_type": "code",
      "metadata": {
        "id": "iuaLdITWvXDh",
        "colab_type": "code",
        "colab": {}
      },
      "source": [
        ""
      ],
      "execution_count": 14,
      "outputs": []
    },
    {
      "cell_type": "code",
      "metadata": {
        "id": "5K5Yka6EvXD_",
        "colab_type": "code",
        "colab": {}
      },
      "source": [
        ""
      ],
      "execution_count": 14,
      "outputs": []
    },
    {
      "cell_type": "code",
      "metadata": {
        "id": "D-6ZMBF9vXFA",
        "colab_type": "code",
        "colab": {}
      },
      "source": [
        "# a = torch.rand(2,3)\n",
        "# b = torch.rand(2,1)\n",
        "# c = torch.rand(2,3)\n",
        "\n",
        "# d = torch.cat((a,b,c), 1)\n",
        "# d"
      ],
      "execution_count": 15,
      "outputs": []
    },
    {
      "cell_type": "code",
      "metadata": {
        "id": "jdZuLMEQvXFZ",
        "colab_type": "code",
        "colab": {}
      },
      "source": [
        "# d.max(1)"
      ],
      "execution_count": 16,
      "outputs": []
    },
    {
      "cell_type": "code",
      "metadata": {
        "id": "R12JQFEpvXFr",
        "colab_type": "code",
        "colab": {}
      },
      "source": [
        ""
      ],
      "execution_count": 16,
      "outputs": []
    },
    {
      "cell_type": "code",
      "metadata": {
        "id": "XDZk4YJNvXGo",
        "colab_type": "code",
        "colab": {}
      },
      "source": [
        ""
      ],
      "execution_count": 16,
      "outputs": []
    },
    {
      "cell_type": "code",
      "metadata": {
        "id": "iZiWtlusvXG3",
        "colab_type": "code",
        "colab": {}
      },
      "source": [
        ""
      ],
      "execution_count": 16,
      "outputs": []
    },
    {
      "cell_type": "code",
      "metadata": {
        "id": "n0YVDWkqvXHH",
        "colab_type": "code",
        "colab": {}
      },
      "source": [
        ""
      ],
      "execution_count": 16,
      "outputs": []
    },
    {
      "cell_type": "code",
      "metadata": {
        "id": "PZ3TrrS-vXHY",
        "colab_type": "code",
        "colab": {}
      },
      "source": [
        ""
      ],
      "execution_count": 16,
      "outputs": []
    },
    {
      "cell_type": "code",
      "metadata": {
        "id": "yNSa1e7bvXHy",
        "colab_type": "code",
        "colab": {}
      },
      "source": [
        ""
      ],
      "execution_count": 16,
      "outputs": []
    },
    {
      "cell_type": "code",
      "metadata": {
        "id": "k_JwXPvqvXIQ",
        "colab_type": "code",
        "colab": {}
      },
      "source": [
        ""
      ],
      "execution_count": 16,
      "outputs": []
    },
    {
      "cell_type": "code",
      "metadata": {
        "id": "Puqs1r73vXIy",
        "colab_type": "code",
        "colab": {}
      },
      "source": [
        ""
      ],
      "execution_count": 16,
      "outputs": []
    }
  ]
}