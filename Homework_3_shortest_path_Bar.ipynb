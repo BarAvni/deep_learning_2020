{
  "nbformat": 4,
  "nbformat_minor": 0,
  "metadata": {
    "kernelspec": {
      "display_name": "Python 3",
      "language": "python",
      "name": "python3"
    },
    "language_info": {
      "codemirror_mode": {
        "name": "ipython",
        "version": 3
      },
      "file_extension": ".py",
      "mimetype": "text/x-python",
      "name": "python",
      "nbconvert_exporter": "python",
      "pygments_lexer": "ipython3",
      "version": "3.8.2"
    },
    "toc": {
      "base_numbering": 1,
      "nav_menu": {},
      "number_sections": true,
      "sideBar": true,
      "skip_h1_title": false,
      "title_cell": "Table of Contents",
      "title_sidebar": "Contents",
      "toc_cell": false,
      "toc_position": {},
      "toc_section_display": true,
      "toc_window_display": false
    },
    "colab": {
      "name": "Homework_3_shortest_path_Bar.ipynb",
      "provenance": [],
      "include_colab_link": true
    },
    "accelerator": "GPU",
    "widgets": {
      "application/vnd.jupyter.widget-state+json": {
        "88adb7339eab47c3b0ee9fdb5c383a72": {
          "model_module": "@jupyter-widgets/controls",
          "model_name": "HBoxModel",
          "state": {
            "_view_name": "HBoxView",
            "_dom_classes": [],
            "_model_name": "HBoxModel",
            "_view_module": "@jupyter-widgets/controls",
            "_model_module_version": "1.5.0",
            "_view_count": null,
            "_view_module_version": "1.5.0",
            "box_style": "",
            "layout": "IPY_MODEL_70f1033301f54345ab23df092f0b2fb7",
            "_model_module": "@jupyter-widgets/controls",
            "children": [
              "IPY_MODEL_c4dadeff5ae4446fb489ba76cf6557f9",
              "IPY_MODEL_b15d2d37da574776b8f0ea0029ec844e"
            ]
          }
        },
        "70f1033301f54345ab23df092f0b2fb7": {
          "model_module": "@jupyter-widgets/base",
          "model_name": "LayoutModel",
          "state": {
            "_view_name": "LayoutView",
            "grid_template_rows": null,
            "right": null,
            "justify_content": null,
            "_view_module": "@jupyter-widgets/base",
            "overflow": null,
            "_model_module_version": "1.2.0",
            "_view_count": null,
            "flex_flow": null,
            "width": null,
            "min_width": null,
            "border": null,
            "align_items": null,
            "bottom": null,
            "_model_module": "@jupyter-widgets/base",
            "top": null,
            "grid_column": null,
            "overflow_y": null,
            "overflow_x": null,
            "grid_auto_flow": null,
            "grid_area": null,
            "grid_template_columns": null,
            "flex": null,
            "_model_name": "LayoutModel",
            "justify_items": null,
            "grid_row": null,
            "max_height": null,
            "align_content": null,
            "visibility": null,
            "align_self": null,
            "height": null,
            "min_height": null,
            "padding": null,
            "grid_auto_rows": null,
            "grid_gap": null,
            "max_width": null,
            "order": null,
            "_view_module_version": "1.2.0",
            "grid_template_areas": null,
            "object_position": null,
            "object_fit": null,
            "grid_auto_columns": null,
            "margin": null,
            "display": null,
            "left": null
          }
        },
        "c4dadeff5ae4446fb489ba76cf6557f9": {
          "model_module": "@jupyter-widgets/controls",
          "model_name": "FloatProgressModel",
          "state": {
            "_view_name": "ProgressView",
            "style": "IPY_MODEL_3d84898828404a7dafd925d07c088ea3",
            "_dom_classes": [],
            "description": "100%",
            "_model_name": "FloatProgressModel",
            "bar_style": "success",
            "max": 10000,
            "_view_module": "@jupyter-widgets/controls",
            "_model_module_version": "1.5.0",
            "value": 10000,
            "_view_count": null,
            "_view_module_version": "1.5.0",
            "orientation": "horizontal",
            "min": 0,
            "description_tooltip": null,
            "_model_module": "@jupyter-widgets/controls",
            "layout": "IPY_MODEL_367dc895df374f8f91f88d6d45261eb3"
          }
        },
        "b15d2d37da574776b8f0ea0029ec844e": {
          "model_module": "@jupyter-widgets/controls",
          "model_name": "HTMLModel",
          "state": {
            "_view_name": "HTMLView",
            "style": "IPY_MODEL_ea3d9bb371ab4bc6ac716f8e65f08387",
            "_dom_classes": [],
            "description": "",
            "_model_name": "HTMLModel",
            "placeholder": "​",
            "_view_module": "@jupyter-widgets/controls",
            "_model_module_version": "1.5.0",
            "value": " 10000/10000 [00:35&lt;00:00, 280.39it/s]",
            "_view_count": null,
            "_view_module_version": "1.5.0",
            "description_tooltip": null,
            "_model_module": "@jupyter-widgets/controls",
            "layout": "IPY_MODEL_f1d5d32a2bc640dd978c3905560704c6"
          }
        },
        "3d84898828404a7dafd925d07c088ea3": {
          "model_module": "@jupyter-widgets/controls",
          "model_name": "ProgressStyleModel",
          "state": {
            "_view_name": "StyleView",
            "_model_name": "ProgressStyleModel",
            "description_width": "initial",
            "_view_module": "@jupyter-widgets/base",
            "_model_module_version": "1.5.0",
            "_view_count": null,
            "_view_module_version": "1.2.0",
            "bar_color": null,
            "_model_module": "@jupyter-widgets/controls"
          }
        },
        "367dc895df374f8f91f88d6d45261eb3": {
          "model_module": "@jupyter-widgets/base",
          "model_name": "LayoutModel",
          "state": {
            "_view_name": "LayoutView",
            "grid_template_rows": null,
            "right": null,
            "justify_content": null,
            "_view_module": "@jupyter-widgets/base",
            "overflow": null,
            "_model_module_version": "1.2.0",
            "_view_count": null,
            "flex_flow": null,
            "width": null,
            "min_width": null,
            "border": null,
            "align_items": null,
            "bottom": null,
            "_model_module": "@jupyter-widgets/base",
            "top": null,
            "grid_column": null,
            "overflow_y": null,
            "overflow_x": null,
            "grid_auto_flow": null,
            "grid_area": null,
            "grid_template_columns": null,
            "flex": null,
            "_model_name": "LayoutModel",
            "justify_items": null,
            "grid_row": null,
            "max_height": null,
            "align_content": null,
            "visibility": null,
            "align_self": null,
            "height": null,
            "min_height": null,
            "padding": null,
            "grid_auto_rows": null,
            "grid_gap": null,
            "max_width": null,
            "order": null,
            "_view_module_version": "1.2.0",
            "grid_template_areas": null,
            "object_position": null,
            "object_fit": null,
            "grid_auto_columns": null,
            "margin": null,
            "display": null,
            "left": null
          }
        },
        "ea3d9bb371ab4bc6ac716f8e65f08387": {
          "model_module": "@jupyter-widgets/controls",
          "model_name": "DescriptionStyleModel",
          "state": {
            "_view_name": "StyleView",
            "_model_name": "DescriptionStyleModel",
            "description_width": "",
            "_view_module": "@jupyter-widgets/base",
            "_model_module_version": "1.5.0",
            "_view_count": null,
            "_view_module_version": "1.2.0",
            "_model_module": "@jupyter-widgets/controls"
          }
        },
        "f1d5d32a2bc640dd978c3905560704c6": {
          "model_module": "@jupyter-widgets/base",
          "model_name": "LayoutModel",
          "state": {
            "_view_name": "LayoutView",
            "grid_template_rows": null,
            "right": null,
            "justify_content": null,
            "_view_module": "@jupyter-widgets/base",
            "overflow": null,
            "_model_module_version": "1.2.0",
            "_view_count": null,
            "flex_flow": null,
            "width": null,
            "min_width": null,
            "border": null,
            "align_items": null,
            "bottom": null,
            "_model_module": "@jupyter-widgets/base",
            "top": null,
            "grid_column": null,
            "overflow_y": null,
            "overflow_x": null,
            "grid_auto_flow": null,
            "grid_area": null,
            "grid_template_columns": null,
            "flex": null,
            "_model_name": "LayoutModel",
            "justify_items": null,
            "grid_row": null,
            "max_height": null,
            "align_content": null,
            "visibility": null,
            "align_self": null,
            "height": null,
            "min_height": null,
            "padding": null,
            "grid_auto_rows": null,
            "grid_gap": null,
            "max_width": null,
            "order": null,
            "_view_module_version": "1.2.0",
            "grid_template_areas": null,
            "object_position": null,
            "object_fit": null,
            "grid_auto_columns": null,
            "margin": null,
            "display": null,
            "left": null
          }
        },
        "23b01afd2e504f85976ef782fbc30986": {
          "model_module": "@jupyter-widgets/controls",
          "model_name": "HBoxModel",
          "state": {
            "_view_name": "HBoxView",
            "_dom_classes": [],
            "_model_name": "HBoxModel",
            "_view_module": "@jupyter-widgets/controls",
            "_model_module_version": "1.5.0",
            "_view_count": null,
            "_view_module_version": "1.5.0",
            "box_style": "",
            "layout": "IPY_MODEL_a73ff437fe914610b303421769498d44",
            "_model_module": "@jupyter-widgets/controls",
            "children": [
              "IPY_MODEL_2963938c718949ecabfad8183f75d924",
              "IPY_MODEL_caaef761cb4b48958ce4b88c1622d23e"
            ]
          }
        },
        "a73ff437fe914610b303421769498d44": {
          "model_module": "@jupyter-widgets/base",
          "model_name": "LayoutModel",
          "state": {
            "_view_name": "LayoutView",
            "grid_template_rows": null,
            "right": null,
            "justify_content": null,
            "_view_module": "@jupyter-widgets/base",
            "overflow": null,
            "_model_module_version": "1.2.0",
            "_view_count": null,
            "flex_flow": null,
            "width": null,
            "min_width": null,
            "border": null,
            "align_items": null,
            "bottom": null,
            "_model_module": "@jupyter-widgets/base",
            "top": null,
            "grid_column": null,
            "overflow_y": null,
            "overflow_x": null,
            "grid_auto_flow": null,
            "grid_area": null,
            "grid_template_columns": null,
            "flex": null,
            "_model_name": "LayoutModel",
            "justify_items": null,
            "grid_row": null,
            "max_height": null,
            "align_content": null,
            "visibility": null,
            "align_self": null,
            "height": null,
            "min_height": null,
            "padding": null,
            "grid_auto_rows": null,
            "grid_gap": null,
            "max_width": null,
            "order": null,
            "_view_module_version": "1.2.0",
            "grid_template_areas": null,
            "object_position": null,
            "object_fit": null,
            "grid_auto_columns": null,
            "margin": null,
            "display": null,
            "left": null
          }
        },
        "2963938c718949ecabfad8183f75d924": {
          "model_module": "@jupyter-widgets/controls",
          "model_name": "FloatProgressModel",
          "state": {
            "_view_name": "ProgressView",
            "style": "IPY_MODEL_46bf46bd688f440f8f0c5923102390e1",
            "_dom_classes": [],
            "description": "100%",
            "_model_name": "FloatProgressModel",
            "bar_style": "success",
            "max": 10000,
            "_view_module": "@jupyter-widgets/controls",
            "_model_module_version": "1.5.0",
            "value": 10000,
            "_view_count": null,
            "_view_module_version": "1.5.0",
            "orientation": "horizontal",
            "min": 0,
            "description_tooltip": null,
            "_model_module": "@jupyter-widgets/controls",
            "layout": "IPY_MODEL_865cb8fd78f346eb95f3f9b6925ab73e"
          }
        },
        "caaef761cb4b48958ce4b88c1622d23e": {
          "model_module": "@jupyter-widgets/controls",
          "model_name": "HTMLModel",
          "state": {
            "_view_name": "HTMLView",
            "style": "IPY_MODEL_2d75ca683c1141c08949f9ac753509bb",
            "_dom_classes": [],
            "description": "",
            "_model_name": "HTMLModel",
            "placeholder": "​",
            "_view_module": "@jupyter-widgets/controls",
            "_model_module_version": "1.5.0",
            "value": " 10000/10000 [00:29&lt;00:00, 338.28it/s]",
            "_view_count": null,
            "_view_module_version": "1.5.0",
            "description_tooltip": null,
            "_model_module": "@jupyter-widgets/controls",
            "layout": "IPY_MODEL_9d01e46561924989b4df25a005ff1f7c"
          }
        },
        "46bf46bd688f440f8f0c5923102390e1": {
          "model_module": "@jupyter-widgets/controls",
          "model_name": "ProgressStyleModel",
          "state": {
            "_view_name": "StyleView",
            "_model_name": "ProgressStyleModel",
            "description_width": "initial",
            "_view_module": "@jupyter-widgets/base",
            "_model_module_version": "1.5.0",
            "_view_count": null,
            "_view_module_version": "1.2.0",
            "bar_color": null,
            "_model_module": "@jupyter-widgets/controls"
          }
        },
        "865cb8fd78f346eb95f3f9b6925ab73e": {
          "model_module": "@jupyter-widgets/base",
          "model_name": "LayoutModel",
          "state": {
            "_view_name": "LayoutView",
            "grid_template_rows": null,
            "right": null,
            "justify_content": null,
            "_view_module": "@jupyter-widgets/base",
            "overflow": null,
            "_model_module_version": "1.2.0",
            "_view_count": null,
            "flex_flow": null,
            "width": null,
            "min_width": null,
            "border": null,
            "align_items": null,
            "bottom": null,
            "_model_module": "@jupyter-widgets/base",
            "top": null,
            "grid_column": null,
            "overflow_y": null,
            "overflow_x": null,
            "grid_auto_flow": null,
            "grid_area": null,
            "grid_template_columns": null,
            "flex": null,
            "_model_name": "LayoutModel",
            "justify_items": null,
            "grid_row": null,
            "max_height": null,
            "align_content": null,
            "visibility": null,
            "align_self": null,
            "height": null,
            "min_height": null,
            "padding": null,
            "grid_auto_rows": null,
            "grid_gap": null,
            "max_width": null,
            "order": null,
            "_view_module_version": "1.2.0",
            "grid_template_areas": null,
            "object_position": null,
            "object_fit": null,
            "grid_auto_columns": null,
            "margin": null,
            "display": null,
            "left": null
          }
        },
        "2d75ca683c1141c08949f9ac753509bb": {
          "model_module": "@jupyter-widgets/controls",
          "model_name": "DescriptionStyleModel",
          "state": {
            "_view_name": "StyleView",
            "_model_name": "DescriptionStyleModel",
            "description_width": "",
            "_view_module": "@jupyter-widgets/base",
            "_model_module_version": "1.5.0",
            "_view_count": null,
            "_view_module_version": "1.2.0",
            "_model_module": "@jupyter-widgets/controls"
          }
        },
        "9d01e46561924989b4df25a005ff1f7c": {
          "model_module": "@jupyter-widgets/base",
          "model_name": "LayoutModel",
          "state": {
            "_view_name": "LayoutView",
            "grid_template_rows": null,
            "right": null,
            "justify_content": null,
            "_view_module": "@jupyter-widgets/base",
            "overflow": null,
            "_model_module_version": "1.2.0",
            "_view_count": null,
            "flex_flow": null,
            "width": null,
            "min_width": null,
            "border": null,
            "align_items": null,
            "bottom": null,
            "_model_module": "@jupyter-widgets/base",
            "top": null,
            "grid_column": null,
            "overflow_y": null,
            "overflow_x": null,
            "grid_auto_flow": null,
            "grid_area": null,
            "grid_template_columns": null,
            "flex": null,
            "_model_name": "LayoutModel",
            "justify_items": null,
            "grid_row": null,
            "max_height": null,
            "align_content": null,
            "visibility": null,
            "align_self": null,
            "height": null,
            "min_height": null,
            "padding": null,
            "grid_auto_rows": null,
            "grid_gap": null,
            "max_width": null,
            "order": null,
            "_view_module_version": "1.2.0",
            "grid_template_areas": null,
            "object_position": null,
            "object_fit": null,
            "grid_auto_columns": null,
            "margin": null,
            "display": null,
            "left": null
          }
        }
      }
    }
  },
  "cells": [
    {
      "cell_type": "markdown",
      "metadata": {
        "id": "view-in-github",
        "colab_type": "text"
      },
      "source": [
        "<a href=\"https://colab.research.google.com/github/BarAvni/deep_learning_2020/blob/master/Homework_3_shortest_path_Bar.ipynb\" target=\"_parent\"><img src=\"https://colab.research.google.com/assets/colab-badge.svg\" alt=\"Open In Colab\"/></a>"
      ]
    },
    {
      "cell_type": "code",
      "metadata": {
        "id": "Kwo_tvtbvW6N",
        "colab_type": "code",
        "colab": {
          "base_uri": "https://localhost:8080/",
          "height": 222
        },
        "outputId": "b2aa09f3-a4ee-4383-bb17-018df11eb74c"
      },
      "source": [
        "!pip install dgl\n",
        "import dgl\n",
        "import dgl.function as fn\n",
        "import torch\n",
        "import torch.nn as nn\n",
        "import torch.nn.functional as F\n",
        "from dgl import DGLGraph\n",
        "from torch.utils.data import Dataset, DataLoader\n",
        "import glob\n",
        "import json\n",
        "from tqdm.notebook import tqdm\n",
        "import torch.optim as optim\n",
        "import numpy as np\n",
        "import networkx as nx\n",
        "import time\n",
        "\n",
        "import matplotlib.pyplot as plt"
      ],
      "execution_count": 1,
      "outputs": [
        {
          "output_type": "stream",
          "text": [
            "Requirement already satisfied: dgl in /usr/local/lib/python3.6/dist-packages (0.4.3.post2)\n",
            "Requirement already satisfied: scipy>=1.1.0 in /usr/local/lib/python3.6/dist-packages (from dgl) (1.4.1)\n",
            "Requirement already satisfied: requests>=2.19.0 in /usr/local/lib/python3.6/dist-packages (from dgl) (2.23.0)\n",
            "Requirement already satisfied: networkx>=2.1 in /usr/local/lib/python3.6/dist-packages (from dgl) (2.4)\n",
            "Requirement already satisfied: numpy>=1.14.0 in /usr/local/lib/python3.6/dist-packages (from dgl) (1.18.5)\n",
            "Requirement already satisfied: chardet<4,>=3.0.2 in /usr/local/lib/python3.6/dist-packages (from requests>=2.19.0->dgl) (3.0.4)\n",
            "Requirement already satisfied: urllib3!=1.25.0,!=1.25.1,<1.26,>=1.21.1 in /usr/local/lib/python3.6/dist-packages (from requests>=2.19.0->dgl) (1.24.3)\n",
            "Requirement already satisfied: certifi>=2017.4.17 in /usr/local/lib/python3.6/dist-packages (from requests>=2.19.0->dgl) (2020.4.5.2)\n",
            "Requirement already satisfied: idna<3,>=2.5 in /usr/local/lib/python3.6/dist-packages (from requests>=2.19.0->dgl) (2.9)\n",
            "Requirement already satisfied: decorator>=4.3.0 in /usr/local/lib/python3.6/dist-packages (from networkx>=2.1->dgl) (4.4.2)\n"
          ],
          "name": "stdout"
        },
        {
          "output_type": "stream",
          "text": [
            "Using backend: pytorch\n"
          ],
          "name": "stderr"
        }
      ]
    },
    {
      "cell_type": "code",
      "metadata": {
        "id": "mf-mgHJBvW62",
        "colab_type": "code",
        "colab": {}
      },
      "source": [
        "# !wget https://www.dropbox.com/sh/rl0uf65qyyrwx86/AAAQKpWUsOqX-EkXT-9R533va?dl=0\n",
        "# !unzip -qq AAAQKpWUsOqX-EkXT-9R533va?dl=0\n",
        "# !unzip -qq training_data.zip\n",
        "# !unzip -qq test_data.zip\n",
        "path_to_ds = 'training_data/'\n",
        "path_to_test_ds = 'test_data/'"
      ],
      "execution_count": 2,
      "outputs": []
    },
    {
      "cell_type": "code",
      "metadata": {
        "id": "oXbkmDFoECQp",
        "colab_type": "code",
        "colab": {
          "base_uri": "https://localhost:8080/",
          "height": 54
        },
        "outputId": "3e5e7b06-ad23-4500-d284-9888a0b6a11e"
      },
      "source": [
        "# from google.colab import drive\n",
        "# drive.mount('/content/drive')"
      ],
      "execution_count": 3,
      "outputs": [
        {
          "output_type": "stream",
          "text": [
            "Drive already mounted at /content/drive; to attempt to forcibly remount, call drive.mount(\"/content/drive\", force_remount=True).\n"
          ],
          "name": "stdout"
        }
      ]
    },
    {
      "cell_type": "code",
      "metadata": {
        "id": "SK6GtQI2vW7j",
        "colab_type": "code",
        "colab": {}
      },
      "source": [
        "class CustomDataset(Dataset):\n",
        "    \n",
        "    def __init__(self, path):\n",
        "        filelist = glob.glob(path+'/*.json')\n",
        "        self.graphs = []\n",
        "        for fname in tqdm(filelist):\n",
        "            with open(fname) as jfile:\n",
        "                graph = nx.node_link_graph(json.load(jfile))\n",
        "                g = dgl.DGLGraph()\n",
        "                g.from_networkx(graph,node_attrs=['node_features'],edge_attrs=['distance','on_path'])        \n",
        "                self.graphs.append(g)\n",
        "        \n",
        "    def __len__(self):      \n",
        "        return len(self.graphs)\n",
        "\n",
        "    def __getitem__(self, idx):    \n",
        "        return self.graphs[idx], self.graphs[idx].edata['on_path']"
      ],
      "execution_count": 4,
      "outputs": []
    },
    {
      "cell_type": "code",
      "metadata": {
        "id": "hIVccqpxvW8O",
        "colab_type": "code",
        "colab": {
          "base_uri": "https://localhost:8080/",
          "height": 114,
          "referenced_widgets": [
            "88adb7339eab47c3b0ee9fdb5c383a72",
            "70f1033301f54345ab23df092f0b2fb7",
            "c4dadeff5ae4446fb489ba76cf6557f9",
            "b15d2d37da574776b8f0ea0029ec844e",
            "3d84898828404a7dafd925d07c088ea3",
            "367dc895df374f8f91f88d6d45261eb3",
            "ea3d9bb371ab4bc6ac716f8e65f08387",
            "f1d5d32a2bc640dd978c3905560704c6",
            "23b01afd2e504f85976ef782fbc30986",
            "a73ff437fe914610b303421769498d44",
            "2963938c718949ecabfad8183f75d924",
            "caaef761cb4b48958ce4b88c1622d23e",
            "46bf46bd688f440f8f0c5923102390e1",
            "865cb8fd78f346eb95f3f9b6925ab73e",
            "2d75ca683c1141c08949f9ac753509bb",
            "9d01e46561924989b4df25a005ff1f7c"
          ]
        },
        "outputId": "d7e2abb7-aafa-483a-f297-994d9e5fc66f"
      },
      "source": [
        "train_ds = CustomDataset(path_to_ds)\n",
        "test_ds = CustomDataset(path_to_test_ds)"
      ],
      "execution_count": 5,
      "outputs": [
        {
          "output_type": "display_data",
          "data": {
            "application/vnd.jupyter.widget-view+json": {
              "model_id": "88adb7339eab47c3b0ee9fdb5c383a72",
              "version_minor": 0,
              "version_major": 2
            },
            "text/plain": [
              "HBox(children=(FloatProgress(value=0.0, max=10000.0), HTML(value='')))"
            ]
          },
          "metadata": {
            "tags": []
          }
        },
        {
          "output_type": "stream",
          "text": [
            "\n"
          ],
          "name": "stdout"
        },
        {
          "output_type": "display_data",
          "data": {
            "application/vnd.jupyter.widget-view+json": {
              "model_id": "23b01afd2e504f85976ef782fbc30986",
              "version_minor": 0,
              "version_major": 2
            },
            "text/plain": [
              "HBox(children=(FloatProgress(value=0.0, max=10000.0), HTML(value='')))"
            ]
          },
          "metadata": {
            "tags": []
          }
        },
        {
          "output_type": "stream",
          "text": [
            "\n"
          ],
          "name": "stdout"
        }
      ]
    },
    {
      "cell_type": "code",
      "metadata": {
        "id": "kDUsZlzOvW8k",
        "colab_type": "code",
        "colab": {
          "base_uri": "https://localhost:8080/",
          "height": 222
        },
        "outputId": "eaed5f40-d019-494a-c489-26766321bd62"
      },
      "source": [
        "train_ds[495]"
      ],
      "execution_count": 6,
      "outputs": [
        {
          "output_type": "execute_result",
          "data": {
            "text/plain": [
              "(DGLGraph(num_nodes=47, num_edges=188,\n",
              "          ndata_schemes={'node_features': Scheme(shape=(2,), dtype=torch.float32)}\n",
              "          edata_schemes={'distance': Scheme(shape=(), dtype=torch.float32), 'on_path': Scheme(shape=(), dtype=torch.int64)}),\n",
              " tensor([0, 0, 0, 0, 0, 0, 0, 0, 0, 0, 0, 0, 1, 0, 0, 0, 0, 0, 0, 0, 0, 0, 0, 0,\n",
              "         0, 0, 0, 0, 0, 0, 1, 0, 0, 0, 0, 0, 0, 1, 0, 0, 0, 0, 0, 0, 0, 0, 0, 0,\n",
              "         0, 0, 1, 0, 0, 1, 0, 0, 0, 0, 0, 0, 0, 0, 0, 0, 0, 0, 0, 0, 0, 0, 0, 0,\n",
              "         0, 0, 0, 0, 0, 0, 0, 0, 0, 0, 0, 0, 0, 0, 0, 0, 0, 0, 0, 0, 0, 0, 0, 0,\n",
              "         0, 0, 0, 0, 0, 0, 0, 0, 0, 0, 0, 0, 0, 0, 0, 0, 0, 0, 0, 0, 0, 0, 0, 0,\n",
              "         0, 0, 0, 0, 0, 0, 0, 0, 0, 0, 1, 1, 0, 0, 0, 0, 0, 0, 0, 0, 0, 0, 0, 0,\n",
              "         0, 0, 1, 0, 0, 0, 0, 0, 0, 0, 0, 0, 0, 0, 0, 0, 0, 0, 0, 0, 0, 0, 0, 0,\n",
              "         0, 0, 0, 0, 0, 0, 0, 0, 0, 0, 0, 0, 0, 0, 0, 0, 0, 0, 0, 0]))"
            ]
          },
          "metadata": {
            "tags": []
          },
          "execution_count": 6
        }
      ]
    },
    {
      "cell_type": "code",
      "metadata": {
        "id": "6YoigjqQvW87",
        "colab_type": "code",
        "colab": {
          "base_uri": "https://localhost:8080/",
          "height": 319
        },
        "outputId": "a593d7e3-a6eb-4b66-bedd-904c1412a9ff"
      },
      "source": [
        "nx.draw( dgl.to_networkx(train_ds[495][0]) )"
      ],
      "execution_count": 7,
      "outputs": [
        {
          "output_type": "display_data",
          "data": {
            "image/png": "[encoded data removed]",
            "text/plain": [
              "<Figure size 432x288 with 1 Axes>"
            ]
          },
          "metadata": {
            "tags": []
          }
        }
      ]
    },
    {
      "cell_type": "code",
      "metadata": {
        "id": "JQhjdNHmvW9l",
        "colab_type": "code",
        "colab": {}
      },
      "source": [
        "def collate(samples):\n",
        "    # The input `samples` is a list, a batch of whatever comes out of your dataset object   \n",
        "    graphs = [x[0] for x in samples]\n",
        "    labels = [x[1] for x in samples]\n",
        "    batched_graph = dgl.batch(graphs,node_attrs=['node_features'],edge_attrs=['distance'])\n",
        "    targets = torch.cat(labels)    \n",
        "    return batched_graph, targets.unsqueeze(1).float()"
      ],
      "execution_count": 8,
      "outputs": []
    },
    {
      "cell_type": "code",
      "metadata": {
        "id": "Mg_853TyvW-e",
        "colab_type": "code",
        "colab": {}
      },
      "source": [
        "# node_hidden_layer = 50\n",
        "# edge_hidden_layer = 50\n",
        "# node_out = 10"
      ],
      "execution_count": 9,
      "outputs": []
    },
    {
      "cell_type": "code",
      "metadata": {
        "id": "w2Kz5dkFvW-8",
        "colab_type": "code",
        "colab": {}
      },
      "source": [
        "import torch.nn as nn\n",
        "import torch.nn.functional as F\n",
        "\n",
        "\n",
        "#this function is the edge update function - \n",
        "\n",
        "class EdgeNetwork(nn.Module):\n",
        "    def __init__(self,out_name, net_type,node_hidden_layer,edge_hidden_layer):\n",
        "        super(EdgeNetwork, self).__init__()\n",
        "        self.out_name = out_name\n",
        "        node_in = 2*(2+node_hidden_layer)+1\n",
        "        if net_type == 'edge_network':\n",
        "          print('EdgeNetwork: ', node_in)\n",
        "          self.Sequent = nn.Sequential(\n",
        "            nn.Linear(node_in,edge_hidden_layer),\n",
        "            nn.LeakyReLU(),\n",
        "            nn.Linear(edge_hidden_layer,edge_hidden_layer),\n",
        "            nn.LeakyReLU()\n",
        "            )\n",
        "        elif net_type == 'edge_classifier': \n",
        "          self.Sequent = nn.Sequential(\n",
        "            nn.Linear(node_in,1),\n",
        "            nn.Sigmoid()\n",
        "            )\n",
        "       \n",
        "    def forward(self, x):\n",
        "        \n",
        "        #your input x is an object with the following properties:\n",
        "        #x.dst['node_features'], x.dst['node_hidden_state']\n",
        "        #x.src['node_features'], x.src['node_hidden_state']\n",
        "        #x.data['distance']\n",
        "        \n",
        "        #put them together with torch.cat\n",
        "        \n",
        "        #use a neural network to create an edge hidden represetation - \n",
        "        \n",
        "        #you return a dictionary with what you want to \"send\" to the reciving node      \n",
        "        xcat = torch.cat((x.dst['node_features'], \n",
        "                  x.dst['node_hidden_state'], \n",
        "                  x.src['node_features'], \n",
        "                  x.src['node_hidden_state'],\n",
        "                  torch.unsqueeze(x.data['distance'],1)), 1)\n",
        "        output = self.Sequent(xcat)\n",
        "        return {self.out_name: output} \n",
        "        # return {'edge hidden represetation': output } return {'edge_class_prediction': out }\n",
        "       \n",
        "class NodeNetwork(nn.Module):\n",
        "    def __init__(self,node_hidden_layer,edge_hidden_layer):\n",
        "        super(NodeNetwork, self).__init__()\n",
        "        node_in = 2+edge_hidden_layer+node_hidden_layer\n",
        "        self.Sequent = nn.Sequential(\n",
        "            nn.Linear(node_in,node_hidden_layer),\n",
        "            nn.LeakyReLU(),\n",
        "            nn.Linear(node_hidden_layer,node_hidden_layer),\n",
        "            nn.LeakyReLU()\n",
        "        )\n",
        "        \n",
        "    def forward(self, x):\n",
        "        #this time your input x has:\n",
        "        # x.mailbox['edge hidden represetation'] -> this is what you send with the edge update function above - \n",
        "        # it will have the size of the node neighborhood - \n",
        "        # (Batch size, number of nodes in neighborhood, edge hidden rep size), so you need to sum/mean over dim=1 \n",
        "        # x.data['node_hidden_state'] and x.data['node_features'] (this is the existing state of your node)\n",
        "        # you need to torch.cat the message sum, node hidden state, and node features \n",
        "        #- and then apply some fully connected neural network\n",
        "\n",
        "#         print(\"malibox: \", x.mailbox['edge hidden represetation'].sum(1).shape)\n",
        "#         print(\"data: \", x.data['node_features'].shape)\n",
        "#         print(\"data_h: \", x.data['node_hidden_state'].shape)\n",
        " \n",
        "        x_cat = torch.cat((\n",
        "            x.mailbox['edge hidden represetation'].sum(1),\n",
        "            x.data['node_features'],\n",
        "            x.data['node_hidden_state']\n",
        "        ), 1)\n",
        "        \n",
        "        # return a new hidden state for the node\n",
        "        out = self.Sequent(x_cat)\n",
        "        return {'node_hidden_state': out }\n",
        "\n",
        "\n",
        "class Classifier(nn.Module):\n",
        "    def __init__(self, node_hidden_layer,edge_hidden_layer) :\n",
        "        super(Classifier, self).__init__()\n",
        "        # self.node_hidden_layer = node_hidden_layer\n",
        "        # self.edge_hidden_layer = edge_hidden_layer\n",
        "        # you need to create a network that \n",
        "        # will initialize your node hidden state based only on the node features -\n",
        "        self.node_init = nn.Sequential(\n",
        "            nn.Linear(2,node_hidden_layer),\n",
        "            nn.ReLU(),\n",
        "        )\n",
        "        \n",
        "        self.edge_network = EdgeNetwork('edge hidden represetation', 'edge_network',node_hidden_layer,edge_hidden_layer)\n",
        "        self.node_network = NodeNetwork(node_hidden_layer,edge_hidden_layer)\n",
        "        \n",
        "        #this edge classifier is also an edge update function - \n",
        "        #but it needs to return something of size 1 (the edge class prediction)\n",
        "        #so either create a different model for this, or make the EdgeNetwork configurable\n",
        "        self.edge_classifier = EdgeNetwork('edge_class_prediction', 'edge_classifier',node_hidden_layer,edge_hidden_layer)\n",
        "        \n",
        "    def forward(self, g):\n",
        "        \n",
        "        g.ndata['node_hidden_state'] = self.node_init(g.ndata['node_features'])\n",
        "        \n",
        "        for i in range(12):\n",
        "#             print(i, \": \", g.ndata['node_hidden_state'].shape)\n",
        "            g.update_all(self.edge_network,self.node_network)\n",
        "            \n",
        "        #we want to classify the edges - so finally apply your edge classifier -\n",
        "#         print(\"here\")\n",
        "        g.apply_edges(self.edge_classifier)\n",
        "        \n",
        "        #and extract its output \n",
        "        out = g.edata['edge_class_prediction']\n",
        "\n",
        "        \n",
        "        return out"
      ],
      "execution_count": 10,
      "outputs": []
    },
    {
      "cell_type": "code",
      "metadata": {
        "id": "ag2X7rKzvW_c",
        "colab_type": "code",
        "colab": {
          "base_uri": "https://localhost:8080/",
          "height": 34
        },
        "outputId": "9f1ca6f6-d7ab-49cf-f9ac-eaa29f704887"
      },
      "source": [
        "net = Classifier(50,50)\n",
        "net = net.to(torch.device('cuda'))\n",
        "data_loader = DataLoader(train_ds, batch_size=30, shuffle=True, collate_fn=collate)\n",
        "test_data_loader = DataLoader(test_ds, batch_size=30, shuffle=True, collate_fn=collate)\n",
        "# optimizer = optim.Adam(net.parameters(), lr=1e-2)\n",
        "# optimizer = optim.Adam(net.parameters(),lr=0.001,betas=(0.9, 0.999),eps=1e-08,weight_decay=0,amsgrad=False)\n",
        "optimizer = optim.SGD(net.parameters(), lr=1e-2, momentum=0.9)\n",
        "loss_func = nn.BCEWithLogitsLoss(pos_weight=20*torch.ones(1).to(torch.device('cuda')))\n",
        "# loss_func = nn.BCEWithLogitsLoss()"
      ],
      "execution_count": 11,
      "outputs": [
        {
          "output_type": "stream",
          "text": [
            "EdgeNetwork:  105\n"
          ],
          "name": "stdout"
        }
      ]
    },
    {
      "cell_type": "code",
      "metadata": {
        "id": "0Vkge-FYvXAk",
        "colab_type": "code",
        "colab": {
          "base_uri": "https://localhost:8080/",
          "height": 1000
        },
        "outputId": "e22d7fe5-ce38-4a99-f2ee-65f1ddcd5b3f"
      },
      "source": [
        "model_save_name = 'shortest_path.pt'\n",
        "path = 'drive/My Drive/ML course/' +  model_save_name  \n",
        "best_val_loss = np.inf\n",
        "for epoch in range(12):\n",
        "    t0 = time.time()\n",
        "\n",
        "    net.train()\n",
        "    true_positive = 0\n",
        "    false_positive = 0\n",
        "    true_negative = 0\n",
        "    false_negative = 0\n",
        "    total_positives = 0\n",
        "    total_negatives = 0\n",
        "    epoch_loss = 0\n",
        "    for x,y in data_loader:\n",
        "        x = x.to(torch.device('cuda'))\n",
        "        y = y.cuda()\n",
        "        predicted = net(x)\n",
        "#         batch_false_positive = (predicted!=y) & (y==0) )[0])\n",
        "#         batch_false_negative = len(np.where( (predicted_values!=y_values) & (y_values==1) )[0])\n",
        "        batch_loss = loss_func(predicted, y) #+ weighted_false_positive +  weighted_false_negative\n",
        "        epoch_loss += batch_loss.detach().item()\n",
        "\n",
        "        optimizer.zero_grad()\n",
        "        with torch.autograd.set_detect_anomaly(True):\n",
        "            batch_loss.backward(retain_graph=True)\n",
        "        optimizer.step()\n",
        "        \n",
        "        y_values = y.cpu().data.numpy()\n",
        "        predicted_values = torch.round(predicted.cpu()).data.numpy()\n",
        "        total_positives+=len(np.where( y_values==1 )[0])\n",
        "        total_negatives+=len(np.where( y_values==0 )[0])\n",
        "        true_positive+= len(np.where( (predicted_values==y_values) & (y_values==1) )[0])\n",
        "        true_negative+= len(np.where( (predicted_values==y_values) & (y_values==0) )[0])\n",
        "        false_positive+= len(np.where( (predicted_values!=y_values) & (y_values==0) )[0])\n",
        "        false_negative+= len(np.where( (predicted_values!=y_values) & (y_values==1) )[0])\n",
        "\n",
        "#     sample_data = predicted.cpu().data.numpy()\n",
        "#     sample_y = y.cpu().data.numpy()\n",
        "\n",
        "    TP = true_positive/total_positives\n",
        "    FN = false_negative/total_positives\n",
        "    TN = true_negative/total_negatives\n",
        "    FP = false_positive/total_negatives\n",
        "    print(\"Epoch \", epoch)\n",
        "    sample_data = torch.cat((predicted,y),1)\n",
        "    print(sample_data)\n",
        "    print(\"   Training:   loss: {:.6f}  |  TP: {:.6f} | TN: {:.6f} | FP: {:.6f} | FN: {:.6f}\".format(\n",
        "                epoch_loss, TP, TN, FP, FN))\n",
        "#     print(\"               TP: \", true_positive, false_negative)\n",
        "    \n",
        "    net.eval()\n",
        "    true_positive = 0\n",
        "    false_positive = 0\n",
        "    true_negative = 0\n",
        "    false_negative = 0\n",
        "    total_positives = 0\n",
        "    total_negatives = 0\n",
        "    epoch_val_loss = 0\n",
        "    for x,y in test_data_loader:\n",
        "        x = x.to(torch.device('cuda'))\n",
        "        y = y.cuda()\n",
        "        predicted = net(x)\n",
        "        batch_val_loss = loss_func(predicted, y)\n",
        "        epoch_val_loss += batch_loss.detach().item()\n",
        "        y_values = y.cpu().data.numpy()\n",
        "        predicted_values = torch.round(predicted.cpu()).data.numpy()\n",
        "        total_positives+=len(np.where( y_values==1 )[0])\n",
        "        total_negatives+=len(np.where( y_values==0 )[0])\n",
        "        true_positive+= len(np.where( (predicted_values==y_values) & (y_values==1) )[0])\n",
        "        true_negative+= len(np.where( (predicted_values==y_values) & (y_values==0) )[0])\n",
        "        false_positive+= len(np.where( (predicted_values!=y_values) & (y_values==0) )[0])\n",
        "        false_negative+= len(np.where( (predicted_values!=y_values) & (y_values==1) )[0])\n",
        "    TP = true_positive/total_positives\n",
        "    FN = false_negative/total_positives\n",
        "    TN = true_negative/total_negatives\n",
        "    FP = false_positive/total_negatives\n",
        "    print(\"   Validation: loss: {:.6f}  |  TP: {:.6f} | TN: {:.6f} | FP: {:.6f} | FN: {:.6f}\".format(\n",
        "                epoch_val_loss, TP, TN, FP, FN))\n",
        "        # deep copy the model\n",
        "    if (epoch_val_loss < best_val_loss) and (TP > 0.6) and (TN > 0.9) :\n",
        "        best_val_loss = epoch_val_loss\n",
        "        print('Model saving...' , best_val_loss)\n",
        "        torch.save(net.state_dict(), path)  \n"
      ],
      "execution_count": 12,
      "outputs": [
        {
          "output_type": "stream",
          "text": [
            "Epoch  0\n",
            "tensor([[0.2760, 0.0000],\n",
            "        [0.3364, 0.0000],\n",
            "        [0.3017, 0.0000],\n",
            "        ...,\n",
            "        [0.5738, 0.0000],\n",
            "        [0.5940, 1.0000],\n",
            "        [0.3964, 0.0000]], device='cuda:0', grad_fn=<CatBackward>)\n",
            "   Training:   loss: 496.847382  |  TP: 0.082937 | TN: 0.989767 | FP: 0.010233 | FN: 0.917063\n",
            "   Validation: loss: 466.910699  |  TP: 0.322798 | TN: 0.939961 | FP: 0.060039 | FN: 0.677202\n",
            "Epoch  1\n",
            "tensor([[0.0223, 0.0000],\n",
            "        [0.2482, 0.0000],\n",
            "        [0.2916, 0.0000],\n",
            "        ...,\n",
            "        [0.8397, 1.0000],\n",
            "        [0.9537, 0.0000],\n",
            "        [0.9475, 1.0000]], device='cuda:0', grad_fn=<CatBackward>)\n",
            "   Training:   loss: 471.696336  |  TP: 0.602003 | TN: 0.811128 | FP: 0.188872 | FN: 0.397997\n",
            "   Validation: loss: 443.416291  |  TP: 0.543305 | TN: 0.894327 | FP: 0.105673 | FN: 0.456695\n",
            "Epoch  2\n",
            "tensor([[0.9117, 0.0000],\n",
            "        [0.2722, 0.0000],\n",
            "        [0.9567, 1.0000],\n",
            "        ...,\n",
            "        [0.1374, 0.0000],\n",
            "        [0.4724, 0.0000],\n",
            "        [0.0383, 0.0000]], device='cuda:0', grad_fn=<CatBackward>)\n",
            "   Training:   loss: 429.841337  |  TP: 0.802028 | TN: 0.804712 | FP: 0.195288 | FN: 0.197972\n",
            "   Validation: loss: 390.337591  |  TP: 0.943116 | TN: 0.804143 | FP: 0.195857 | FN: 0.056884\n",
            "Epoch  3\n",
            "tensor([[3.1155e-08, 0.0000e+00],\n",
            "        [1.3281e-05, 0.0000e+00],\n",
            "        [5.3794e-07, 0.0000e+00],\n",
            "        ...,\n",
            "        [1.1658e-10, 0.0000e+00],\n",
            "        [1.3146e-16, 0.0000e+00],\n",
            "        [2.8040e-10, 0.0000e+00]], device='cuda:0', grad_fn=<CatBackward>)\n",
            "   Training:   loss: 398.515626  |  TP: 0.905737 | TN: 0.851192 | FP: 0.148808 | FN: 0.094263\n",
            "   Validation: loss: 394.459612  |  TP: 0.935264 | TN: 0.863267 | FP: 0.136733 | FN: 0.064736\n",
            "Epoch  4\n",
            "tensor([[9.6888e-04, 0.0000e+00],\n",
            "        [1.7595e-01, 0.0000e+00],\n",
            "        [9.9913e-01, 1.0000e+00],\n",
            "        ...,\n",
            "        [1.3908e-11, 0.0000e+00],\n",
            "        [4.6102e-03, 0.0000e+00],\n",
            "        [1.7990e-09, 0.0000e+00]], device='cuda:0', grad_fn=<CatBackward>)\n",
            "   Training:   loss: 393.520146  |  TP: 0.913524 | TN: 0.869423 | FP: 0.130577 | FN: 0.086476\n",
            "   Validation: loss: 402.772336  |  TP: 0.916492 | TN: 0.899350 | FP: 0.100650 | FN: 0.083508\n",
            "Epoch  5\n",
            "tensor([[6.6379e-12, 0.0000e+00],\n",
            "        [3.9291e-19, 0.0000e+00],\n",
            "        [5.8894e-18, 0.0000e+00],\n",
            "        ...,\n",
            "        [2.8417e-04, 0.0000e+00],\n",
            "        [1.3404e-09, 0.0000e+00],\n",
            "        [7.0188e-11, 0.0000e+00]], device='cuda:0', grad_fn=<CatBackward>)\n",
            "   Training:   loss: 389.881961  |  TP: 0.913408 | TN: 0.886373 | FP: 0.113627 | FN: 0.086592\n",
            "   Validation: loss: 395.011938  |  TP: 0.970089 | TN: 0.815799 | FP: 0.184201 | FN: 0.029911\n",
            "Epoch  6\n",
            "tensor([[8.1169e-15, 0.0000e+00],\n",
            "        [4.9829e-12, 0.0000e+00],\n",
            "        [1.5571e-12, 0.0000e+00],\n",
            "        ...,\n",
            "        [3.2982e-06, 0.0000e+00],\n",
            "        [1.2403e-05, 0.0000e+00],\n",
            "        [9.4545e-01, 1.0000e+00]], device='cuda:0', grad_fn=<CatBackward>)\n",
            "   Training:   loss: 386.202636  |  TP: 0.917609 | TN: 0.901762 | FP: 0.098238 | FN: 0.082391\n",
            "   Validation: loss: 381.303642  |  TP: 0.902205 | TN: 0.936131 | FP: 0.063869 | FN: 0.097795\n",
            "Model saving... 381.3036415576935\n",
            "Epoch  7\n",
            "tensor([[9.7838e-08, 0.0000e+00],\n",
            "        [4.0746e-14, 0.0000e+00],\n",
            "        [1.2438e-10, 0.0000e+00],\n",
            "        ...,\n",
            "        [1.5891e-08, 0.0000e+00],\n",
            "        [2.2125e-11, 0.0000e+00],\n",
            "        [2.0387e-14, 0.0000e+00]], device='cuda:0', grad_fn=<CatBackward>)\n",
            "   Training:   loss: 379.886420  |  TP: 0.931476 | TN: 0.923176 | FP: 0.076824 | FN: 0.068524\n",
            "   Validation: loss: 382.581692  |  TP: 0.922324 | TN: 0.948218 | FP: 0.051782 | FN: 0.077676\n",
            "Epoch  8\n",
            "tensor([[1.5574e-12, 0.0000e+00],\n",
            "        [6.6466e-12, 0.0000e+00],\n",
            "        [3.8725e-17, 0.0000e+00],\n",
            "        ...,\n",
            "        [8.2282e-06, 0.0000e+00],\n",
            "        [7.4060e-05, 0.0000e+00],\n",
            "        [1.4387e-07, 0.0000e+00]], device='cuda:0', grad_fn=<CatBackward>)\n",
            "   Training:   loss: 376.601682  |  TP: 0.935108 | TN: 0.936900 | FP: 0.063100 | FN: 0.064892\n",
            "   Validation: loss: 381.729911  |  TP: 0.954709 | TN: 0.930762 | FP: 0.069238 | FN: 0.045291\n",
            "Epoch  9\n",
            "tensor([[1.0000e+00, 1.0000e+00],\n",
            "        [1.0000e+00, 1.0000e+00],\n",
            "        [6.1048e-18, 0.0000e+00],\n",
            "        ...,\n",
            "        [2.9151e-25, 0.0000e+00],\n",
            "        [5.3817e-22, 0.0000e+00],\n",
            "        [4.0718e-25, 0.0000e+00]], device='cuda:0', grad_fn=<CatBackward>)\n",
            "   Training:   loss: 375.722986  |  TP: 0.941351 | TN: 0.936145 | FP: 0.063855 | FN: 0.058649\n",
            "   Validation: loss: 377.390415  |  TP: 0.952851 | TN: 0.930943 | FP: 0.069057 | FN: 0.047149\n",
            "Model saving... 377.3904151916504\n",
            "Epoch  10\n",
            "tensor([[9.9820e-24, 0.0000e+00],\n",
            "        [1.5495e-12, 0.0000e+00],\n",
            "        [5.8719e-09, 0.0000e+00],\n",
            "        ...,\n",
            "        [3.2958e-04, 0.0000e+00],\n",
            "        [8.1019e-15, 0.0000e+00],\n",
            "        [3.7236e-10, 0.0000e+00]], device='cuda:0', grad_fn=<CatBackward>)\n",
            "   Training:   loss: 374.325902  |  TP: 0.943208 | TN: 0.941039 | FP: 0.058961 | FN: 0.056792\n",
            "   Validation: loss: 370.602082  |  TP: 0.960866 | TN: 0.934293 | FP: 0.065707 | FN: 0.039134\n",
            "Model saving... 370.602082490921\n",
            "Epoch  11\n",
            "tensor([[3.5285e-29, 0.0000e+00],\n",
            "        [1.1404e-26, 0.0000e+00],\n",
            "        [9.2200e-08, 0.0000e+00],\n",
            "        ...,\n",
            "        [0.0000e+00, 0.0000e+00],\n",
            "        [1.6110e-20, 0.0000e+00],\n",
            "        [2.0274e-31, 0.0000e+00]], device='cuda:0', grad_fn=<CatBackward>)\n",
            "   Training:   loss: 374.636563  |  TP: 0.940655 | TN: 0.942224 | FP: 0.057776 | FN: 0.059345\n",
            "   Validation: loss: 369.090352  |  TP: 0.959146 | TN: 0.926752 | FP: 0.073248 | FN: 0.040854\n",
            "Model saving... 369.0903522968292\n"
          ],
          "name": "stdout"
        }
      ]
    },
    {
      "cell_type": "code",
      "metadata": {
        "id": "1m3SfooNvXBA",
        "colab_type": "code",
        "colab": {
          "base_uri": "https://localhost:8080/",
          "height": 489
        },
        "outputId": "3cbbc17d-bdc4-4c72-ef80-9a11e127640d"
      },
      "source": [
        "from scipy.special import expit, logit\n",
        "net.load_state_dict(torch.load(path))\n",
        "fig,ax = plt.subplots(1,2,figsize=(6,3),dpi=150)\n",
        "\n",
        "ax[0].set_title('Target')\n",
        "ax[1].set_title('Model Prediction')\n",
        "\n",
        "net.eval()\n",
        "net.cpu()\n",
        "\n",
        "dgl_g = test_ds[5558][0]\n",
        "\n",
        "# output_pred = net(dgl_g).data.numpy()\n",
        "output_pred = np.round(net(dgl_g).data.numpy())\n",
        "nx_graph = dgl.to_networkx(dgl_g)\n",
        "pos = {i: dgl_g.ndata['node_features'][i][:2].data.numpy() for i in range(len(dgl_g.ndata['node_features']))} #nx.spring_layout(nx_graph)\n",
        "edge_list = [e for i,e in enumerate(nx_graph.edges) if dgl_g.edata['on_path'][i]==1]\n",
        "\n",
        "edge_widths = np.array([expit(output_pred[i][0]) for i in range(len(output_pred))])\n",
        "predicted_edge_list = [e for i,e in enumerate(nx_graph.edges) if output_pred[i][0] == 1]\n",
        "                       \n",
        "pos = nx.spring_layout(nx_graph)\n",
        "print(len(edge_list), len(predicted_edge_list), len(nx_graph.edges))\n",
        "print(edge_list)\n",
        "print(predicted_edge_list)\n",
        "\n",
        "nx.draw( nx_graph ,pos=pos ,ax=ax[0] ,node_size=5,arrows=False)\n",
        "nx.draw_networkx_edges(nx_graph,pos=pos,edgelist=edge_list,width=2,edge_color='r',ax=ax[0],arrows=False)\n",
        "\n",
        "nx.draw( nx_graph ,pos=pos ,ax=ax[1] ,node_size=5,arrows=False)\n",
        "nx.draw_networkx_edges(nx_graph,pos=pos,edgelist=predicted_edge_list,width=2,edge_color='r',ax=ax[1],arrows=False)\n",
        "\n",
        "plt.show()"
      ],
      "execution_count": 108,
      "outputs": [
        {
          "output_type": "stream",
          "text": [
            "8 12 108\n",
            "[(7, 14, 0), (11, 14, 0), (11, 16, 0), (14, 7, 0), (14, 11, 0), (16, 11, 0), (16, 24, 0), (24, 16, 0)]\n",
            "[(1, 16, 0), (1, 14, 0), (7, 14, 0), (11, 14, 0), (11, 16, 0), (14, 1, 0), (14, 7, 0), (14, 11, 0), (16, 1, 0), (16, 11, 0), (16, 24, 0), (24, 16, 0)]\n"
          ],
          "name": "stdout"
        },
        {
          "output_type": "display_data",
          "data": {
            "image/png": "[encoded data removed]",
            "text/plain": [
              "<Figure size 900x450 with 2 Axes>"
            ]
          },
          "metadata": {
            "tags": []
          }
        }
      ]
    },
    {
      "cell_type": "code",
      "metadata": {
        "id": "vxfXNlXDvXBi",
        "colab_type": "code",
        "colab": {}
      },
      "source": [
        "# net.eval()\n",
        "\n",
        "# true_positive = 0\n",
        "# false_positive = 0\n",
        "# true_negative = 0\n",
        "# false_negative = 0\n",
        "# total_positives = 0\n",
        "# total_negatives = 0\n",
        "\n",
        "# for i, (x,y) in enumerate(test_data_loader):\n",
        "        \n",
        "#         y = y.data.numpy()\n",
        "\n",
        "#         prediction = net(x).cpu().data.numpy()\n",
        "        \n",
        "#         prediction[prediction >= 0.5] = 1\n",
        "#         prediction[prediction <0.5] = 0\n",
        "        \n",
        "#         total_positives+=len(np.where( y==1 )[0])\n",
        "#         total_negatives+=len(np.where( y==0 )[0])\n",
        "        \n",
        "#         true_positive+= len(np.where( (prediction==y) & (y==1) )[0])\n",
        "#         true_negative+= len(np.where( (prediction==y) & (y==0) )[0])\n",
        "#         false_positive+= len(np.where( (prediction!=y) & (y==0) )[0])\n",
        "#         false_negative+= len(np.where( (prediction!=y) & (y==1) )[0])\n",
        "        \n",
        "        \n",
        "# print(true_positive/total_positives)\n",
        "# print(false_negative/total_positives)\n",
        "# print(true_negative/total_negatives)\n",
        "# print(false_positive/total_negatives)"
      ],
      "execution_count": 14,
      "outputs": []
    },
    {
      "cell_type": "code",
      "metadata": {
        "id": "pIhRZ2BavXDH",
        "colab_type": "code",
        "colab": {}
      },
      "source": [
        "# import torch as th\n",
        "# g = dgl.DGLGraph()\n",
        "# g.add_nodes(3)\n",
        "# g.add_edges([0, 1], [1, 2])   # 0 -> 1, 1 -> 2\n",
        "# g.edata['y'] = th.ones(2, 1)\n",
        "# # Doubles the edge feature.\n",
        "# def double_feature(edges): return {'y': edges.data['y'] * 2}\n",
        "# g.apply_edges(func=double_feature, edges=0) # Apply func to the first edge.\n",
        "# print(g.edata)\n",
        "# nx.draw( dgl.to_networkx(g) )"
      ],
      "execution_count": 15,
      "outputs": []
    }
  ]
}