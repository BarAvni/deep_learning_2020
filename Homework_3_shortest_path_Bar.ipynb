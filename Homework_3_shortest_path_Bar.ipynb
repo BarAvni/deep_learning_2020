{
  "nbformat": 4,
  "nbformat_minor": 0,
  "metadata": {
    "kernelspec": {
      "display_name": "Python 3",
      "language": "python",
      "name": "python3"
    },
    "language_info": {
      "codemirror_mode": {
        "name": "ipython",
        "version": 3
      },
      "file_extension": ".py",
      "mimetype": "text/x-python",
      "name": "python",
      "nbconvert_exporter": "python",
      "pygments_lexer": "ipython3",
      "version": "3.8.2"
    },
    "toc": {
      "base_numbering": 1,
      "nav_menu": {},
      "number_sections": true,
      "sideBar": true,
      "skip_h1_title": false,
      "title_cell": "Table of Contents",
      "title_sidebar": "Contents",
      "toc_cell": false,
      "toc_position": {},
      "toc_section_display": true,
      "toc_window_display": false
    },
    "colab": {
      "name": "Homework_3_shortest_path_Bar.ipynb",
      "provenance": [],
      "include_colab_link": true
    },
    "accelerator": "GPU",
    "widgets": {
      "application/vnd.jupyter.widget-state+json": {
        "97ef8ca00b764d8aa2a37b1e4d56c6d1": {
          "model_module": "@jupyter-widgets/controls",
          "model_name": "HBoxModel",
          "state": {
            "_view_name": "HBoxView",
            "_dom_classes": [],
            "_model_name": "HBoxModel",
            "_view_module": "@jupyter-widgets/controls",
            "_model_module_version": "1.5.0",
            "_view_count": null,
            "_view_module_version": "1.5.0",
            "box_style": "",
            "layout": "IPY_MODEL_7bb71aec7b6c487fa02acbbe342382a1",
            "_model_module": "@jupyter-widgets/controls",
            "children": [
              "IPY_MODEL_e40b143c71254363a62816eced556140",
              "IPY_MODEL_2c45118cf99d4c449370b363bc4c6c8b"
            ]
          }
        },
        "7bb71aec7b6c487fa02acbbe342382a1": {
          "model_module": "@jupyter-widgets/base",
          "model_name": "LayoutModel",
          "state": {
            "_view_name": "LayoutView",
            "grid_template_rows": null,
            "right": null,
            "justify_content": null,
            "_view_module": "@jupyter-widgets/base",
            "overflow": null,
            "_model_module_version": "1.2.0",
            "_view_count": null,
            "flex_flow": null,
            "width": null,
            "min_width": null,
            "border": null,
            "align_items": null,
            "bottom": null,
            "_model_module": "@jupyter-widgets/base",
            "top": null,
            "grid_column": null,
            "overflow_y": null,
            "overflow_x": null,
            "grid_auto_flow": null,
            "grid_area": null,
            "grid_template_columns": null,
            "flex": null,
            "_model_name": "LayoutModel",
            "justify_items": null,
            "grid_row": null,
            "max_height": null,
            "align_content": null,
            "visibility": null,
            "align_self": null,
            "height": null,
            "min_height": null,
            "padding": null,
            "grid_auto_rows": null,
            "grid_gap": null,
            "max_width": null,
            "order": null,
            "_view_module_version": "1.2.0",
            "grid_template_areas": null,
            "object_position": null,
            "object_fit": null,
            "grid_auto_columns": null,
            "margin": null,
            "display": null,
            "left": null
          }
        },
        "e40b143c71254363a62816eced556140": {
          "model_module": "@jupyter-widgets/controls",
          "model_name": "FloatProgressModel",
          "state": {
            "_view_name": "ProgressView",
            "style": "IPY_MODEL_86e5daa3ea0f435a942bdd2a44295b01",
            "_dom_classes": [],
            "description": "100%",
            "_model_name": "FloatProgressModel",
            "bar_style": "success",
            "max": 10000,
            "_view_module": "@jupyter-widgets/controls",
            "_model_module_version": "1.5.0",
            "value": 10000,
            "_view_count": null,
            "_view_module_version": "1.5.0",
            "orientation": "horizontal",
            "min": 0,
            "description_tooltip": null,
            "_model_module": "@jupyter-widgets/controls",
            "layout": "IPY_MODEL_eb23b43172b54b7e91d61d999a8832ae"
          }
        },
        "2c45118cf99d4c449370b363bc4c6c8b": {
          "model_module": "@jupyter-widgets/controls",
          "model_name": "HTMLModel",
          "state": {
            "_view_name": "HTMLView",
            "style": "IPY_MODEL_6d064197fb9a4e9588cedbe3d64145c9",
            "_dom_classes": [],
            "description": "",
            "_model_name": "HTMLModel",
            "placeholder": "​",
            "_view_module": "@jupyter-widgets/controls",
            "_model_module_version": "1.5.0",
            "value": " 10000/10000 [00:29&lt;00:00, 339.34it/s]",
            "_view_count": null,
            "_view_module_version": "1.5.0",
            "description_tooltip": null,
            "_model_module": "@jupyter-widgets/controls",
            "layout": "IPY_MODEL_fefd83e7c32048b4925187ab7b97d42d"
          }
        },
        "86e5daa3ea0f435a942bdd2a44295b01": {
          "model_module": "@jupyter-widgets/controls",
          "model_name": "ProgressStyleModel",
          "state": {
            "_view_name": "StyleView",
            "_model_name": "ProgressStyleModel",
            "description_width": "initial",
            "_view_module": "@jupyter-widgets/base",
            "_model_module_version": "1.5.0",
            "_view_count": null,
            "_view_module_version": "1.2.0",
            "bar_color": null,
            "_model_module": "@jupyter-widgets/controls"
          }
        },
        "eb23b43172b54b7e91d61d999a8832ae": {
          "model_module": "@jupyter-widgets/base",
          "model_name": "LayoutModel",
          "state": {
            "_view_name": "LayoutView",
            "grid_template_rows": null,
            "right": null,
            "justify_content": null,
            "_view_module": "@jupyter-widgets/base",
            "overflow": null,
            "_model_module_version": "1.2.0",
            "_view_count": null,
            "flex_flow": null,
            "width": null,
            "min_width": null,
            "border": null,
            "align_items": null,
            "bottom": null,
            "_model_module": "@jupyter-widgets/base",
            "top": null,
            "grid_column": null,
            "overflow_y": null,
            "overflow_x": null,
            "grid_auto_flow": null,
            "grid_area": null,
            "grid_template_columns": null,
            "flex": null,
            "_model_name": "LayoutModel",
            "justify_items": null,
            "grid_row": null,
            "max_height": null,
            "align_content": null,
            "visibility": null,
            "align_self": null,
            "height": null,
            "min_height": null,
            "padding": null,
            "grid_auto_rows": null,
            "grid_gap": null,
            "max_width": null,
            "order": null,
            "_view_module_version": "1.2.0",
            "grid_template_areas": null,
            "object_position": null,
            "object_fit": null,
            "grid_auto_columns": null,
            "margin": null,
            "display": null,
            "left": null
          }
        },
        "6d064197fb9a4e9588cedbe3d64145c9": {
          "model_module": "@jupyter-widgets/controls",
          "model_name": "DescriptionStyleModel",
          "state": {
            "_view_name": "StyleView",
            "_model_name": "DescriptionStyleModel",
            "description_width": "",
            "_view_module": "@jupyter-widgets/base",
            "_model_module_version": "1.5.0",
            "_view_count": null,
            "_view_module_version": "1.2.0",
            "_model_module": "@jupyter-widgets/controls"
          }
        },
        "fefd83e7c32048b4925187ab7b97d42d": {
          "model_module": "@jupyter-widgets/base",
          "model_name": "LayoutModel",
          "state": {
            "_view_name": "LayoutView",
            "grid_template_rows": null,
            "right": null,
            "justify_content": null,
            "_view_module": "@jupyter-widgets/base",
            "overflow": null,
            "_model_module_version": "1.2.0",
            "_view_count": null,
            "flex_flow": null,
            "width": null,
            "min_width": null,
            "border": null,
            "align_items": null,
            "bottom": null,
            "_model_module": "@jupyter-widgets/base",
            "top": null,
            "grid_column": null,
            "overflow_y": null,
            "overflow_x": null,
            "grid_auto_flow": null,
            "grid_area": null,
            "grid_template_columns": null,
            "flex": null,
            "_model_name": "LayoutModel",
            "justify_items": null,
            "grid_row": null,
            "max_height": null,
            "align_content": null,
            "visibility": null,
            "align_self": null,
            "height": null,
            "min_height": null,
            "padding": null,
            "grid_auto_rows": null,
            "grid_gap": null,
            "max_width": null,
            "order": null,
            "_view_module_version": "1.2.0",
            "grid_template_areas": null,
            "object_position": null,
            "object_fit": null,
            "grid_auto_columns": null,
            "margin": null,
            "display": null,
            "left": null
          }
        },
        "a09c3295384448cb9d0e08eef9587ac1": {
          "model_module": "@jupyter-widgets/controls",
          "model_name": "HBoxModel",
          "state": {
            "_view_name": "HBoxView",
            "_dom_classes": [],
            "_model_name": "HBoxModel",
            "_view_module": "@jupyter-widgets/controls",
            "_model_module_version": "1.5.0",
            "_view_count": null,
            "_view_module_version": "1.5.0",
            "box_style": "",
            "layout": "IPY_MODEL_addf6fd899c0499b8a96876fb7909d2a",
            "_model_module": "@jupyter-widgets/controls",
            "children": [
              "IPY_MODEL_fe27dfde86804b3eb76e3a656551a42b",
              "IPY_MODEL_da8231a99267482ebe69be89ce39902b"
            ]
          }
        },
        "addf6fd899c0499b8a96876fb7909d2a": {
          "model_module": "@jupyter-widgets/base",
          "model_name": "LayoutModel",
          "state": {
            "_view_name": "LayoutView",
            "grid_template_rows": null,
            "right": null,
            "justify_content": null,
            "_view_module": "@jupyter-widgets/base",
            "overflow": null,
            "_model_module_version": "1.2.0",
            "_view_count": null,
            "flex_flow": null,
            "width": null,
            "min_width": null,
            "border": null,
            "align_items": null,
            "bottom": null,
            "_model_module": "@jupyter-widgets/base",
            "top": null,
            "grid_column": null,
            "overflow_y": null,
            "overflow_x": null,
            "grid_auto_flow": null,
            "grid_area": null,
            "grid_template_columns": null,
            "flex": null,
            "_model_name": "LayoutModel",
            "justify_items": null,
            "grid_row": null,
            "max_height": null,
            "align_content": null,
            "visibility": null,
            "align_self": null,
            "height": null,
            "min_height": null,
            "padding": null,
            "grid_auto_rows": null,
            "grid_gap": null,
            "max_width": null,
            "order": null,
            "_view_module_version": "1.2.0",
            "grid_template_areas": null,
            "object_position": null,
            "object_fit": null,
            "grid_auto_columns": null,
            "margin": null,
            "display": null,
            "left": null
          }
        },
        "fe27dfde86804b3eb76e3a656551a42b": {
          "model_module": "@jupyter-widgets/controls",
          "model_name": "FloatProgressModel",
          "state": {
            "_view_name": "ProgressView",
            "style": "IPY_MODEL_41d3250186324c38af9d140cd1cd5e89",
            "_dom_classes": [],
            "description": "100%",
            "_model_name": "FloatProgressModel",
            "bar_style": "success",
            "max": 10000,
            "_view_module": "@jupyter-widgets/controls",
            "_model_module_version": "1.5.0",
            "value": 10000,
            "_view_count": null,
            "_view_module_version": "1.5.0",
            "orientation": "horizontal",
            "min": 0,
            "description_tooltip": null,
            "_model_module": "@jupyter-widgets/controls",
            "layout": "IPY_MODEL_740bc0fbb4f74f4a9102388b3397cf6f"
          }
        },
        "da8231a99267482ebe69be89ce39902b": {
          "model_module": "@jupyter-widgets/controls",
          "model_name": "HTMLModel",
          "state": {
            "_view_name": "HTMLView",
            "style": "IPY_MODEL_e9f47765971542609ce409c86135094a",
            "_dom_classes": [],
            "description": "",
            "_model_name": "HTMLModel",
            "placeholder": "​",
            "_view_module": "@jupyter-widgets/controls",
            "_model_module_version": "1.5.0",
            "value": " 10000/10000 [00:24&lt;00:00, 413.87it/s]",
            "_view_count": null,
            "_view_module_version": "1.5.0",
            "description_tooltip": null,
            "_model_module": "@jupyter-widgets/controls",
            "layout": "IPY_MODEL_16dad16d3a774aaabd5fcab30be69bdc"
          }
        },
        "41d3250186324c38af9d140cd1cd5e89": {
          "model_module": "@jupyter-widgets/controls",
          "model_name": "ProgressStyleModel",
          "state": {
            "_view_name": "StyleView",
            "_model_name": "ProgressStyleModel",
            "description_width": "initial",
            "_view_module": "@jupyter-widgets/base",
            "_model_module_version": "1.5.0",
            "_view_count": null,
            "_view_module_version": "1.2.0",
            "bar_color": null,
            "_model_module": "@jupyter-widgets/controls"
          }
        },
        "740bc0fbb4f74f4a9102388b3397cf6f": {
          "model_module": "@jupyter-widgets/base",
          "model_name": "LayoutModel",
          "state": {
            "_view_name": "LayoutView",
            "grid_template_rows": null,
            "right": null,
            "justify_content": null,
            "_view_module": "@jupyter-widgets/base",
            "overflow": null,
            "_model_module_version": "1.2.0",
            "_view_count": null,
            "flex_flow": null,
            "width": null,
            "min_width": null,
            "border": null,
            "align_items": null,
            "bottom": null,
            "_model_module": "@jupyter-widgets/base",
            "top": null,
            "grid_column": null,
            "overflow_y": null,
            "overflow_x": null,
            "grid_auto_flow": null,
            "grid_area": null,
            "grid_template_columns": null,
            "flex": null,
            "_model_name": "LayoutModel",
            "justify_items": null,
            "grid_row": null,
            "max_height": null,
            "align_content": null,
            "visibility": null,
            "align_self": null,
            "height": null,
            "min_height": null,
            "padding": null,
            "grid_auto_rows": null,
            "grid_gap": null,
            "max_width": null,
            "order": null,
            "_view_module_version": "1.2.0",
            "grid_template_areas": null,
            "object_position": null,
            "object_fit": null,
            "grid_auto_columns": null,
            "margin": null,
            "display": null,
            "left": null
          }
        },
        "e9f47765971542609ce409c86135094a": {
          "model_module": "@jupyter-widgets/controls",
          "model_name": "DescriptionStyleModel",
          "state": {
            "_view_name": "StyleView",
            "_model_name": "DescriptionStyleModel",
            "description_width": "",
            "_view_module": "@jupyter-widgets/base",
            "_model_module_version": "1.5.0",
            "_view_count": null,
            "_view_module_version": "1.2.0",
            "_model_module": "@jupyter-widgets/controls"
          }
        },
        "16dad16d3a774aaabd5fcab30be69bdc": {
          "model_module": "@jupyter-widgets/base",
          "model_name": "LayoutModel",
          "state": {
            "_view_name": "LayoutView",
            "grid_template_rows": null,
            "right": null,
            "justify_content": null,
            "_view_module": "@jupyter-widgets/base",
            "overflow": null,
            "_model_module_version": "1.2.0",
            "_view_count": null,
            "flex_flow": null,
            "width": null,
            "min_width": null,
            "border": null,
            "align_items": null,
            "bottom": null,
            "_model_module": "@jupyter-widgets/base",
            "top": null,
            "grid_column": null,
            "overflow_y": null,
            "overflow_x": null,
            "grid_auto_flow": null,
            "grid_area": null,
            "grid_template_columns": null,
            "flex": null,
            "_model_name": "LayoutModel",
            "justify_items": null,
            "grid_row": null,
            "max_height": null,
            "align_content": null,
            "visibility": null,
            "align_self": null,
            "height": null,
            "min_height": null,
            "padding": null,
            "grid_auto_rows": null,
            "grid_gap": null,
            "max_width": null,
            "order": null,
            "_view_module_version": "1.2.0",
            "grid_template_areas": null,
            "object_position": null,
            "object_fit": null,
            "grid_auto_columns": null,
            "margin": null,
            "display": null,
            "left": null
          }
        }
      }
    }
  },
  "cells": [
    {
      "cell_type": "markdown",
      "metadata": {
        "id": "view-in-github",
        "colab_type": "text"
      },
      "source": [
        "<a href=\"https://colab.research.google.com/github/BarAvni/deep_learning_2020/blob/master/Homework_3_shortest_path_Bar.ipynb\" target=\"_parent\"><img src=\"https://colab.research.google.com/assets/colab-badge.svg\" alt=\"Open In Colab\"/></a>"
      ]
    },
    {
      "cell_type": "code",
      "metadata": {
        "id": "Kwo_tvtbvW6N",
        "colab_type": "code",
        "colab": {
          "base_uri": "https://localhost:8080/",
          "height": 322
        },
        "outputId": "1a76a88b-6b67-49f2-889f-086e3e1cab96"
      },
      "source": [
        "!pip install dgl\n",
        "import dgl\n",
        "import dgl.function as fn\n",
        "import torch\n",
        "import torch.nn as nn\n",
        "import torch.nn.functional as F\n",
        "from dgl import DGLGraph\n",
        "from torch.utils.data import Dataset, DataLoader\n",
        "import glob\n",
        "import json\n",
        "from tqdm.notebook import tqdm\n",
        "import torch.optim as optim\n",
        "import numpy as np\n",
        "import networkx as nx\n",
        "import time\n",
        "\n",
        "import matplotlib.pyplot as plt"
      ],
      "execution_count": 1,
      "outputs": [
        {
          "output_type": "stream",
          "text": [
            "Collecting dgl\n",
            "\u001b[?25l  Downloading https://files.pythonhosted.org/packages/c5/b4/84e4ebd70ef3985181ef5d2d2a366a45af0e3cd18d249fb212ac03f683cf/dgl-0.4.3.post2-cp36-cp36m-manylinux1_x86_64.whl (3.0MB)\n",
            "\u001b[K     |████████████████████████████████| 3.0MB 4.6MB/s \n",
            "\u001b[?25hRequirement already satisfied: requests>=2.19.0 in /usr/local/lib/python3.6/dist-packages (from dgl) (2.23.0)\n",
            "Requirement already satisfied: networkx>=2.1 in /usr/local/lib/python3.6/dist-packages (from dgl) (2.4)\n",
            "Requirement already satisfied: numpy>=1.14.0 in /usr/local/lib/python3.6/dist-packages (from dgl) (1.18.5)\n",
            "Requirement already satisfied: scipy>=1.1.0 in /usr/local/lib/python3.6/dist-packages (from dgl) (1.4.1)\n",
            "Requirement already satisfied: chardet<4,>=3.0.2 in /usr/local/lib/python3.6/dist-packages (from requests>=2.19.0->dgl) (3.0.4)\n",
            "Requirement already satisfied: urllib3!=1.25.0,!=1.25.1,<1.26,>=1.21.1 in /usr/local/lib/python3.6/dist-packages (from requests>=2.19.0->dgl) (1.24.3)\n",
            "Requirement already satisfied: certifi>=2017.4.17 in /usr/local/lib/python3.6/dist-packages (from requests>=2.19.0->dgl) (2020.4.5.2)\n",
            "Requirement already satisfied: idna<3,>=2.5 in /usr/local/lib/python3.6/dist-packages (from requests>=2.19.0->dgl) (2.9)\n",
            "Requirement already satisfied: decorator>=4.3.0 in /usr/local/lib/python3.6/dist-packages (from networkx>=2.1->dgl) (4.4.2)\n",
            "Installing collected packages: dgl\n",
            "Successfully installed dgl-0.4.3.post2\n"
          ],
          "name": "stdout"
        },
        {
          "output_type": "stream",
          "text": [
            "DGL backend not selected or invalid.  Assuming PyTorch for now.\n",
            "Using backend: pytorch\n"
          ],
          "name": "stderr"
        },
        {
          "output_type": "stream",
          "text": [
            "Setting the default backend to \"pytorch\". You can change it in the ~/.dgl/config.json file or export the DGLBACKEND environment variable.  Valid options are: pytorch, mxnet, tensorflow (all lowercase)\n"
          ],
          "name": "stdout"
        }
      ]
    },
    {
      "cell_type": "code",
      "metadata": {
        "id": "mf-mgHJBvW62",
        "colab_type": "code",
        "colab": {
          "base_uri": "https://localhost:8080/",
          "height": 440
        },
        "outputId": "659db775-2a56-4296-8b43-74403a6cd3e0"
      },
      "source": [
        "!wget https://www.dropbox.com/sh/rl0uf65qyyrwx86/AAAQKpWUsOqX-EkXT-9R533va?dl=0\n",
        "!unzip -qq AAAQKpWUsOqX-EkXT-9R533va?dl=0\n",
        "!unzip -qq training_data.zip\n",
        "!unzip -qq test_data.zip\n",
        "path_to_ds = 'training_data/'\n",
        "path_to_test_ds = 'test_data/'"
      ],
      "execution_count": 2,
      "outputs": [
        {
          "output_type": "stream",
          "text": [
            "--2020-06-21 20:01:49--  https://www.dropbox.com/sh/rl0uf65qyyrwx86/AAAQKpWUsOqX-EkXT-9R533va?dl=0\n",
            "Resolving www.dropbox.com (www.dropbox.com)... 162.125.1.1, 2620:100:6016:1::a27d:101\n",
            "Connecting to www.dropbox.com (www.dropbox.com)|162.125.1.1|:443... connected.\n",
            "HTTP request sent, awaiting response... 301 Moved Permanently\n",
            "Location: /sh/raw/rl0uf65qyyrwx86/AAAQKpWUsOqX-EkXT-9R533va [following]\n",
            "--2020-06-21 20:01:49--  https://www.dropbox.com/sh/raw/rl0uf65qyyrwx86/AAAQKpWUsOqX-EkXT-9R533va\n",
            "Reusing existing connection to www.dropbox.com:443.\n",
            "HTTP request sent, awaiting response... 302 Found\n",
            "Location: https://uc00e9b0ba7f0f7bcac5e388d5f9.dl.dropboxusercontent.com/zip_download_get/Adc95VUoMrdKffEQNi9C8UvOwrpFqggZzUVF3x82J3piKQIjxuzZiUMc2biXsfEr17xJFtAApldrd1nZYOGszSIHIbCh2zlZO8Ke3mFl6I-2Lg [following]\n",
            "--2020-06-21 20:01:50--  https://uc00e9b0ba7f0f7bcac5e388d5f9.dl.dropboxusercontent.com/zip_download_get/Adc95VUoMrdKffEQNi9C8UvOwrpFqggZzUVF3x82J3piKQIjxuzZiUMc2biXsfEr17xJFtAApldrd1nZYOGszSIHIbCh2zlZO8Ke3mFl6I-2Lg\n",
            "Resolving uc00e9b0ba7f0f7bcac5e388d5f9.dl.dropboxusercontent.com (uc00e9b0ba7f0f7bcac5e388d5f9.dl.dropboxusercontent.com)... 162.125.1.15, 2620:100:6016:15::a27d:10f\n",
            "Connecting to uc00e9b0ba7f0f7bcac5e388d5f9.dl.dropboxusercontent.com (uc00e9b0ba7f0f7bcac5e388d5f9.dl.dropboxusercontent.com)|162.125.1.15|:443... connected.\n",
            "HTTP request sent, awaiting response... 200 OK\n",
            "Length: 29027139 (28M) [application/zip]\n",
            "Saving to: ‘AAAQKpWUsOqX-EkXT-9R533va?dl=0’\n",
            "\n",
            "AAAQKpWUsOqX-EkXT-9 100%[===================>]  27.68M  3.86MB/s    in 7.2s    \n",
            "\n",
            "2020-06-21 20:01:59 (3.86 MB/s) - ‘AAAQKpWUsOqX-EkXT-9R533va?dl=0’ saved [29027139/29027139]\n",
            "\n",
            "warning:  stripped absolute path spec from /\n",
            "mapname:  conversion of  failed\n",
            "\n",
            "1 archive had fatal errors.\n"
          ],
          "name": "stdout"
        }
      ]
    },
    {
      "cell_type": "code",
      "metadata": {
        "id": "SK6GtQI2vW7j",
        "colab_type": "code",
        "colab": {}
      },
      "source": [
        "class CustomDataset(Dataset):\n",
        "    \n",
        "    def __init__(self, path):\n",
        "        filelist = glob.glob(path+'/*.json')\n",
        "        self.graphs = []\n",
        "        for fname in tqdm(filelist):\n",
        "            with open(fname) as jfile:\n",
        "                graph = nx.node_link_graph(json.load(jfile))\n",
        "                g = dgl.DGLGraph()\n",
        "                g.from_networkx(graph,node_attrs=['node_features'],edge_attrs=['distance','on_path'])        \n",
        "                self.graphs.append(g)\n",
        "        \n",
        "    def __len__(self):      \n",
        "        return len(self.graphs)\n",
        "\n",
        "    def __getitem__(self, idx):    \n",
        "        return self.graphs[idx], self.graphs[idx].edata['on_path']"
      ],
      "execution_count": 3,
      "outputs": []
    },
    {
      "cell_type": "code",
      "metadata": {
        "id": "hIVccqpxvW8O",
        "colab_type": "code",
        "colab": {
          "base_uri": "https://localhost:8080/",
          "height": 114,
          "referenced_widgets": [
            "97ef8ca00b764d8aa2a37b1e4d56c6d1",
            "7bb71aec7b6c487fa02acbbe342382a1",
            "e40b143c71254363a62816eced556140",
            "2c45118cf99d4c449370b363bc4c6c8b",
            "86e5daa3ea0f435a942bdd2a44295b01",
            "eb23b43172b54b7e91d61d999a8832ae",
            "6d064197fb9a4e9588cedbe3d64145c9",
            "fefd83e7c32048b4925187ab7b97d42d",
            "a09c3295384448cb9d0e08eef9587ac1",
            "addf6fd899c0499b8a96876fb7909d2a",
            "fe27dfde86804b3eb76e3a656551a42b",
            "da8231a99267482ebe69be89ce39902b",
            "41d3250186324c38af9d140cd1cd5e89",
            "740bc0fbb4f74f4a9102388b3397cf6f",
            "e9f47765971542609ce409c86135094a",
            "16dad16d3a774aaabd5fcab30be69bdc"
          ]
        },
        "outputId": "a810d042-cc6b-477b-8b0c-ebcab44cbfdb"
      },
      "source": [
        "train_ds = CustomDataset(path_to_ds)\n",
        "test_ds = CustomDataset(path_to_test_ds)"
      ],
      "execution_count": 4,
      "outputs": [
        {
          "output_type": "display_data",
          "data": {
            "application/vnd.jupyter.widget-view+json": {
              "model_id": "97ef8ca00b764d8aa2a37b1e4d56c6d1",
              "version_minor": 0,
              "version_major": 2
            },
            "text/plain": [
              "HBox(children=(FloatProgress(value=0.0, max=10000.0), HTML(value='')))"
            ]
          },
          "metadata": {
            "tags": []
          }
        },
        {
          "output_type": "stream",
          "text": [
            "\n"
          ],
          "name": "stdout"
        },
        {
          "output_type": "display_data",
          "data": {
            "application/vnd.jupyter.widget-view+json": {
              "model_id": "a09c3295384448cb9d0e08eef9587ac1",
              "version_minor": 0,
              "version_major": 2
            },
            "text/plain": [
              "HBox(children=(FloatProgress(value=0.0, max=10000.0), HTML(value='')))"
            ]
          },
          "metadata": {
            "tags": []
          }
        },
        {
          "output_type": "stream",
          "text": [
            "\n"
          ],
          "name": "stdout"
        }
      ]
    },
    {
      "cell_type": "code",
      "metadata": {
        "id": "kDUsZlzOvW8k",
        "colab_type": "code",
        "colab": {
          "base_uri": "https://localhost:8080/",
          "height": 202
        },
        "outputId": "3f34be3f-b226-463c-eca8-415b8a73715d"
      },
      "source": [
        "train_ds[495]"
      ],
      "execution_count": 5,
      "outputs": [
        {
          "output_type": "execute_result",
          "data": {
            "text/plain": [
              "(DGLGraph(num_nodes=47, num_edges=188,\n",
              "          ndata_schemes={'node_features': Scheme(shape=(2,), dtype=torch.float32)}\n",
              "          edata_schemes={'distance': Scheme(shape=(), dtype=torch.float32), 'on_path': Scheme(shape=(), dtype=torch.int64)}),\n",
              " tensor([0, 0, 0, 0, 0, 0, 0, 0, 0, 0, 0, 0, 1, 0, 0, 0, 0, 0, 0, 0, 0, 0, 0, 0,\n",
              "         0, 0, 0, 0, 0, 0, 1, 0, 0, 0, 0, 0, 0, 1, 0, 0, 0, 0, 0, 0, 0, 0, 0, 0,\n",
              "         0, 0, 1, 0, 0, 1, 0, 0, 0, 0, 0, 0, 0, 0, 0, 0, 0, 0, 0, 0, 0, 0, 0, 0,\n",
              "         0, 0, 0, 0, 0, 0, 0, 0, 0, 0, 0, 0, 0, 0, 0, 0, 0, 0, 0, 0, 0, 0, 0, 0,\n",
              "         0, 0, 0, 0, 0, 0, 0, 0, 0, 0, 0, 0, 0, 0, 0, 0, 0, 0, 0, 0, 0, 0, 0, 0,\n",
              "         0, 0, 0, 0, 0, 0, 0, 0, 0, 0, 1, 1, 0, 0, 0, 0, 0, 0, 0, 0, 0, 0, 0, 0,\n",
              "         0, 0, 1, 0, 0, 0, 0, 0, 0, 0, 0, 0, 0, 0, 0, 0, 0, 0, 0, 0, 0, 0, 0, 0,\n",
              "         0, 0, 0, 0, 0, 0, 0, 0, 0, 0, 0, 0, 0, 0, 0, 0, 0, 0, 0, 0]))"
            ]
          },
          "metadata": {
            "tags": []
          },
          "execution_count": 5
        }
      ]
    },
    {
      "cell_type": "code",
      "metadata": {
        "id": "6YoigjqQvW87",
        "colab_type": "code",
        "colab": {
          "base_uri": "https://localhost:8080/",
          "height": 319
        },
        "outputId": "086a3ac1-4f48-492a-f4d6-5ef433cadb0e"
      },
      "source": [
        "nx.draw( dgl.to_networkx(train_ds[495][0]) )"
      ],
      "execution_count": 6,
      "outputs": [
        {
          "output_type": "display_data",
          "data": {
            "image/png": "[encoded data removed]",
            "text/plain": [
              "<Figure size 432x288 with 1 Axes>"
            ]
          },
          "metadata": {
            "tags": []
          }
        }
      ]
    },
    {
      "cell_type": "code",
      "metadata": {
        "id": "JQhjdNHmvW9l",
        "colab_type": "code",
        "colab": {}
      },
      "source": [
        "def collate(samples):\n",
        "    # The input `samples` is a list, a batch of whatever comes out of your dataset object   \n",
        "    graphs = [x[0] for x in samples]\n",
        "    labels = [x[1] for x in samples]\n",
        "    batched_graph = dgl.batch(graphs,node_attrs=['node_features'],edge_attrs=['distance'])\n",
        "    targets = torch.cat(labels)    \n",
        "    return batched_graph, targets.unsqueeze(1).float()"
      ],
      "execution_count": 7,
      "outputs": []
    },
    {
      "cell_type": "code",
      "metadata": {
        "id": "Mg_853TyvW-e",
        "colab_type": "code",
        "colab": {}
      },
      "source": [
        "node_hidden1 = 20\n",
        "edge_hidden1 = 20\n",
        "# node_out = 10"
      ],
      "execution_count": 14,
      "outputs": []
    },
    {
      "cell_type": "code",
      "metadata": {
        "id": "w2Kz5dkFvW-8",
        "colab_type": "code",
        "colab": {}
      },
      "source": [
        "import torch.nn as nn\n",
        "import torch.nn.functional as F\n",
        "\n",
        "\n",
        "#this function is the edge update function - \n",
        "\n",
        "class EdgeNetwork(nn.Module):\n",
        "    def __init__(self):\n",
        "        super(EdgeNetwork, self).__init__()\n",
        "        in_features = 2*(2+node_hidden1)+1\n",
        "        print('EdgeNetwork: ', in_features)\n",
        "        self.Sequent = nn.Sequential(\n",
        "            nn.Linear(in_features,edge_hidden1),\n",
        "            nn.ReLU(),\n",
        "            nn.Linear(edge_hidden1,edge_hidden1),\n",
        "            nn.ReLU()\n",
        "        )\n",
        "        \n",
        "    def forward(self, x):\n",
        "        \n",
        "        #your input x is an object with the following properties:\n",
        "        #x.dst['node_features'], x.dst['node_hidden_state']\n",
        "        #x.src['node_features'], x.src['node_hidden_state']\n",
        "        #x.data['distance']\n",
        "        \n",
        "        #put them together with torch.cat\n",
        "        \n",
        "        #use a neural network to create an edge hidden represetation - \n",
        "        \n",
        "        #you return a dictionary with what you want to \"send\" to the reciving node\n",
        "        \n",
        "#         print(\"dst: \", x.dst['node_features'].shape)\n",
        "#         print(\"dst_h: \", x.dst['node_hidden_state'].shape)\n",
        "#         print(\"src: \", x.src['node_features'].shape)\n",
        "#         print(\"src_h: \", x.src['node_hidden_state'].shape)\n",
        "#         print(\"distance: \", torch.unsqueeze(x.data['distance'],1).shape)        \n",
        "        x_cat = torch.cat((x.dst['node_features'], \n",
        "                  x.dst['node_hidden_state'], \n",
        "                  x.src['node_features'], \n",
        "                  x.src['node_hidden_state'],\n",
        "                  torch.unsqueeze(x.data['distance'],1)), 1)\n",
        "#         print(\"here3: \", x_cat.shape)\n",
        "        output = self.Sequent(x_cat)\n",
        "#         print(\"here4 - output: \", output.shape)\n",
        "        return {'edge hidden represetation': output }\n",
        "\n",
        "    \n",
        "class NodeNetwork(nn.Module):\n",
        "    def __init__(self):\n",
        "        super(NodeNetwork, self).__init__()\n",
        "        in_features = 2+edge_hidden1+node_hidden1\n",
        "        print('NodeNetwork: ', in_features)\n",
        "        self.Sequent = nn.Sequential(\n",
        "            nn.Linear(in_features,node_hidden1),\n",
        "            nn.LeakyReLU(),\n",
        "            nn.Linear(node_hidden1,node_hidden1),\n",
        "            nn.LeakyReLU()\n",
        "        )\n",
        "        \n",
        "    def forward(self, x):\n",
        "        #this time your input x has:\n",
        "        # x.mailbox['edge hidden represetation'] -> this is what you send with the edge update function above - \n",
        "        # it will have the size of the node neighborhood - \n",
        "        # (Batch size, number of nodes in neighborhood, edge hidden rep size), so you need to sum/mean over dim=1 \n",
        "        # x.data['node_hidden_state'] and x.data['node_features'] (this is the existing state of your node)\n",
        "        # you need to torch.cat the message sum, node hidden state, and node features \n",
        "        #- and then apply some fully connected neural network\n",
        "\n",
        "#         print(\"malibox: \", x.mailbox['edge hidden represetation'].sum(1).shape)\n",
        "#         print(\"data: \", x.data['node_features'].shape)\n",
        "#         print(\"data_h: \", x.data['node_hidden_state'].shape)\n",
        " \n",
        "        x_cat = torch.cat((\n",
        "            x.mailbox['edge hidden represetation'].sum(1),\n",
        "            x.data['node_features'],\n",
        "            x.data['node_hidden_state']\n",
        "        ), 1)\n",
        "        \n",
        "#         print(\"here1: \", x_cat.shape)\n",
        "        # return a new hidden state for the node\n",
        "        out = self.Sequent(x_cat)\n",
        "#         print(\"here2 - out: \", out.shape)\n",
        "        return {'node_hidden_state': out }\n",
        "\n",
        "\n",
        "class EdgeClassifier(nn.Module):\n",
        "    def __init__(self):\n",
        "        super(EdgeClassifier, self).__init__()\n",
        "        in_features = 2*(2+node_hidden1)+1\n",
        "        print('EdgeClassifier: ', in_features)\n",
        "        self.layer1 = nn.Sequential(\n",
        "            nn.Linear(in_features,1),\n",
        "            nn.Sigmoid()\n",
        "        )\n",
        "       \n",
        "    def forward(self, x):\n",
        "\n",
        "#         print(\"dst: \", x.dst['node_features'].shape)\n",
        "#         print(\"dst_h: \", x.dst['node_hidden_state'].shape)\n",
        "#         print(\"src: \", x.src['node_features'].shape)\n",
        "#         print(\"src_h: \", x.src['node_hidden_state'].shape)\n",
        "#         print(\"distance: \", torch.unsqueeze(x.data['distance'],1).shape)        \n",
        "        \n",
        "        x_cat = torch.cat((x.dst['node_features'], \n",
        "                  x.dst['node_hidden_state'], \n",
        "                  x.src['node_features'], \n",
        "                  x.src['node_hidden_state'],\n",
        "                  torch.unsqueeze(x.data['distance'],1)), 1)\n",
        "#         print(x_cat.shape)\n",
        "        out = self.layer1(x_cat)#torch.round(self.layer1(x_cat))\n",
        "        return {'edge_class_prediction': out }\n",
        "\n",
        "\n",
        "class Classifier(nn.Module):\n",
        "    def __init__(self):\n",
        "        super(Classifier, self).__init__()\n",
        "        \n",
        "        # you need to create a network that \n",
        "        # will initialize your node hidden state based only on the node features -\n",
        "        self.node_init = nn.Sequential(\n",
        "            nn.Linear(2,node_hidden1),\n",
        "            nn.ReLU(),\n",
        "        )\n",
        "        \n",
        "        self.edge_network = EdgeNetwork()\n",
        "        self.node_network = NodeNetwork()\n",
        "        \n",
        "        #this edge classifier is also an edge update function - \n",
        "        #but it needs to return something of size 1 (the edge class prediction)\n",
        "        #so either create a different model for this, or make the EdgeNetwork configurable\n",
        "        self.edge_classifier = EdgeClassifier()\n",
        "        \n",
        "    def forward(self, g):\n",
        "        \n",
        "        g.ndata['node_hidden_state'] = self.node_init(g.ndata['node_features'])\n",
        "        \n",
        "        for i in range(12):\n",
        "#             print(i, \": \", g.ndata['node_hidden_state'].shape)\n",
        "            g.update_all(self.edge_network,self.node_network)\n",
        "            \n",
        "        #we want to classify the edges - so finally apply your edge classifier -\n",
        "#         print(\"here\")\n",
        "        g.apply_edges(self.edge_classifier)\n",
        "        \n",
        "        #and extract its output \n",
        "        out = g.edata['edge_class_prediction']\n",
        "\n",
        "        \n",
        "        return out"
      ],
      "execution_count": 15,
      "outputs": []
    },
    {
      "cell_type": "code",
      "metadata": {
        "id": "ag2X7rKzvW_c",
        "colab_type": "code",
        "colab": {
          "base_uri": "https://localhost:8080/",
          "height": 67
        },
        "outputId": "545522ff-eeb6-46ca-be0f-449d36724b74"
      },
      "source": [
        "net = Classifier()\n",
        "net = net.to(torch.device('cuda'))\n",
        "data_loader = DataLoader(train_ds, batch_size=30, shuffle=True, collate_fn=collate)\n",
        "test_data_loader = DataLoader(test_ds, batch_size=30, shuffle=True, collate_fn=collate)\n",
        "# optimizer = optim.Adam(net.parameters(), lr=1e-2)\n",
        "# optimizer = optim.Adam(net.parameters(),lr=0.001,betas=(0.9, 0.999),eps=1e-08,weight_decay=0,amsgrad=False)\n",
        "optimizer = optim.SGD(net.parameters(), lr=1e-2, momentum=0.9)\n",
        "loss_func = nn.BCEWithLogitsLoss(pos_weight=20*torch.ones(1).to(torch.device('cuda')))"
      ],
      "execution_count": 16,
      "outputs": [
        {
          "output_type": "stream",
          "text": [
            "EdgeNetwork:  45\n",
            "NodeNetwork:  42\n",
            "EdgeClassifier:  45\n"
          ],
          "name": "stdout"
        }
      ]
    },
    {
      "cell_type": "code",
      "metadata": {
        "id": "0Vkge-FYvXAk",
        "colab_type": "code",
        "colab": {
          "base_uri": "https://localhost:8080/",
          "height": 1000
        },
        "outputId": "914c6455-56a5-4bdb-cc0f-250dc3aa03f1"
      },
      "source": [
        "# epoch_losses, epoch_val_losses = [], []\n",
        "\n",
        "for epoch in range(12):\n",
        "    t0 = time.time()\n",
        "\n",
        "    net.train()\n",
        "    true_positive = 0\n",
        "    false_positive = 0\n",
        "    true_negative = 0\n",
        "    false_negative = 0\n",
        "    total_positives = 0\n",
        "    total_negatives = 0\n",
        "    epoch_loss = 0\n",
        "    for x,y in data_loader:\n",
        "        x = x.to(torch.device('cuda'))\n",
        "        y = y.cuda()\n",
        "        predicted = net(x)\n",
        "#         batch_false_positive = (predicted!=y) & (y==0) )[0])\n",
        "#         batch_false_negative = len(np.where( (predicted_values!=y_values) & (y_values==1) )[0])\n",
        "        batch_loss = loss_func(predicted, y) #+ weighted_false_positive +  weighted_false_negative\n",
        "        epoch_loss += batch_loss.detach().item()\n",
        "\n",
        "        optimizer.zero_grad()\n",
        "        with torch.autograd.set_detect_anomaly(True):\n",
        "            batch_loss.backward(retain_graph=True)\n",
        "        optimizer.step()\n",
        "        \n",
        "        y_values = y.cpu().data.numpy()\n",
        "        predicted_values = torch.round(predicted.cpu()).data.numpy()\n",
        "        total_positives+=len(np.where( y_values==1 )[0])\n",
        "        total_negatives+=len(np.where( y_values==0 )[0])\n",
        "        true_positive+= len(np.where( (predicted_values==y_values) & (y_values==1) )[0])\n",
        "        true_negative+= len(np.where( (predicted_values==y_values) & (y_values==0) )[0])\n",
        "        false_positive+= len(np.where( (predicted_values!=y_values) & (y_values==0) )[0])\n",
        "        false_negative+= len(np.where( (predicted_values!=y_values) & (y_values==1) )[0])\n",
        "\n",
        "#     sample_data = predicted.cpu().data.numpy()\n",
        "#     sample_y = y.cpu().data.numpy()\n",
        "\n",
        "    TP = true_positive/total_positives\n",
        "    FN = false_negative/total_positives\n",
        "    TN = true_negative/total_negatives\n",
        "    FP = false_positive/total_negatives\n",
        "    print(\"Epoch \", epoch)\n",
        "    sample_data = torch.cat((predicted,y),1)\n",
        "    print(sample_data)\n",
        "    print(\"   Training:   loss: {:.6f}  |  TP: {:.6f} | TN: {:.6f} | FP: {:.6f} | FN: {:.6f}\".format(\n",
        "                epoch_loss, TP, TN, FP, FN))\n",
        "#     print(\"               TP: \", true_positive, false_negative)\n",
        "    \n",
        "    net.eval()\n",
        "    true_positive = 0\n",
        "    false_positive = 0\n",
        "    true_negative = 0\n",
        "    false_negative = 0\n",
        "    total_positives = 0\n",
        "    total_negatives = 0\n",
        "    epoch_val_loss = 0\n",
        "    for x,y in test_data_loader:\n",
        "        x = x.to(torch.device('cuda'))\n",
        "        y = y.cuda()\n",
        "        predicted = net(x)\n",
        "        batch_val_loss = loss_func(predicted, y)\n",
        "        epoch_val_loss += batch_loss.detach().item()\n",
        "        y_values = y.cpu().data.numpy()\n",
        "        predicted_values = torch.round(predicted.cpu()).data.numpy()\n",
        "        total_positives+=len(np.where( y_values==1 )[0])\n",
        "        total_negatives+=len(np.where( y_values==0 )[0])\n",
        "        true_positive+= len(np.where( (predicted_values==y_values) & (y_values==1) )[0])\n",
        "        true_negative+= len(np.where( (predicted_values==y_values) & (y_values==0) )[0])\n",
        "        false_positive+= len(np.where( (predicted_values!=y_values) & (y_values==0) )[0])\n",
        "        false_negative+= len(np.where( (predicted_values!=y_values) & (y_values==1) )[0])\n",
        "    TP = true_positive/total_positives\n",
        "    FN = false_negative/total_positives\n",
        "    TN = true_negative/total_negatives\n",
        "    FP = false_positive/total_negatives\n",
        "    print(\"   Validation: loss: {:.6f}  |  TP: {:.6f} | TN: {:.6f} | FP: {:.6f} | FN: {:.6f}\".format(\n",
        "                epoch_val_loss, TP, TN, FP, FN))\n"
      ],
      "execution_count": null,
      "outputs": [
        {
          "output_type": "stream",
          "text": [
            "Epoch  0\n",
            "tensor([[0.4526, 1.0000],\n",
            "        [0.3151, 0.0000],\n",
            "        [0.1692, 0.0000],\n",
            "        ...,\n",
            "        [0.3475, 0.0000],\n",
            "        [0.3020, 0.0000],\n",
            "        [0.3732, 0.0000]], device='cuda:0', grad_fn=<CatBackward>)\n",
            "   Training:   loss: 496.914072  |  TP: 0.064242 | TN: 0.992208 | FP: 0.007792 | FN: 0.935758\n",
            "   Validation: loss: 484.246464  |  TP: 0.286869 | TN: 0.948315 | FP: 0.051685 | FN: 0.713131\n",
            "Epoch  1\n",
            "tensor([[0.7733, 0.0000],\n",
            "        [0.6192, 0.0000],\n",
            "        [0.7673, 0.0000],\n",
            "        ...,\n",
            "        [0.3422, 0.0000],\n",
            "        [0.6393, 0.0000],\n",
            "        [0.4895, 0.0000]], device='cuda:0', grad_fn=<CatBackward>)\n",
            "   Training:   loss: 480.619523  |  TP: 0.525855 | TN: 0.832888 | FP: 0.167112 | FN: 0.474145\n",
            "   Validation: loss: 532.986185  |  TP: 0.977813 | TN: 0.240806 | FP: 0.759194 | FN: 0.022187\n",
            "Epoch  2\n",
            "tensor([[0.1928, 0.0000],\n",
            "        [0.2787, 0.0000],\n",
            "        [0.6734, 0.0000],\n",
            "        ...,\n",
            "        [0.6391, 0.0000],\n",
            "        [0.7071, 0.0000],\n",
            "        [0.4408, 0.0000]], device='cuda:0', grad_fn=<CatBackward>)\n",
            "   Training:   loss: 471.589126  |  TP: 0.657890 | TN: 0.771201 | FP: 0.228799 | FN: 0.342110\n",
            "   Validation: loss: 464.520471  |  TP: 0.693442 | TN: 0.759185 | FP: 0.240815 | FN: 0.306558\n",
            "Epoch  3\n",
            "tensor([[0.1076, 0.0000],\n",
            "        [1.0000, 1.0000],\n",
            "        [0.0922, 1.0000],\n",
            "        ...,\n",
            "        [1.0000, 0.0000],\n",
            "        [0.1887, 0.0000],\n",
            "        [0.0131, 0.0000]], device='cuda:0', grad_fn=<CatBackward>)\n",
            "   Training:   loss: 455.340922  |  TP: 0.654791 | TN: 0.802820 | FP: 0.197180 | FN: 0.345209\n",
            "   Validation: loss: 460.087328  |  TP: 0.787845 | TN: 0.773855 | FP: 0.226145 | FN: 0.212155\n",
            "Epoch  4\n",
            "tensor([[0.0857, 0.0000],\n",
            "        [0.0701, 0.0000],\n",
            "        [0.0150, 0.0000],\n",
            "        ...,\n",
            "        [0.0608, 0.0000],\n",
            "        [0.9659, 0.0000],\n",
            "        [1.0000, 0.0000]], device='cuda:0', grad_fn=<CatBackward>)\n",
            "   Training:   loss: 431.150746  |  TP: 0.811347 | TN: 0.785255 | FP: 0.214745 | FN: 0.188653\n",
            "   Validation: loss: 398.073741  |  TP: 0.817896 | TN: 0.817690 | FP: 0.182310 | FN: 0.182104\n",
            "Epoch  5\n",
            "tensor([[2.9932e-05, 0.0000e+00],\n",
            "        [7.4217e-02, 0.0000e+00],\n",
            "        [1.0785e-06, 0.0000e+00],\n",
            "        ...,\n",
            "        [4.0930e-05, 0.0000e+00],\n",
            "        [1.0122e-03, 0.0000e+00],\n",
            "        [2.1172e-05, 0.0000e+00]], device='cuda:0', grad_fn=<CatBackward>)\n",
            "   Training:   loss: 420.923767  |  TP: 0.845313 | TN: 0.798375 | FP: 0.201625 | FN: 0.154687\n",
            "   Validation: loss: 425.001117  |  TP: 0.573297 | TN: 0.919711 | FP: 0.080289 | FN: 0.426703\n",
            "Epoch  6\n",
            "tensor([[2.3813e-07, 0.0000e+00],\n",
            "        [2.5208e-02, 0.0000e+00],\n",
            "        [2.4933e-06, 0.0000e+00],\n",
            "        ...,\n",
            "        [2.1564e-06, 0.0000e+00],\n",
            "        [5.6201e-05, 0.0000e+00],\n",
            "        [4.3242e-06, 0.0000e+00]], device='cuda:0', grad_fn=<CatBackward>)\n",
            "   Training:   loss: 415.785420  |  TP: 0.837933 | TN: 0.823211 | FP: 0.176789 | FN: 0.162067\n",
            "   Validation: loss: 410.790941  |  TP: 0.737513 | TN: 0.880351 | FP: 0.119649 | FN: 0.262487\n",
            "Epoch  7\n",
            "tensor([[6.2880e-01, 0.0000e+00],\n",
            "        [3.9928e-03, 0.0000e+00],\n",
            "        [4.1432e-04, 0.0000e+00],\n",
            "        ...,\n",
            "        [8.3419e-04, 0.0000e+00],\n",
            "        [5.6668e-03, 0.0000e+00],\n",
            "        [8.8330e-01, 0.0000e+00]], device='cuda:0', grad_fn=<CatBackward>)\n",
            "   Training:   loss: 415.289149  |  TP: 0.826270 | TN: 0.837569 | FP: 0.162431 | FN: 0.173730\n",
            "   Validation: loss: 429.404796  |  TP: 0.880111 | TN: 0.832690 | FP: 0.167310 | FN: 0.119889\n",
            "Epoch  8\n",
            "tensor([[3.7371e-02, 0.0000e+00],\n",
            "        [8.6934e-01, 0.0000e+00],\n",
            "        [2.9069e-07, 0.0000e+00],\n",
            "        ...,\n",
            "        [1.3290e-09, 0.0000e+00],\n",
            "        [2.2476e-06, 0.0000e+00],\n",
            "        [2.2235e-14, 0.0000e+00]], device='cuda:0', grad_fn=<CatBackward>)\n",
            "   Training:   loss: 402.172844  |  TP: 0.872038 | TN: 0.860592 | FP: 0.139408 | FN: 0.127962\n",
            "   Validation: loss: 412.627808  |  TP: 0.861897 | TN: 0.890431 | FP: 0.109569 | FN: 0.138103\n",
            "Epoch  9\n",
            "tensor([[3.4684e-10, 0.0000e+00],\n",
            "        [1.4800e-08, 0.0000e+00],\n",
            "        [2.4064e-05, 0.0000e+00],\n",
            "        ...,\n",
            "        [0.0000e+00, 0.0000e+00],\n",
            "        [0.0000e+00, 0.0000e+00],\n",
            "        [0.0000e+00, 0.0000e+00]], device='cuda:0', grad_fn=<CatBackward>)\n",
            "   Training:   loss: 400.390627  |  TP: 0.883097 | TN: 0.860649 | FP: 0.139351 | FN: 0.116903\n",
            "   Validation: loss: 427.857908  |  TP: 0.939237 | TN: 0.831326 | FP: 0.168674 | FN: 0.060763\n",
            "Epoch  10\n",
            "tensor([[1.1693e-04, 0.0000e+00],\n",
            "        [2.6307e-10, 0.0000e+00],\n",
            "        [9.9420e-01, 0.0000e+00],\n",
            "        ...,\n",
            "        [2.8779e-04, 0.0000e+00],\n",
            "        [8.1658e-02, 0.0000e+00],\n",
            "        [3.9919e-10, 0.0000e+00]], device='cuda:0', grad_fn=<CatBackward>)\n",
            "   Training:   loss: 401.382966  |  TP: 0.873790 | TN: 0.862502 | FP: 0.137498 | FN: 0.126210\n",
            "   Validation: loss: 387.524199  |  TP: 0.876708 | TN: 0.891167 | FP: 0.108833 | FN: 0.123292\n",
            "Epoch  11\n",
            "tensor([[4.1327e-18, 0.0000e+00],\n",
            "        [9.9988e-01, 0.0000e+00],\n",
            "        [9.9233e-01, 0.0000e+00],\n",
            "        ...,\n",
            "        [9.3898e-03, 0.0000e+00],\n",
            "        [2.2245e-05, 0.0000e+00],\n",
            "        [2.3670e-09, 0.0000e+00]], device='cuda:0', grad_fn=<CatBackward>)\n",
            "   Training:   loss: 393.439037  |  TP: 0.901710 | TN: 0.879812 | FP: 0.120188 | FN: 0.098290\n"
          ],
          "name": "stdout"
        }
      ]
    },
    {
      "cell_type": "code",
      "metadata": {
        "id": "1m3SfooNvXBA",
        "colab_type": "code",
        "colab": {}
      },
      "source": [
        "# from scipy.special import expit, logit\n",
        "\n",
        "# fig,ax = plt.subplots(1,2,figsize=(6,3),dpi=150)\n",
        "\n",
        "# ax[0].set_title('Target')\n",
        "# ax[1].set_title('Model Prediction')\n",
        "\n",
        "# net.eval()\n",
        "# net.cpu()\n",
        "\n",
        "# dgl_g = test_ds[5578][0]\n",
        "\n",
        "# output_pred = net(dgl_g).data.numpy()\n",
        "\n",
        "# nx_graph = dgl.to_networkx(dgl_g)\n",
        "# pos = {i: dgl_g.ndata['node_features'][i][:2].data.numpy() for i in range(len(dgl_g.ndata['node_features']))} #nx.spring_layout(nx_graph)\n",
        "# edge_list = [e for i,e in enumerate(nx_graph.edges) if dgl_g.edata['on_path'][i]==1]\n",
        "\n",
        "# edge_widths = np.array([expit(output_pred[i][0]) for i in range(len(output_pred))])\n",
        "# predicted_edge_list = [e for i,e in enumerate(nx_graph.edges) if expit(output_pred[i])[0]>=0.5]\n",
        "\n",
        "# pos = nx.spring_layout(nx_graph)\n",
        "\n",
        "\n",
        "# nx.draw( nx_graph ,pos=pos ,ax=ax[0] ,node_size=5,arrows=False)\n",
        "# nx.draw_networkx_edges(nx_graph,pos=pos,edgelist=edge_list,width=2,edge_color='r',ax=ax[0],arrows=False)\n",
        "\n",
        "# nx.draw( nx_graph ,pos=pos ,ax=ax[1] ,node_size=5,arrows=False)\n",
        "# nx.draw_networkx_edges(nx_graph,pos=pos,edgelist=predicted_edge_list,width=2,edge_color='r',ax=ax[1],arrows=False)\n",
        "\n",
        "# plt.show()"
      ],
      "execution_count": null,
      "outputs": []
    },
    {
      "cell_type": "code",
      "metadata": {
        "id": "vxfXNlXDvXBi",
        "colab_type": "code",
        "colab": {}
      },
      "source": [
        "# net.eval()\n",
        "\n",
        "# true_positive = 0\n",
        "# false_positive = 0\n",
        "# true_negative = 0\n",
        "# false_negative = 0\n",
        "# total_positives = 0\n",
        "# total_negatives = 0\n",
        "\n",
        "# for i, (x,y) in enumerate(test_data_loader):\n",
        "        \n",
        "#         y = y.data.numpy()\n",
        "\n",
        "#         prediction = net(x).cpu().data.numpy()\n",
        "        \n",
        "#         prediction[prediction >= 0.5] = 1\n",
        "#         prediction[prediction <0.5] = 0\n",
        "        \n",
        "#         total_positives+=len(np.where( y==1 )[0])\n",
        "#         total_negatives+=len(np.where( y==0 )[0])\n",
        "        \n",
        "#         true_positive+= len(np.where( (prediction==y) & (y==1) )[0])\n",
        "#         true_negative+= len(np.where( (prediction==y) & (y==0) )[0])\n",
        "#         false_positive+= len(np.where( (prediction!=y) & (y==0) )[0])\n",
        "#         false_negative+= len(np.where( (prediction!=y) & (y==1) )[0])\n",
        "        \n",
        "        \n",
        "# print(true_positive/total_positives)\n",
        "# print(false_negative/total_positives)\n",
        "# print(true_negative/total_negatives)\n",
        "# print(false_positive/total_negatives)"
      ],
      "execution_count": null,
      "outputs": []
    },
    {
      "cell_type": "code",
      "metadata": {
        "id": "pIhRZ2BavXDH",
        "colab_type": "code",
        "colab": {}
      },
      "source": [
        "# import torch as th\n",
        "# g = dgl.DGLGraph()\n",
        "# g.add_nodes(3)\n",
        "# g.add_edges([0, 1], [1, 2])   # 0 -> 1, 1 -> 2\n",
        "# g.edata['y'] = th.ones(2, 1)\n",
        "# # Doubles the edge feature.\n",
        "# def double_feature(edges): return {'y': edges.data['y'] * 2}\n",
        "# g.apply_edges(func=double_feature, edges=0) # Apply func to the first edge.\n",
        "# print(g.edata)\n",
        "# nx.draw( dgl.to_networkx(g) )"
      ],
      "execution_count": null,
      "outputs": []
    },
    {
      "cell_type": "code",
      "metadata": {
        "id": "iuaLdITWvXDh",
        "colab_type": "code",
        "colab": {}
      },
      "source": [
        ""
      ],
      "execution_count": null,
      "outputs": []
    },
    {
      "cell_type": "code",
      "metadata": {
        "id": "5K5Yka6EvXD_",
        "colab_type": "code",
        "colab": {}
      },
      "source": [
        ""
      ],
      "execution_count": null,
      "outputs": []
    },
    {
      "cell_type": "code",
      "metadata": {
        "id": "D-6ZMBF9vXFA",
        "colab_type": "code",
        "colab": {}
      },
      "source": [
        "# a = torch.rand(2,3)\n",
        "# b = torch.rand(2,1)\n",
        "# c = torch.rand(2,3)\n",
        "\n",
        "# d = torch.cat((a,b,c), 1)\n",
        "# d"
      ],
      "execution_count": null,
      "outputs": []
    },
    {
      "cell_type": "code",
      "metadata": {
        "id": "jdZuLMEQvXFZ",
        "colab_type": "code",
        "colab": {}
      },
      "source": [
        "# d.max(1)"
      ],
      "execution_count": null,
      "outputs": []
    },
    {
      "cell_type": "code",
      "metadata": {
        "id": "R12JQFEpvXFr",
        "colab_type": "code",
        "colab": {}
      },
      "source": [
        ""
      ],
      "execution_count": null,
      "outputs": []
    },
    {
      "cell_type": "code",
      "metadata": {
        "id": "XDZk4YJNvXGo",
        "colab_type": "code",
        "colab": {}
      },
      "source": [
        ""
      ],
      "execution_count": null,
      "outputs": []
    },
    {
      "cell_type": "code",
      "metadata": {
        "id": "iZiWtlusvXG3",
        "colab_type": "code",
        "colab": {}
      },
      "source": [
        ""
      ],
      "execution_count": null,
      "outputs": []
    },
    {
      "cell_type": "code",
      "metadata": {
        "id": "n0YVDWkqvXHH",
        "colab_type": "code",
        "colab": {}
      },
      "source": [
        ""
      ],
      "execution_count": null,
      "outputs": []
    },
    {
      "cell_type": "code",
      "metadata": {
        "id": "PZ3TrrS-vXHY",
        "colab_type": "code",
        "colab": {}
      },
      "source": [
        ""
      ],
      "execution_count": null,
      "outputs": []
    },
    {
      "cell_type": "code",
      "metadata": {
        "id": "yNSa1e7bvXHy",
        "colab_type": "code",
        "colab": {}
      },
      "source": [
        ""
      ],
      "execution_count": null,
      "outputs": []
    },
    {
      "cell_type": "code",
      "metadata": {
        "id": "k_JwXPvqvXIQ",
        "colab_type": "code",
        "colab": {}
      },
      "source": [
        ""
      ],
      "execution_count": null,
      "outputs": []
    },
    {
      "cell_type": "code",
      "metadata": {
        "id": "Puqs1r73vXIy",
        "colab_type": "code",
        "colab": {}
      },
      "source": [
        ""
      ],
      "execution_count": null,
      "outputs": []
    }
  ]
}